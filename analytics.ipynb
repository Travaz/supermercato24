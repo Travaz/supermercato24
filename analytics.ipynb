{
 "cells": [
  {
   "cell_type": "markdown",
   "metadata": {},
   "source": [
    "# Analytics - Linear Regression Challenge"
   ]
  },
  {
   "cell_type": "markdown",
   "metadata": {},
   "source": [
    "Common end-to-end ML project schedule\n",
    "\n",
    "    (1) Look at the Big Picture\n",
    "            Frame the Problem\n",
    "            Select a Performance Measure\n",
    "            Check the Assumptions\n",
    "    (2) Get the Data\n",
    "            Create the Workspace\n",
    "            Download the Data\n",
    "            Take a Quick Look at the Data Structure\n",
    "            Create a Test Set\n",
    "    (3) Discover and Visualize the Data to Gain Insights\n",
    "            Visualizing Geographical Data\n",
    "            Looking for Correlations\n",
    "            Experimenting with Attribute Combinations\n",
    "    (4) Prepare the Data for Machine Learning Algorithms\n",
    "            Data Cleaning\n",
    "            Handling Text and Categorical Attributes\n",
    "            Custom Transformers\n",
    "            Feature Scaling\n",
    "            Transformation Pipelines\n",
    "    (5) Select and Train a Model\n",
    "            Training and Evaluating on the Training Set\n",
    "            Better Evaluation Using Cross-Validation\n",
    "    (6) Fine-Tune Your Model\n",
    "            Grid Search\n",
    "            Randomized Search\n",
    "            Ensemble Methods (Random forest and Gradient Boosting)\n",
    "            Analyze the Best Models and Their Errors\n",
    "            Evaluate Your System on the Test Set\n"
   ]
  },
  {
   "cell_type": "markdown",
   "metadata": {},
   "source": [
    "(TODO) My Index: \n",
    "\n",
    "    (1) Description of the challenge\n",
    "    (2) Data description \n",
    "    (3) Data visualization \n",
    "    (4) Data preprocessing -> Pipeline\n",
    "    (5) Scope definition\n",
    "    (6) Models definition\n",
    "    (7) Model-tuning and cross-validation for optimization!\n",
    "    (8) Conclusions"
   ]
  },
  {
   "cell_type": "markdown",
   "metadata": {},
   "source": [
    "## (1) Challenge description"
   ]
  },
  {
   "cell_type": "markdown",
   "metadata": {},
   "source": [
    "### (TODO) Here we provide a little overview of what we are required to do with my own words (rephrase the problem)"
   ]
  },
  {
   "cell_type": "markdown",
   "metadata": {},
   "source": [
    "Here attached a csv file containing a sample dataset consisting in (x, y) pairs on which you’ll have to perform a regression task. Here’s what you’ll need to do:\n",
    "\n",
    "    1.\tOpen the file and read the data.\n",
    "    2.\tClean the data if needed.\n",
    "    3.\tPlot the data.\n",
    "    4.\tFit two different regression models to the data (e.g. curves belonging to two different families).\n",
    "    5.\tChoose a metric for the evaluation of the models and perform the evaluation using cross-validation.\n",
    "    6.\tPlot the predictions from the best model against the data.\n",
    "\n",
    "We ask you to work in a Jupyter notebook specifying the versions of Python (version 3.x please) and all libraries you use: when you’re done send us the notebook and we’ll execute it and check the results. As an alternative, you can also work in a script: just make sure the results from cross-validation are printed to screen when we execute it via the terminal, and that the plots get saved as files in png format in the same directory containing the script (send us a compressed archive with the script and the plots you produced).\n"
   ]
  },
  {
   "cell_type": "markdown",
   "metadata": {},
   "source": [
    "## (2) Dataset overview"
   ]
  },
  {
   "cell_type": "markdown",
   "metadata": {},
   "source": [
    "### (TODO) In this section we are going to load the data, conduct a preliminary analysis on the main characteristics of the data provided to get a sense on how we should proceed in our analysis (data to be cleaned? standardization vs. normalization? univariate vs. bivariate analysis?)"
   ]
  },
  {
   "cell_type": "markdown",
   "metadata": {},
   "source": [
    "## (3) Data visualization"
   ]
  },
  {
   "cell_type": "markdown",
   "metadata": {},
   "source": [
    "#### (TODO) Data visualization is a fundamental step in order to further explore the relationship between predictor(s) and target variable"
   ]
  },
  {
   "cell_type": "markdown",
   "metadata": {},
   "source": [
    "## (4) Data preprocessing "
   ]
  },
  {
   "cell_type": "markdown",
   "metadata": {},
   "source": [
    "#### (TODO) Data preprocessing step will enable us to get our hands on the data and to correct them in order to avoid as much as possible pitfalls in modeling   "
   ]
  },
  {
   "cell_type": "markdown",
   "metadata": {},
   "source": [
    "## (5) Model Definition"
   ]
  },
  {
   "cell_type": "markdown",
   "metadata": {},
   "source": [
    "#### (TODO) Based on the analysis we have conducted so far, we want to pick the best model that represents the relationship between the explanatory (x) and the dependent variable (y)"
   ]
  },
  {
   "cell_type": "markdown",
   "metadata": {},
   "source": [
    "## (6) Model tuning and cross-validation for optimization"
   ]
  },
  {
   "cell_type": "markdown",
   "metadata": {},
   "source": [
    "#### (TODO) Is the model we picked the best we could possibly pick? We might need to twist a little the parameters in order to get the best model and at the same time we wish to take care of underfitting vs. overfitting and bias-variance trade-off issues "
   ]
  },
  {
   "cell_type": "markdown",
   "metadata": {},
   "source": [
    "## (7) Metrics evaluation"
   ]
  },
  {
   "cell_type": "markdown",
   "metadata": {},
   "source": [
    "#### (TODO) MSE? RMSE? How should we evaluate the model performance? This might be included in cross-valudation and optimization of hyperparameters (such as the the polynomial line or regression!)"
   ]
  },
  {
   "cell_type": "markdown",
   "metadata": {},
   "source": [
    "## (8) Conclusions"
   ]
  },
  {
   "cell_type": "markdown",
   "metadata": {},
   "source": [
    "#### (TODO) What can we conclude from this analysis? Write a little description summarizing the findings and how we approach a final solution"
   ]
  },
  {
   "cell_type": "markdown",
   "metadata": {},
   "source": [
    "# (NO NEED TO LOOK BELOW HERE!) The rest? Is trial-and-error. Wish to follow the schedule delined in order to exploit a full end-to-end ML analysis!"
   ]
  },
  {
   "cell_type": "code",
   "execution_count": 18,
   "metadata": {},
   "outputs": [],
   "source": [
    "import pandas as pd\n",
    "import matplotlib.pyplot as plt"
   ]
  },
  {
   "cell_type": "code",
   "execution_count": 3,
   "metadata": {},
   "outputs": [
    {
     "output_type": "execute_result",
     "data": {
      "text/plain": "           x           y\n0   8.519119   48.073811\n1  12.059918  302.657224\n2  11.547357  247.531965\n3  10.383055  127.686318\n4   8.492261   55.086710",
      "text/html": "<div>\n<style scoped>\n    .dataframe tbody tr th:only-of-type {\n        vertical-align: middle;\n    }\n\n    .dataframe tbody tr th {\n        vertical-align: top;\n    }\n\n    .dataframe thead th {\n        text-align: right;\n    }\n</style>\n<table border=\"1\" class=\"dataframe\">\n  <thead>\n    <tr style=\"text-align: right;\">\n      <th></th>\n      <th>x</th>\n      <th>y</th>\n    </tr>\n  </thead>\n  <tbody>\n    <tr>\n      <th>0</th>\n      <td>8.519119</td>\n      <td>48.073811</td>\n    </tr>\n    <tr>\n      <th>1</th>\n      <td>12.059918</td>\n      <td>302.657224</td>\n    </tr>\n    <tr>\n      <th>2</th>\n      <td>11.547357</td>\n      <td>247.531965</td>\n    </tr>\n    <tr>\n      <th>3</th>\n      <td>10.383055</td>\n      <td>127.686318</td>\n    </tr>\n    <tr>\n      <th>4</th>\n      <td>8.492261</td>\n      <td>55.086710</td>\n    </tr>\n  </tbody>\n</table>\n</div>"
     },
     "metadata": {},
     "execution_count": 3
    }
   ],
   "source": [
    "# Read the dataset and get a first overview\n",
    "df = pd.read_csv(\"analytics_task_data.csv\")\n",
    "df.head()"
   ]
  },
  {
   "cell_type": "markdown",
   "metadata": {},
   "source": [
    "(TODO: Improve description) The dataset presents two variables: x and y. We are then asked to fit a line with a simple linear regression model in order to be"
   ]
  },
  {
   "cell_type": "code",
   "execution_count": 4,
   "metadata": {},
   "outputs": [
    {
     "output_type": "execute_result",
     "data": {
      "text/plain": "           x           y\n0   8.519119   48.073811\n1  12.059918  302.657224\n2  11.547357  247.531965\n3  10.383055  127.686318\n4   8.492261   55.086710",
      "text/html": "<div>\n<style scoped>\n    .dataframe tbody tr th:only-of-type {\n        vertical-align: middle;\n    }\n\n    .dataframe tbody tr th {\n        vertical-align: top;\n    }\n\n    .dataframe thead th {\n        text-align: right;\n    }\n</style>\n<table border=\"1\" class=\"dataframe\">\n  <thead>\n    <tr style=\"text-align: right;\">\n      <th></th>\n      <th>x</th>\n      <th>y</th>\n    </tr>\n  </thead>\n  <tbody>\n    <tr>\n      <th>0</th>\n      <td>8.519119</td>\n      <td>48.073811</td>\n    </tr>\n    <tr>\n      <th>1</th>\n      <td>12.059918</td>\n      <td>302.657224</td>\n    </tr>\n    <tr>\n      <th>2</th>\n      <td>11.547357</td>\n      <td>247.531965</td>\n    </tr>\n    <tr>\n      <th>3</th>\n      <td>10.383055</td>\n      <td>127.686318</td>\n    </tr>\n    <tr>\n      <th>4</th>\n      <td>8.492261</td>\n      <td>55.086710</td>\n    </tr>\n  </tbody>\n</table>\n</div>"
     },
     "metadata": {},
     "execution_count": 4
    }
   ],
   "source": [
    "# Get the first few rows\n",
    "df.head()"
   ]
  },
  {
   "cell_type": "code",
   "execution_count": 10,
   "metadata": {},
   "outputs": [],
   "source": [
    "df.dropna(axis=0,inplace=True)"
   ]
  },
  {
   "cell_type": "code",
   "execution_count": 13,
   "metadata": {},
   "outputs": [
    {
     "output_type": "execute_result",
     "data": {
      "text/plain": "x    0\ny    0\ndtype: int64"
     },
     "metadata": {},
     "execution_count": 13
    }
   ],
   "source": [
    "df.isnull().sum()"
   ]
  },
  {
   "cell_type": "code",
   "execution_count": null,
   "metadata": {},
   "outputs": [],
   "source": []
  },
  {
   "cell_type": "code",
   "execution_count": 19,
   "metadata": {},
   "outputs": [
    {
     "output_type": "execute_result",
     "data": {
      "text/plain": "Text(0, 0.5, 'y')"
     },
     "metadata": {},
     "execution_count": 19
    },
    {
     "output_type": "display_data",
     "data": {
      "text/plain": "<Figure size 432x288 with 1 Axes>",
      "image/svg+xml": "<?xml version=\"1.0\" encoding=\"utf-8\" standalone=\"no\"?>\r\n<!DOCTYPE svg PUBLIC \"-//W3C//DTD SVG 1.1//EN\"\r\n  \"http://www.w3.org/Graphics/SVG/1.1/DTD/svg11.dtd\">\r\n<!-- Created with matplotlib (https://matplotlib.org/) -->\r\n<svg height=\"277.314375pt\" version=\"1.1\" viewBox=\"0 0 388.965625 277.314375\" width=\"388.965625pt\" xmlns=\"http://www.w3.org/2000/svg\" xmlns:xlink=\"http://www.w3.org/1999/xlink\">\r\n <defs>\r\n  <style type=\"text/css\">\r\n*{stroke-linecap:butt;stroke-linejoin:round;}\r\n  </style>\r\n </defs>\r\n <g id=\"figure_1\">\r\n  <g id=\"patch_1\">\r\n   <path d=\"M -0 277.314375 \r\nL 388.965625 277.314375 \r\nL 388.965625 0 \r\nL -0 0 \r\nz\r\n\" style=\"fill:none;\"/>\r\n  </g>\r\n  <g id=\"axes_1\">\r\n   <g id=\"patch_2\">\r\n    <path d=\"M 46.965625 239.758125 \r\nL 381.765625 239.758125 \r\nL 381.765625 22.318125 \r\nL 46.965625 22.318125 \r\nz\r\n\" style=\"fill:#ffffff;\"/>\r\n   </g>\r\n   <g id=\"matplotlib.axis_1\">\r\n    <g id=\"xtick_1\">\r\n     <g id=\"line2d_1\">\r\n      <defs>\r\n       <path d=\"M 0 0 \r\nL 0 3.5 \r\n\" id=\"m3e05af4a16\" style=\"stroke:#000000;stroke-width:0.8;\"/>\r\n      </defs>\r\n      <g>\r\n       <use style=\"stroke:#000000;stroke-width:0.8;\" x=\"61.751294\" xlink:href=\"#m3e05af4a16\" y=\"239.758125\"/>\r\n      </g>\r\n     </g>\r\n     <g id=\"text_1\">\r\n      <!-- 7 -->\r\n      <defs>\r\n       <path d=\"M 8.203125 72.90625 \r\nL 55.078125 72.90625 \r\nL 55.078125 68.703125 \r\nL 28.609375 0 \r\nL 18.3125 0 \r\nL 43.21875 64.59375 \r\nL 8.203125 64.59375 \r\nz\r\n\" id=\"DejaVuSans-55\"/>\r\n      </defs>\r\n      <g transform=\"translate(58.570044 254.356562)scale(0.1 -0.1)\">\r\n       <use xlink:href=\"#DejaVuSans-55\"/>\r\n      </g>\r\n     </g>\r\n    </g>\r\n    <g id=\"xtick_2\">\r\n     <g id=\"line2d_2\">\r\n      <g>\r\n       <use style=\"stroke:#000000;stroke-width:0.8;\" x=\"117.179139\" xlink:href=\"#m3e05af4a16\" y=\"239.758125\"/>\r\n      </g>\r\n     </g>\r\n     <g id=\"text_2\">\r\n      <!-- 8 -->\r\n      <defs>\r\n       <path d=\"M 31.78125 34.625 \r\nQ 24.75 34.625 20.71875 30.859375 \r\nQ 16.703125 27.09375 16.703125 20.515625 \r\nQ 16.703125 13.921875 20.71875 10.15625 \r\nQ 24.75 6.390625 31.78125 6.390625 \r\nQ 38.8125 6.390625 42.859375 10.171875 \r\nQ 46.921875 13.96875 46.921875 20.515625 \r\nQ 46.921875 27.09375 42.890625 30.859375 \r\nQ 38.875 34.625 31.78125 34.625 \r\nz\r\nM 21.921875 38.8125 \r\nQ 15.578125 40.375 12.03125 44.71875 \r\nQ 8.5 49.078125 8.5 55.328125 \r\nQ 8.5 64.0625 14.71875 69.140625 \r\nQ 20.953125 74.21875 31.78125 74.21875 \r\nQ 42.671875 74.21875 48.875 69.140625 \r\nQ 55.078125 64.0625 55.078125 55.328125 \r\nQ 55.078125 49.078125 51.53125 44.71875 \r\nQ 48 40.375 41.703125 38.8125 \r\nQ 48.828125 37.15625 52.796875 32.3125 \r\nQ 56.78125 27.484375 56.78125 20.515625 \r\nQ 56.78125 9.90625 50.3125 4.234375 \r\nQ 43.84375 -1.421875 31.78125 -1.421875 \r\nQ 19.734375 -1.421875 13.25 4.234375 \r\nQ 6.78125 9.90625 6.78125 20.515625 \r\nQ 6.78125 27.484375 10.78125 32.3125 \r\nQ 14.796875 37.15625 21.921875 38.8125 \r\nz\r\nM 18.3125 54.390625 \r\nQ 18.3125 48.734375 21.84375 45.5625 \r\nQ 25.390625 42.390625 31.78125 42.390625 \r\nQ 38.140625 42.390625 41.71875 45.5625 \r\nQ 45.3125 48.734375 45.3125 54.390625 \r\nQ 45.3125 60.0625 41.71875 63.234375 \r\nQ 38.140625 66.40625 31.78125 66.40625 \r\nQ 25.390625 66.40625 21.84375 63.234375 \r\nQ 18.3125 60.0625 18.3125 54.390625 \r\nz\r\n\" id=\"DejaVuSans-56\"/>\r\n      </defs>\r\n      <g transform=\"translate(113.997889 254.356562)scale(0.1 -0.1)\">\r\n       <use xlink:href=\"#DejaVuSans-56\"/>\r\n      </g>\r\n     </g>\r\n    </g>\r\n    <g id=\"xtick_3\">\r\n     <g id=\"line2d_3\">\r\n      <g>\r\n       <use style=\"stroke:#000000;stroke-width:0.8;\" x=\"172.606983\" xlink:href=\"#m3e05af4a16\" y=\"239.758125\"/>\r\n      </g>\r\n     </g>\r\n     <g id=\"text_3\">\r\n      <!-- 9 -->\r\n      <defs>\r\n       <path d=\"M 10.984375 1.515625 \r\nL 10.984375 10.5 \r\nQ 14.703125 8.734375 18.5 7.8125 \r\nQ 22.3125 6.890625 25.984375 6.890625 \r\nQ 35.75 6.890625 40.890625 13.453125 \r\nQ 46.046875 20.015625 46.78125 33.40625 \r\nQ 43.953125 29.203125 39.59375 26.953125 \r\nQ 35.25 24.703125 29.984375 24.703125 \r\nQ 19.046875 24.703125 12.671875 31.3125 \r\nQ 6.296875 37.9375 6.296875 49.421875 \r\nQ 6.296875 60.640625 12.9375 67.421875 \r\nQ 19.578125 74.21875 30.609375 74.21875 \r\nQ 43.265625 74.21875 49.921875 64.515625 \r\nQ 56.59375 54.828125 56.59375 36.375 \r\nQ 56.59375 19.140625 48.40625 8.859375 \r\nQ 40.234375 -1.421875 26.421875 -1.421875 \r\nQ 22.703125 -1.421875 18.890625 -0.6875 \r\nQ 15.09375 0.046875 10.984375 1.515625 \r\nz\r\nM 30.609375 32.421875 \r\nQ 37.25 32.421875 41.125 36.953125 \r\nQ 45.015625 41.5 45.015625 49.421875 \r\nQ 45.015625 57.28125 41.125 61.84375 \r\nQ 37.25 66.40625 30.609375 66.40625 \r\nQ 23.96875 66.40625 20.09375 61.84375 \r\nQ 16.21875 57.28125 16.21875 49.421875 \r\nQ 16.21875 41.5 20.09375 36.953125 \r\nQ 23.96875 32.421875 30.609375 32.421875 \r\nz\r\n\" id=\"DejaVuSans-57\"/>\r\n      </defs>\r\n      <g transform=\"translate(169.425733 254.356562)scale(0.1 -0.1)\">\r\n       <use xlink:href=\"#DejaVuSans-57\"/>\r\n      </g>\r\n     </g>\r\n    </g>\r\n    <g id=\"xtick_4\">\r\n     <g id=\"line2d_4\">\r\n      <g>\r\n       <use style=\"stroke:#000000;stroke-width:0.8;\" x=\"228.034827\" xlink:href=\"#m3e05af4a16\" y=\"239.758125\"/>\r\n      </g>\r\n     </g>\r\n     <g id=\"text_4\">\r\n      <!-- 10 -->\r\n      <defs>\r\n       <path d=\"M 12.40625 8.296875 \r\nL 28.515625 8.296875 \r\nL 28.515625 63.921875 \r\nL 10.984375 60.40625 \r\nL 10.984375 69.390625 \r\nL 28.421875 72.90625 \r\nL 38.28125 72.90625 \r\nL 38.28125 8.296875 \r\nL 54.390625 8.296875 \r\nL 54.390625 0 \r\nL 12.40625 0 \r\nz\r\n\" id=\"DejaVuSans-49\"/>\r\n       <path d=\"M 31.78125 66.40625 \r\nQ 24.171875 66.40625 20.328125 58.90625 \r\nQ 16.5 51.421875 16.5 36.375 \r\nQ 16.5 21.390625 20.328125 13.890625 \r\nQ 24.171875 6.390625 31.78125 6.390625 \r\nQ 39.453125 6.390625 43.28125 13.890625 \r\nQ 47.125 21.390625 47.125 36.375 \r\nQ 47.125 51.421875 43.28125 58.90625 \r\nQ 39.453125 66.40625 31.78125 66.40625 \r\nz\r\nM 31.78125 74.21875 \r\nQ 44.046875 74.21875 50.515625 64.515625 \r\nQ 56.984375 54.828125 56.984375 36.375 \r\nQ 56.984375 17.96875 50.515625 8.265625 \r\nQ 44.046875 -1.421875 31.78125 -1.421875 \r\nQ 19.53125 -1.421875 13.0625 8.265625 \r\nQ 6.59375 17.96875 6.59375 36.375 \r\nQ 6.59375 54.828125 13.0625 64.515625 \r\nQ 19.53125 74.21875 31.78125 74.21875 \r\nz\r\n\" id=\"DejaVuSans-48\"/>\r\n      </defs>\r\n      <g transform=\"translate(221.672327 254.356562)scale(0.1 -0.1)\">\r\n       <use xlink:href=\"#DejaVuSans-49\"/>\r\n       <use x=\"63.623047\" xlink:href=\"#DejaVuSans-48\"/>\r\n      </g>\r\n     </g>\r\n    </g>\r\n    <g id=\"xtick_5\">\r\n     <g id=\"line2d_5\">\r\n      <g>\r\n       <use style=\"stroke:#000000;stroke-width:0.8;\" x=\"283.462672\" xlink:href=\"#m3e05af4a16\" y=\"239.758125\"/>\r\n      </g>\r\n     </g>\r\n     <g id=\"text_5\">\r\n      <!-- 11 -->\r\n      <g transform=\"translate(277.100172 254.356562)scale(0.1 -0.1)\">\r\n       <use xlink:href=\"#DejaVuSans-49\"/>\r\n       <use x=\"63.623047\" xlink:href=\"#DejaVuSans-49\"/>\r\n      </g>\r\n     </g>\r\n    </g>\r\n    <g id=\"xtick_6\">\r\n     <g id=\"line2d_6\">\r\n      <g>\r\n       <use style=\"stroke:#000000;stroke-width:0.8;\" x=\"338.890516\" xlink:href=\"#m3e05af4a16\" y=\"239.758125\"/>\r\n      </g>\r\n     </g>\r\n     <g id=\"text_6\">\r\n      <!-- 12 -->\r\n      <defs>\r\n       <path d=\"M 19.1875 8.296875 \r\nL 53.609375 8.296875 \r\nL 53.609375 0 \r\nL 7.328125 0 \r\nL 7.328125 8.296875 \r\nQ 12.9375 14.109375 22.625 23.890625 \r\nQ 32.328125 33.6875 34.8125 36.53125 \r\nQ 39.546875 41.84375 41.421875 45.53125 \r\nQ 43.3125 49.21875 43.3125 52.78125 \r\nQ 43.3125 58.59375 39.234375 62.25 \r\nQ 35.15625 65.921875 28.609375 65.921875 \r\nQ 23.96875 65.921875 18.8125 64.3125 \r\nQ 13.671875 62.703125 7.8125 59.421875 \r\nL 7.8125 69.390625 \r\nQ 13.765625 71.78125 18.9375 73 \r\nQ 24.125 74.21875 28.421875 74.21875 \r\nQ 39.75 74.21875 46.484375 68.546875 \r\nQ 53.21875 62.890625 53.21875 53.421875 \r\nQ 53.21875 48.921875 51.53125 44.890625 \r\nQ 49.859375 40.875 45.40625 35.40625 \r\nQ 44.1875 33.984375 37.640625 27.21875 \r\nQ 31.109375 20.453125 19.1875 8.296875 \r\nz\r\n\" id=\"DejaVuSans-50\"/>\r\n      </defs>\r\n      <g transform=\"translate(332.528016 254.356562)scale(0.1 -0.1)\">\r\n       <use xlink:href=\"#DejaVuSans-49\"/>\r\n       <use x=\"63.623047\" xlink:href=\"#DejaVuSans-50\"/>\r\n      </g>\r\n     </g>\r\n    </g>\r\n    <g id=\"text_7\">\r\n     <!-- x -->\r\n     <defs>\r\n      <path d=\"M 54.890625 54.6875 \r\nL 35.109375 28.078125 \r\nL 55.90625 0 \r\nL 45.3125 0 \r\nL 29.390625 21.484375 \r\nL 13.484375 0 \r\nL 2.875 0 \r\nL 24.125 28.609375 \r\nL 4.6875 54.6875 \r\nL 15.28125 54.6875 \r\nL 29.78125 35.203125 \r\nL 44.28125 54.6875 \r\nz\r\n\" id=\"DejaVuSans-120\"/>\r\n     </defs>\r\n     <g transform=\"translate(211.40625 268.034687)scale(0.1 -0.1)\">\r\n      <use xlink:href=\"#DejaVuSans-120\"/>\r\n     </g>\r\n    </g>\r\n   </g>\r\n   <g id=\"matplotlib.axis_2\">\r\n    <g id=\"ytick_1\">\r\n     <g id=\"line2d_7\">\r\n      <defs>\r\n       <path d=\"M 0 0 \r\nL -3.5 0 \r\n\" id=\"m2d3e2f94b7\" style=\"stroke:#000000;stroke-width:0.8;\"/>\r\n      </defs>\r\n      <g>\r\n       <use style=\"stroke:#000000;stroke-width:0.8;\" x=\"46.965625\" xlink:href=\"#m2d3e2f94b7\" y=\"235.522863\"/>\r\n      </g>\r\n     </g>\r\n     <g id=\"text_8\">\r\n      <!-- 0 -->\r\n      <g transform=\"translate(33.603125 239.322082)scale(0.1 -0.1)\">\r\n       <use xlink:href=\"#DejaVuSans-48\"/>\r\n      </g>\r\n     </g>\r\n    </g>\r\n    <g id=\"ytick_2\">\r\n     <g id=\"line2d_8\">\r\n      <g>\r\n       <use style=\"stroke:#000000;stroke-width:0.8;\" x=\"46.965625\" xlink:href=\"#m2d3e2f94b7\" y=\"208.481447\"/>\r\n      </g>\r\n     </g>\r\n     <g id=\"text_9\">\r\n      <!-- 50 -->\r\n      <defs>\r\n       <path d=\"M 10.796875 72.90625 \r\nL 49.515625 72.90625 \r\nL 49.515625 64.59375 \r\nL 19.828125 64.59375 \r\nL 19.828125 46.734375 \r\nQ 21.96875 47.46875 24.109375 47.828125 \r\nQ 26.265625 48.1875 28.421875 48.1875 \r\nQ 40.625 48.1875 47.75 41.5 \r\nQ 54.890625 34.8125 54.890625 23.390625 \r\nQ 54.890625 11.625 47.5625 5.09375 \r\nQ 40.234375 -1.421875 26.90625 -1.421875 \r\nQ 22.3125 -1.421875 17.546875 -0.640625 \r\nQ 12.796875 0.140625 7.71875 1.703125 \r\nL 7.71875 11.625 \r\nQ 12.109375 9.234375 16.796875 8.0625 \r\nQ 21.484375 6.890625 26.703125 6.890625 \r\nQ 35.15625 6.890625 40.078125 11.328125 \r\nQ 45.015625 15.765625 45.015625 23.390625 \r\nQ 45.015625 31 40.078125 35.4375 \r\nQ 35.15625 39.890625 26.703125 39.890625 \r\nQ 22.75 39.890625 18.8125 39.015625 \r\nQ 14.890625 38.140625 10.796875 36.28125 \r\nz\r\n\" id=\"DejaVuSans-53\"/>\r\n      </defs>\r\n      <g transform=\"translate(27.240625 212.280666)scale(0.1 -0.1)\">\r\n       <use xlink:href=\"#DejaVuSans-53\"/>\r\n       <use x=\"63.623047\" xlink:href=\"#DejaVuSans-48\"/>\r\n      </g>\r\n     </g>\r\n    </g>\r\n    <g id=\"ytick_3\">\r\n     <g id=\"line2d_9\">\r\n      <g>\r\n       <use style=\"stroke:#000000;stroke-width:0.8;\" x=\"46.965625\" xlink:href=\"#m2d3e2f94b7\" y=\"181.440031\"/>\r\n      </g>\r\n     </g>\r\n     <g id=\"text_10\">\r\n      <!-- 100 -->\r\n      <g transform=\"translate(20.878125 185.23925)scale(0.1 -0.1)\">\r\n       <use xlink:href=\"#DejaVuSans-49\"/>\r\n       <use x=\"63.623047\" xlink:href=\"#DejaVuSans-48\"/>\r\n       <use x=\"127.246094\" xlink:href=\"#DejaVuSans-48\"/>\r\n      </g>\r\n     </g>\r\n    </g>\r\n    <g id=\"ytick_4\">\r\n     <g id=\"line2d_10\">\r\n      <g>\r\n       <use style=\"stroke:#000000;stroke-width:0.8;\" x=\"46.965625\" xlink:href=\"#m2d3e2f94b7\" y=\"154.398615\"/>\r\n      </g>\r\n     </g>\r\n     <g id=\"text_11\">\r\n      <!-- 150 -->\r\n      <g transform=\"translate(20.878125 158.197834)scale(0.1 -0.1)\">\r\n       <use xlink:href=\"#DejaVuSans-49\"/>\r\n       <use x=\"63.623047\" xlink:href=\"#DejaVuSans-53\"/>\r\n       <use x=\"127.246094\" xlink:href=\"#DejaVuSans-48\"/>\r\n      </g>\r\n     </g>\r\n    </g>\r\n    <g id=\"ytick_5\">\r\n     <g id=\"line2d_11\">\r\n      <g>\r\n       <use style=\"stroke:#000000;stroke-width:0.8;\" x=\"46.965625\" xlink:href=\"#m2d3e2f94b7\" y=\"127.357199\"/>\r\n      </g>\r\n     </g>\r\n     <g id=\"text_12\">\r\n      <!-- 200 -->\r\n      <g transform=\"translate(20.878125 131.156418)scale(0.1 -0.1)\">\r\n       <use xlink:href=\"#DejaVuSans-50\"/>\r\n       <use x=\"63.623047\" xlink:href=\"#DejaVuSans-48\"/>\r\n       <use x=\"127.246094\" xlink:href=\"#DejaVuSans-48\"/>\r\n      </g>\r\n     </g>\r\n    </g>\r\n    <g id=\"ytick_6\">\r\n     <g id=\"line2d_12\">\r\n      <g>\r\n       <use style=\"stroke:#000000;stroke-width:0.8;\" x=\"46.965625\" xlink:href=\"#m2d3e2f94b7\" y=\"100.315784\"/>\r\n      </g>\r\n     </g>\r\n     <g id=\"text_13\">\r\n      <!-- 250 -->\r\n      <g transform=\"translate(20.878125 104.115002)scale(0.1 -0.1)\">\r\n       <use xlink:href=\"#DejaVuSans-50\"/>\r\n       <use x=\"63.623047\" xlink:href=\"#DejaVuSans-53\"/>\r\n       <use x=\"127.246094\" xlink:href=\"#DejaVuSans-48\"/>\r\n      </g>\r\n     </g>\r\n    </g>\r\n    <g id=\"ytick_7\">\r\n     <g id=\"line2d_13\">\r\n      <g>\r\n       <use style=\"stroke:#000000;stroke-width:0.8;\" x=\"46.965625\" xlink:href=\"#m2d3e2f94b7\" y=\"73.274368\"/>\r\n      </g>\r\n     </g>\r\n     <g id=\"text_14\">\r\n      <!-- 300 -->\r\n      <defs>\r\n       <path d=\"M 40.578125 39.3125 \r\nQ 47.65625 37.796875 51.625 33 \r\nQ 55.609375 28.21875 55.609375 21.1875 \r\nQ 55.609375 10.40625 48.1875 4.484375 \r\nQ 40.765625 -1.421875 27.09375 -1.421875 \r\nQ 22.515625 -1.421875 17.65625 -0.515625 \r\nQ 12.796875 0.390625 7.625 2.203125 \r\nL 7.625 11.71875 \r\nQ 11.71875 9.328125 16.59375 8.109375 \r\nQ 21.484375 6.890625 26.8125 6.890625 \r\nQ 36.078125 6.890625 40.9375 10.546875 \r\nQ 45.796875 14.203125 45.796875 21.1875 \r\nQ 45.796875 27.640625 41.28125 31.265625 \r\nQ 36.765625 34.90625 28.71875 34.90625 \r\nL 20.21875 34.90625 \r\nL 20.21875 43.015625 \r\nL 29.109375 43.015625 \r\nQ 36.375 43.015625 40.234375 45.921875 \r\nQ 44.09375 48.828125 44.09375 54.296875 \r\nQ 44.09375 59.90625 40.109375 62.90625 \r\nQ 36.140625 65.921875 28.71875 65.921875 \r\nQ 24.65625 65.921875 20.015625 65.03125 \r\nQ 15.375 64.15625 9.8125 62.3125 \r\nL 9.8125 71.09375 \r\nQ 15.4375 72.65625 20.34375 73.4375 \r\nQ 25.25 74.21875 29.59375 74.21875 \r\nQ 40.828125 74.21875 47.359375 69.109375 \r\nQ 53.90625 64.015625 53.90625 55.328125 \r\nQ 53.90625 49.265625 50.4375 45.09375 \r\nQ 46.96875 40.921875 40.578125 39.3125 \r\nz\r\n\" id=\"DejaVuSans-51\"/>\r\n      </defs>\r\n      <g transform=\"translate(20.878125 77.073587)scale(0.1 -0.1)\">\r\n       <use xlink:href=\"#DejaVuSans-51\"/>\r\n       <use x=\"63.623047\" xlink:href=\"#DejaVuSans-48\"/>\r\n       <use x=\"127.246094\" xlink:href=\"#DejaVuSans-48\"/>\r\n      </g>\r\n     </g>\r\n    </g>\r\n    <g id=\"ytick_8\">\r\n     <g id=\"line2d_14\">\r\n      <g>\r\n       <use style=\"stroke:#000000;stroke-width:0.8;\" x=\"46.965625\" xlink:href=\"#m2d3e2f94b7\" y=\"46.232952\"/>\r\n      </g>\r\n     </g>\r\n     <g id=\"text_15\">\r\n      <!-- 350 -->\r\n      <g transform=\"translate(20.878125 50.032171)scale(0.1 -0.1)\">\r\n       <use xlink:href=\"#DejaVuSans-51\"/>\r\n       <use x=\"63.623047\" xlink:href=\"#DejaVuSans-53\"/>\r\n       <use x=\"127.246094\" xlink:href=\"#DejaVuSans-48\"/>\r\n      </g>\r\n     </g>\r\n    </g>\r\n    <g id=\"text_16\">\r\n     <!-- y -->\r\n     <defs>\r\n      <path d=\"M 32.171875 -5.078125 \r\nQ 28.375 -14.84375 24.75 -17.8125 \r\nQ 21.140625 -20.796875 15.09375 -20.796875 \r\nL 7.90625 -20.796875 \r\nL 7.90625 -13.28125 \r\nL 13.1875 -13.28125 \r\nQ 16.890625 -13.28125 18.9375 -11.515625 \r\nQ 21 -9.765625 23.484375 -3.21875 \r\nL 25.09375 0.875 \r\nL 2.984375 54.6875 \r\nL 12.5 54.6875 \r\nL 29.59375 11.921875 \r\nL 46.6875 54.6875 \r\nL 56.203125 54.6875 \r\nz\r\n\" id=\"DejaVuSans-121\"/>\r\n     </defs>\r\n     <g transform=\"translate(14.798438 133.9975)rotate(-90)scale(0.1 -0.1)\">\r\n      <use xlink:href=\"#DejaVuSans-121\"/>\r\n     </g>\r\n    </g>\r\n   </g>\r\n   <g id=\"line2d_15\">\r\n    <defs>\r\n     <path d=\"M 0 3 \r\nC 0.795609 3 1.55874 2.683901 2.12132 2.12132 \r\nC 2.683901 1.55874 3 0.795609 3 0 \r\nC 3 -0.795609 2.683901 -1.55874 2.12132 -2.12132 \r\nC 1.55874 -2.683901 0.795609 -3 0 -3 \r\nC -0.795609 -3 -1.55874 -2.683901 -2.12132 -2.12132 \r\nC -2.683901 -1.55874 -3 -0.795609 -3 0 \r\nC -3 0.795609 -2.683901 1.55874 -2.12132 2.12132 \r\nC -1.55874 2.683901 -0.795609 3 0 3 \r\nz\r\n\" id=\"m4a6b27d3b7\" style=\"stroke:#1f77b4;\"/>\r\n    </defs>\r\n    <g clip-path=\"url(#pab7da846d0)\">\r\n     <use style=\"fill:#1f77b4;stroke:#1f77b4;\" x=\"145.952801\" xlink:href=\"#m4a6b27d3b7\" y=\"209.523185\"/>\r\n     <use style=\"fill:#1f77b4;stroke:#1f77b4;\" x=\"342.211655\" xlink:href=\"#m4a6b27d3b7\" y=\"71.837266\"/>\r\n     <use style=\"fill:#1f77b4;stroke:#1f77b4;\" x=\"313.801492\" xlink:href=\"#m4a6b27d3b7\" y=\"101.650567\"/>\r\n     <use style=\"fill:#1f77b4;stroke:#1f77b4;\" x=\"249.266762\" xlink:href=\"#m4a6b27d3b7\" y=\"166.466486\"/>\r\n     <use style=\"fill:#1f77b4;stroke:#1f77b4;\" x=\"144.464088\" xlink:href=\"#m4a6b27d3b7\" y=\"205.73041\"/>\r\n     <use style=\"fill:#1f77b4;stroke:#1f77b4;\" x=\"150.711661\" xlink:href=\"#m4a6b27d3b7\" y=\"200.568007\"/>\r\n     <use style=\"fill:#1f77b4;stroke:#1f77b4;\" x=\"203.835305\" xlink:href=\"#m4a6b27d3b7\" y=\"196.333736\"/>\r\n     <use style=\"fill:#1f77b4;stroke:#1f77b4;\" x=\"364.321681\" xlink:href=\"#m4a6b27d3b7\" y=\"45.621289\"/>\r\n     <use style=\"fill:#1f77b4;stroke:#1f77b4;\" x=\"179.421184\" xlink:href=\"#m4a6b27d3b7\" y=\"195.839541\"/>\r\n     <use style=\"fill:#1f77b4;stroke:#1f77b4;\" x=\"105.986113\" xlink:href=\"#m4a6b27d3b7\" y=\"217.600651\"/>\r\n     <use style=\"fill:#1f77b4;stroke:#1f77b4;\" x=\"290.136111\" xlink:href=\"#m4a6b27d3b7\" y=\"135.733216\"/>\r\n     <use style=\"fill:#1f77b4;stroke:#1f77b4;\" x=\"172.300342\" xlink:href=\"#m4a6b27d3b7\" y=\"201.178548\"/>\r\n     <use style=\"fill:#1f77b4;stroke:#1f77b4;\" x=\"253.379757\" xlink:href=\"#m4a6b27d3b7\" y=\"164.373054\"/>\r\n     <use style=\"fill:#1f77b4;stroke:#1f77b4;\" x=\"202.805578\" xlink:href=\"#m4a6b27d3b7\" y=\"188.415015\"/>\r\n     <use style=\"fill:#1f77b4;stroke:#1f77b4;\" x=\"358.777363\" xlink:href=\"#m4a6b27d3b7\" y=\"46.028376\"/>\r\n     <use style=\"fill:#1f77b4;stroke:#1f77b4;\" x=\"74.231445\" xlink:href=\"#m4a6b27d3b7\" y=\"221.404148\"/>\r\n     <use style=\"fill:#1f77b4;stroke:#1f77b4;\" x=\"121.161179\" xlink:href=\"#m4a6b27d3b7\" y=\"197.752013\"/>\r\n     <use style=\"fill:#1f77b4;stroke:#1f77b4;\" x=\"139.876397\" xlink:href=\"#m4a6b27d3b7\" y=\"205.492282\"/>\r\n     <use style=\"fill:#1f77b4;stroke:#1f77b4;\" x=\"117.095103\" xlink:href=\"#m4a6b27d3b7\" y=\"212.412626\"/>\r\n     <use style=\"fill:#1f77b4;stroke:#1f77b4;\" x=\"251.511278\" xlink:href=\"#m4a6b27d3b7\" y=\"160.633817\"/>\r\n     <use style=\"fill:#1f77b4;stroke:#1f77b4;\" x=\"227.551841\" xlink:href=\"#m4a6b27d3b7\" y=\"185.916305\"/>\r\n     <use style=\"fill:#1f77b4;stroke:#1f77b4;\" x=\"350.179766\" xlink:href=\"#m4a6b27d3b7\" y=\"70.99646\"/>\r\n     <use style=\"fill:#1f77b4;stroke:#1f77b4;\" x=\"128.356575\" xlink:href=\"#m4a6b27d3b7\" y=\"203.324878\"/>\r\n     <use style=\"fill:#1f77b4;stroke:#1f77b4;\" x=\"253.068515\" xlink:href=\"#m4a6b27d3b7\" y=\"160.845375\"/>\r\n     <use style=\"fill:#1f77b4;stroke:#1f77b4;\" x=\"71.908775\" xlink:href=\"#m4a6b27d3b7\" y=\"211.174634\"/>\r\n     <use style=\"fill:#1f77b4;stroke:#1f77b4;\" x=\"265.779002\" xlink:href=\"#m4a6b27d3b7\" y=\"150.932724\"/>\r\n     <use style=\"fill:#1f77b4;stroke:#1f77b4;\" x=\"296.487275\" xlink:href=\"#m4a6b27d3b7\" y=\"125.717486\"/>\r\n     <use style=\"fill:#1f77b4;stroke:#1f77b4;\" x=\"349.380257\" xlink:href=\"#m4a6b27d3b7\" y=\"60.94639\"/>\r\n     <use style=\"fill:#1f77b4;stroke:#1f77b4;\" x=\"344.333316\" xlink:href=\"#m4a6b27d3b7\" y=\"77.181276\"/>\r\n     <use style=\"fill:#1f77b4;stroke:#1f77b4;\" x=\"301.738568\" xlink:href=\"#m4a6b27d3b7\" y=\"119.616922\"/>\r\n     <use style=\"fill:#1f77b4;stroke:#1f77b4;\" x=\"108.936865\" xlink:href=\"#m4a6b27d3b7\" y=\"203.398856\"/>\r\n     <use style=\"fill:#1f77b4;stroke:#1f77b4;\" x=\"100.435037\" xlink:href=\"#m4a6b27d3b7\" y=\"202.657879\"/>\r\n     <use style=\"fill:#1f77b4;stroke:#1f77b4;\" x=\"238.421689\" xlink:href=\"#m4a6b27d3b7\" y=\"162.111191\"/>\r\n     <use style=\"fill:#1f77b4;stroke:#1f77b4;\" x=\"173.730208\" xlink:href=\"#m4a6b27d3b7\" y=\"191.207373\"/>\r\n     <use style=\"fill:#1f77b4;stroke:#1f77b4;\" x=\"338.234399\" xlink:href=\"#m4a6b27d3b7\" y=\"83.814758\"/>\r\n     <use style=\"fill:#1f77b4;stroke:#1f77b4;\" x=\"97.252991\" xlink:href=\"#m4a6b27d3b7\" y=\"218.25485\"/>\r\n     <use style=\"fill:#1f77b4;stroke:#1f77b4;\" x=\"143.460968\" xlink:href=\"#m4a6b27d3b7\" y=\"191.590982\"/>\r\n     <use style=\"fill:#1f77b4;stroke:#1f77b4;\" x=\"231.36252\" xlink:href=\"#m4a6b27d3b7\" y=\"176.204713\"/>\r\n     <use style=\"fill:#1f77b4;stroke:#1f77b4;\" x=\"285.816923\" xlink:href=\"#m4a6b27d3b7\" y=\"140.975699\"/>\r\n     <use style=\"fill:#1f77b4;stroke:#1f77b4;\" x=\"252.540388\" xlink:href=\"#m4a6b27d3b7\" y=\"163.706145\"/>\r\n     <use style=\"fill:#1f77b4;stroke:#1f77b4;\" x=\"315.085912\" xlink:href=\"#m4a6b27d3b7\" y=\"107.920709\"/>\r\n     <use style=\"fill:#1f77b4;stroke:#1f77b4;\" x=\"119.323324\" xlink:href=\"#m4a6b27d3b7\" y=\"204.58727\"/>\r\n     <use style=\"fill:#1f77b4;stroke:#1f77b4;\" x=\"207.098361\" xlink:href=\"#m4a6b27d3b7\" y=\"183.068658\"/>\r\n     <use style=\"fill:#1f77b4;stroke:#1f77b4;\" x=\"139.672383\" xlink:href=\"#m4a6b27d3b7\" y=\"203.776844\"/>\r\n     <use style=\"fill:#1f77b4;stroke:#1f77b4;\" x=\"257.716618\" xlink:href=\"#m4a6b27d3b7\" y=\"150.776761\"/>\r\n     <use style=\"fill:#1f77b4;stroke:#1f77b4;\" x=\"157.579653\" xlink:href=\"#m4a6b27d3b7\" y=\"204.796043\"/>\r\n     <use style=\"fill:#1f77b4;stroke:#1f77b4;\" x=\"80.580619\" xlink:href=\"#m4a6b27d3b7\" y=\"208.757514\"/>\r\n     <use style=\"fill:#1f77b4;stroke:#1f77b4;\" x=\"147.928864\" xlink:href=\"#m4a6b27d3b7\" y=\"197.269539\"/>\r\n     <use style=\"fill:#1f77b4;stroke:#1f77b4;\" x=\"235.669914\" xlink:href=\"#m4a6b27d3b7\" y=\"174.73338\"/>\r\n     <use style=\"fill:#1f77b4;stroke:#1f77b4;\" x=\"226.726132\" xlink:href=\"#m4a6b27d3b7\" y=\"174.478515\"/>\r\n     <use style=\"fill:#1f77b4;stroke:#1f77b4;\" x=\"214.336982\" xlink:href=\"#m4a6b27d3b7\" y=\"180.819805\"/>\r\n     <use style=\"fill:#1f77b4;stroke:#1f77b4;\" x=\"350.556235\" xlink:href=\"#m4a6b27d3b7\" y=\"61.852477\"/>\r\n     <use style=\"fill:#1f77b4;stroke:#1f77b4;\" x=\"341.314728\" xlink:href=\"#m4a6b27d3b7\" y=\"89.428862\"/>\r\n     <use style=\"fill:#1f77b4;stroke:#1f77b4;\" x=\"238.089302\" xlink:href=\"#m4a6b27d3b7\" y=\"174.224154\"/>\r\n     <use style=\"fill:#1f77b4;stroke:#1f77b4;\" x=\"179.057818\" xlink:href=\"#m4a6b27d3b7\" y=\"183.511579\"/>\r\n     <use style=\"fill:#1f77b4;stroke:#1f77b4;\" x=\"241.06337\" xlink:href=\"#m4a6b27d3b7\" y=\"164.493727\"/>\r\n     <use style=\"fill:#1f77b4;stroke:#1f77b4;\" x=\"81.125271\" xlink:href=\"#m4a6b27d3b7\" y=\"228.405531\"/>\r\n     <use style=\"fill:#1f77b4;stroke:#1f77b4;\" x=\"316.666384\" xlink:href=\"#m4a6b27d3b7\" y=\"102.976592\"/>\r\n     <use style=\"fill:#1f77b4;stroke:#1f77b4;\" x=\"112.310458\" xlink:href=\"#m4a6b27d3b7\" y=\"209.632749\"/>\r\n     <use style=\"fill:#1f77b4;stroke:#1f77b4;\" x=\"344.332109\" xlink:href=\"#m4a6b27d3b7\" y=\"74.807993\"/>\r\n     <use style=\"fill:#1f77b4;stroke:#1f77b4;\" x=\"362.652287\" xlink:href=\"#m4a6b27d3b7\" y=\"48.367282\"/>\r\n     <use style=\"fill:#1f77b4;stroke:#1f77b4;\" x=\"234.98911\" xlink:href=\"#m4a6b27d3b7\" y=\"166.571202\"/>\r\n     <use style=\"fill:#1f77b4;stroke:#1f77b4;\" x=\"277.844484\" xlink:href=\"#m4a6b27d3b7\" y=\"143.226639\"/>\r\n     <use style=\"fill:#1f77b4;stroke:#1f77b4;\" x=\"326.511653\" xlink:href=\"#m4a6b27d3b7\" y=\"97.149224\"/>\r\n     <use style=\"fill:#1f77b4;stroke:#1f77b4;\" x=\"269.169342\" xlink:href=\"#m4a6b27d3b7\" y=\"148.660907\"/>\r\n     <use style=\"fill:#1f77b4;stroke:#1f77b4;\" x=\"267.538\" xlink:href=\"#m4a6b27d3b7\" y=\"147.474643\"/>\r\n     <use style=\"fill:#1f77b4;stroke:#1f77b4;\" x=\"80.523623\" xlink:href=\"#m4a6b27d3b7\" y=\"226.301304\"/>\r\n     <use style=\"fill:#1f77b4;stroke:#1f77b4;\" x=\"360.482231\" xlink:href=\"#m4a6b27d3b7\" y=\"43.298149\"/>\r\n     <use style=\"fill:#1f77b4;stroke:#1f77b4;\" x=\"350.318542\" xlink:href=\"#m4a6b27d3b7\" y=\"68.335671\"/>\r\n     <use style=\"fill:#1f77b4;stroke:#1f77b4;\" x=\"245.803886\" xlink:href=\"#m4a6b27d3b7\" y=\"159.550661\"/>\r\n     <use style=\"fill:#1f77b4;stroke:#1f77b4;\" x=\"176.331946\" xlink:href=\"#m4a6b27d3b7\" y=\"193.686635\"/>\r\n     <use style=\"fill:#1f77b4;stroke:#1f77b4;\" x=\"90.566186\" xlink:href=\"#m4a6b27d3b7\" y=\"213.818435\"/>\r\n     <use style=\"fill:#1f77b4;stroke:#1f77b4;\" x=\"64.143075\" xlink:href=\"#m4a6b27d3b7\" y=\"219.436154\"/>\r\n     <use style=\"fill:#1f77b4;stroke:#1f77b4;\" x=\"145.125714\" xlink:href=\"#m4a6b27d3b7\" y=\"190.588787\"/>\r\n     <use style=\"fill:#1f77b4;stroke:#1f77b4;\" x=\"302.811047\" xlink:href=\"#m4a6b27d3b7\" y=\"107.923983\"/>\r\n     <use style=\"fill:#1f77b4;stroke:#1f77b4;\" x=\"320.097724\" xlink:href=\"#m4a6b27d3b7\" y=\"95.136842\"/>\r\n     <use style=\"fill:#1f77b4;stroke:#1f77b4;\" x=\"98.940014\" xlink:href=\"#m4a6b27d3b7\" y=\"209.904977\"/>\r\n     <use style=\"fill:#1f77b4;stroke:#1f77b4;\" x=\"280.347154\" xlink:href=\"#m4a6b27d3b7\" y=\"137.638613\"/>\r\n     <use style=\"fill:#1f77b4;stroke:#1f77b4;\" x=\"77.789138\" xlink:href=\"#m4a6b27d3b7\" y=\"221.73938\"/>\r\n     <use style=\"fill:#1f77b4;stroke:#1f77b4;\" x=\"168.275568\" xlink:href=\"#m4a6b27d3b7\" y=\"193.32728\"/>\r\n     <use style=\"fill:#1f77b4;stroke:#1f77b4;\" x=\"294.284612\" xlink:href=\"#m4a6b27d3b7\" y=\"128.17317\"/>\r\n     <use style=\"fill:#1f77b4;stroke:#1f77b4;\" x=\"343.188353\" xlink:href=\"#m4a6b27d3b7\" y=\"70.319514\"/>\r\n     <use style=\"fill:#1f77b4;stroke:#1f77b4;\" x=\"78.542116\" xlink:href=\"#m4a6b27d3b7\" y=\"211.28396\"/>\r\n     <use style=\"fill:#1f77b4;stroke:#1f77b4;\" x=\"87.337018\" xlink:href=\"#m4a6b27d3b7\" y=\"217.450839\"/>\r\n     <use style=\"fill:#1f77b4;stroke:#1f77b4;\" x=\"125.628534\" xlink:href=\"#m4a6b27d3b7\" y=\"205.004604\"/>\r\n     <use style=\"fill:#1f77b4;stroke:#1f77b4;\" x=\"287.35277\" xlink:href=\"#m4a6b27d3b7\" y=\"128.45356\"/>\r\n     <use style=\"fill:#1f77b4;stroke:#1f77b4;\" x=\"84.562724\" xlink:href=\"#m4a6b27d3b7\" y=\"213.693013\"/>\r\n     <use style=\"fill:#1f77b4;stroke:#1f77b4;\" x=\"176.157987\" xlink:href=\"#m4a6b27d3b7\" y=\"199.342881\"/>\r\n     <use style=\"fill:#1f77b4;stroke:#1f77b4;\" x=\"285.182646\" xlink:href=\"#m4a6b27d3b7\" y=\"133.468511\"/>\r\n     <use style=\"fill:#1f77b4;stroke:#1f77b4;\" x=\"94.859224\" xlink:href=\"#m4a6b27d3b7\" y=\"222.183362\"/>\r\n     <use style=\"fill:#1f77b4;stroke:#1f77b4;\" x=\"216.478189\" xlink:href=\"#m4a6b27d3b7\" y=\"175.403456\"/>\r\n     <use style=\"fill:#1f77b4;stroke:#1f77b4;\" x=\"134.180762\" xlink:href=\"#m4a6b27d3b7\" y=\"199.353779\"/>\r\n     <use style=\"fill:#1f77b4;stroke:#1f77b4;\" x=\"106.399013\" xlink:href=\"#m4a6b27d3b7\" y=\"221.656863\"/>\r\n     <use style=\"fill:#1f77b4;stroke:#1f77b4;\" x=\"182.024358\" xlink:href=\"#m4a6b27d3b7\" y=\"193.442318\"/>\r\n     <use style=\"fill:#1f77b4;stroke:#1f77b4;\" x=\"98.317984\" xlink:href=\"#m4a6b27d3b7\" y=\"212.966026\"/>\r\n     <use style=\"fill:#1f77b4;stroke:#1f77b4;\" x=\"89.956367\" xlink:href=\"#m4a6b27d3b7\" y=\"201.712599\"/>\r\n     <use style=\"fill:#1f77b4;stroke:#1f77b4;\" x=\"79.442962\" xlink:href=\"#m4a6b27d3b7\" y=\"223.169587\"/>\r\n     <use style=\"fill:#1f77b4;stroke:#1f77b4;\" x=\"227.702397\" xlink:href=\"#m4a6b27d3b7\" y=\"177.382336\"/>\r\n     <use style=\"fill:#1f77b4;stroke:#1f77b4;\" x=\"112.48798\" xlink:href=\"#m4a6b27d3b7\" y=\"207.74008\"/>\r\n     <use style=\"fill:#1f77b4;stroke:#1f77b4;\" x=\"169.157921\" xlink:href=\"#m4a6b27d3b7\" y=\"202.868061\"/>\r\n     <use style=\"fill:#1f77b4;stroke:#1f77b4;\" x=\"256.602458\" xlink:href=\"#m4a6b27d3b7\" y=\"163.02087\"/>\r\n     <use style=\"fill:#1f77b4;stroke:#1f77b4;\" x=\"268.173486\" xlink:href=\"#m4a6b27d3b7\" y=\"149.775579\"/>\r\n     <use style=\"fill:#1f77b4;stroke:#1f77b4;\" x=\"241.439919\" xlink:href=\"#m4a6b27d3b7\" y=\"164.875625\"/>\r\n     <use style=\"fill:#1f77b4;stroke:#1f77b4;\" x=\"330.46809\" xlink:href=\"#m4a6b27d3b7\" y=\"82.922364\"/>\r\n     <use style=\"fill:#1f77b4;stroke:#1f77b4;\" x=\"256.126188\" xlink:href=\"#m4a6b27d3b7\" y=\"152.886282\"/>\r\n     <use style=\"fill:#1f77b4;stroke:#1f77b4;\" x=\"160.165187\" xlink:href=\"#m4a6b27d3b7\" y=\"206.834471\"/>\r\n     <use style=\"fill:#1f77b4;stroke:#1f77b4;\" x=\"229.689119\" xlink:href=\"#m4a6b27d3b7\" y=\"168.336772\"/>\r\n     <use style=\"fill:#1f77b4;stroke:#1f77b4;\" x=\"237.602913\" xlink:href=\"#m4a6b27d3b7\" y=\"174.908612\"/>\r\n     <use style=\"fill:#1f77b4;stroke:#1f77b4;\" x=\"301.541053\" xlink:href=\"#m4a6b27d3b7\" y=\"124.552233\"/>\r\n     <use style=\"fill:#1f77b4;stroke:#1f77b4;\" x=\"141.30228\" xlink:href=\"#m4a6b27d3b7\" y=\"204.132934\"/>\r\n     <use style=\"fill:#1f77b4;stroke:#1f77b4;\" x=\"130.610937\" xlink:href=\"#m4a6b27d3b7\" y=\"201.800697\"/>\r\n     <use style=\"fill:#1f77b4;stroke:#1f77b4;\" x=\"175.503233\" xlink:href=\"#m4a6b27d3b7\" y=\"196.140097\"/>\r\n     <use style=\"fill:#1f77b4;stroke:#1f77b4;\" x=\"301.673513\" xlink:href=\"#m4a6b27d3b7\" y=\"121.227929\"/>\r\n     <use style=\"fill:#1f77b4;stroke:#1f77b4;\" x=\"282.265699\" xlink:href=\"#m4a6b27d3b7\" y=\"136.521251\"/>\r\n     <use style=\"fill:#1f77b4;stroke:#1f77b4;\" x=\"305.844345\" xlink:href=\"#m4a6b27d3b7\" y=\"113.492218\"/>\r\n     <use style=\"fill:#1f77b4;stroke:#1f77b4;\" x=\"179.159116\" xlink:href=\"#m4a6b27d3b7\" y=\"198.809143\"/>\r\n     <use style=\"fill:#1f77b4;stroke:#1f77b4;\" x=\"83.622985\" xlink:href=\"#m4a6b27d3b7\" y=\"211.009281\"/>\r\n     <use style=\"fill:#1f77b4;stroke:#1f77b4;\" x=\"190.303437\" xlink:href=\"#m4a6b27d3b7\" y=\"179.431936\"/>\r\n     <use style=\"fill:#1f77b4;stroke:#1f77b4;\" x=\"147.576046\" xlink:href=\"#m4a6b27d3b7\" y=\"209.853515\"/>\r\n     <use style=\"fill:#1f77b4;stroke:#1f77b4;\" x=\"99.774733\" xlink:href=\"#m4a6b27d3b7\" y=\"208.669107\"/>\r\n     <use style=\"fill:#1f77b4;stroke:#1f77b4;\" x=\"120.471091\" xlink:href=\"#m4a6b27d3b7\" y=\"211.573919\"/>\r\n     <use style=\"fill:#1f77b4;stroke:#1f77b4;\" x=\"124.437166\" xlink:href=\"#m4a6b27d3b7\" y=\"210.458091\"/>\r\n     <use style=\"fill:#1f77b4;stroke:#1f77b4;\" x=\"319.536153\" xlink:href=\"#m4a6b27d3b7\" y=\"105.695094\"/>\r\n     <use style=\"fill:#1f77b4;stroke:#1f77b4;\" x=\"149.83432\" xlink:href=\"#m4a6b27d3b7\" y=\"202.870839\"/>\r\n     <use style=\"fill:#1f77b4;stroke:#1f77b4;\" x=\"261.218134\" xlink:href=\"#m4a6b27d3b7\" y=\"164.427517\"/>\r\n     <use style=\"fill:#1f77b4;stroke:#1f77b4;\" x=\"255.448829\" xlink:href=\"#m4a6b27d3b7\" y=\"160.967967\"/>\r\n     <use style=\"fill:#1f77b4;stroke:#1f77b4;\" x=\"196.558655\" xlink:href=\"#m4a6b27d3b7\" y=\"187.193045\"/>\r\n     <use style=\"fill:#1f77b4;stroke:#1f77b4;\" x=\"128.817112\" xlink:href=\"#m4a6b27d3b7\" y=\"202.065584\"/>\r\n     <use style=\"fill:#1f77b4;stroke:#1f77b4;\" x=\"286.462627\" xlink:href=\"#m4a6b27d3b7\" y=\"129.424003\"/>\r\n     <use style=\"fill:#1f77b4;stroke:#1f77b4;\" x=\"344.773799\" xlink:href=\"#m4a6b27d3b7\" y=\"77.726637\"/>\r\n     <use style=\"fill:#1f77b4;stroke:#1f77b4;\" x=\"284.889871\" xlink:href=\"#m4a6b27d3b7\" y=\"137.666343\"/>\r\n     <use style=\"fill:#1f77b4;stroke:#1f77b4;\" x=\"232.815304\" xlink:href=\"#m4a6b27d3b7\" y=\"163.441872\"/>\r\n     <use style=\"fill:#1f77b4;stroke:#1f77b4;\" x=\"331.924447\" xlink:href=\"#m4a6b27d3b7\" y=\"89.041107\"/>\r\n     <use style=\"fill:#1f77b4;stroke:#1f77b4;\" x=\"337.323996\" xlink:href=\"#m4a6b27d3b7\" y=\"80.306943\"/>\r\n     <use style=\"fill:#1f77b4;stroke:#1f77b4;\" x=\"72.76908\" xlink:href=\"#m4a6b27d3b7\" y=\"215.179545\"/>\r\n     <use style=\"fill:#1f77b4;stroke:#1f77b4;\" x=\"147.974149\" xlink:href=\"#m4a6b27d3b7\" y=\"200.360508\"/>\r\n     <use style=\"fill:#1f77b4;stroke:#1f77b4;\" x=\"311.328179\" xlink:href=\"#m4a6b27d3b7\" y=\"114.205153\"/>\r\n     <use style=\"fill:#1f77b4;stroke:#1f77b4;\" x=\"64.786045\" xlink:href=\"#m4a6b27d3b7\" y=\"218.982775\"/>\r\n     <use style=\"fill:#1f77b4;stroke:#1f77b4;\" x=\"92.194168\" xlink:href=\"#m4a6b27d3b7\" y=\"224.015576\"/>\r\n     <use style=\"fill:#1f77b4;stroke:#1f77b4;\" x=\"225.432535\" xlink:href=\"#m4a6b27d3b7\" y=\"169.768292\"/>\r\n     <use style=\"fill:#1f77b4;stroke:#1f77b4;\" x=\"218.216119\" xlink:href=\"#m4a6b27d3b7\" y=\"173.411824\"/>\r\n     <use style=\"fill:#1f77b4;stroke:#1f77b4;\" x=\"180.490872\" xlink:href=\"#m4a6b27d3b7\" y=\"187.751474\"/>\r\n     <use style=\"fill:#1f77b4;stroke:#1f77b4;\" x=\"297.958656\" xlink:href=\"#m4a6b27d3b7\" y=\"119.939283\"/>\r\n     <use style=\"fill:#1f77b4;stroke:#1f77b4;\" x=\"173.254639\" xlink:href=\"#m4a6b27d3b7\" y=\"193.501855\"/>\r\n     <use style=\"fill:#1f77b4;stroke:#1f77b4;\" x=\"86.663001\" xlink:href=\"#m4a6b27d3b7\" y=\"222.038724\"/>\r\n     <use style=\"fill:#1f77b4;stroke:#1f77b4;\" x=\"305.525935\" xlink:href=\"#m4a6b27d3b7\" y=\"113.708362\"/>\r\n     <use style=\"fill:#1f77b4;stroke:#1f77b4;\" x=\"134.704018\" xlink:href=\"#m4a6b27d3b7\" y=\"201.436175\"/>\r\n     <use style=\"fill:#1f77b4;stroke:#1f77b4;\" x=\"187.89738\" xlink:href=\"#m4a6b27d3b7\" y=\"193.906644\"/>\r\n     <use style=\"fill:#1f77b4;stroke:#1f77b4;\" x=\"340.216939\" xlink:href=\"#m4a6b27d3b7\" y=\"85.289945\"/>\r\n     <use style=\"fill:#1f77b4;stroke:#1f77b4;\" x=\"143.649677\" xlink:href=\"#m4a6b27d3b7\" y=\"201.457774\"/>\r\n     <use style=\"fill:#1f77b4;stroke:#1f77b4;\" x=\"352.20841\" xlink:href=\"#m4a6b27d3b7\" y=\"62.313746\"/>\r\n     <use style=\"fill:#1f77b4;stroke:#1f77b4;\" x=\"214.121411\" xlink:href=\"#m4a6b27d3b7\" y=\"180.051179\"/>\r\n     <use style=\"fill:#1f77b4;stroke:#1f77b4;\" x=\"282.008634\" xlink:href=\"#m4a6b27d3b7\" y=\"141.555469\"/>\r\n     <use style=\"fill:#1f77b4;stroke:#1f77b4;\" x=\"236.192705\" xlink:href=\"#m4a6b27d3b7\" y=\"171.38138\"/>\r\n     <use style=\"fill:#1f77b4;stroke:#1f77b4;\" x=\"253.303987\" xlink:href=\"#m4a6b27d3b7\" y=\"169.047727\"/>\r\n     <use style=\"fill:#1f77b4;stroke:#1f77b4;\" x=\"297.033146\" xlink:href=\"#m4a6b27d3b7\" y=\"127.976503\"/>\r\n     <use style=\"fill:#1f77b4;stroke:#1f77b4;\" x=\"218.697037\" xlink:href=\"#m4a6b27d3b7\" y=\"170.738324\"/>\r\n     <use style=\"fill:#1f77b4;stroke:#1f77b4;\" x=\"178.053369\" xlink:href=\"#m4a6b27d3b7\" y=\"186.690116\"/>\r\n     <use style=\"fill:#1f77b4;stroke:#1f77b4;\" x=\"70.997353\" xlink:href=\"#m4a6b27d3b7\" y=\"221.21968\"/>\r\n     <use style=\"fill:#1f77b4;stroke:#1f77b4;\" x=\"177.893838\" xlink:href=\"#m4a6b27d3b7\" y=\"191.970826\"/>\r\n     <use style=\"fill:#1f77b4;stroke:#1f77b4;\" x=\"170.953424\" xlink:href=\"#m4a6b27d3b7\" y=\"186.212144\"/>\r\n     <use style=\"fill:#1f77b4;stroke:#1f77b4;\" x=\"274.147187\" xlink:href=\"#m4a6b27d3b7\" y=\"145.915609\"/>\r\n     <use style=\"fill:#1f77b4;stroke:#1f77b4;\" x=\"86.958615\" xlink:href=\"#m4a6b27d3b7\" y=\"209.779606\"/>\r\n     <use style=\"fill:#1f77b4;stroke:#1f77b4;\" x=\"117.996036\" xlink:href=\"#m4a6b27d3b7\" y=\"202.036422\"/>\r\n     <use style=\"fill:#1f77b4;stroke:#1f77b4;\" x=\"244.736648\" xlink:href=\"#m4a6b27d3b7\" y=\"169.886929\"/>\r\n     <use style=\"fill:#1f77b4;stroke:#1f77b4;\" x=\"65.915614\" xlink:href=\"#m4a6b27d3b7\" y=\"210.734361\"/>\r\n     <use style=\"fill:#1f77b4;stroke:#1f77b4;\" x=\"142.273252\" xlink:href=\"#m4a6b27d3b7\" y=\"209.946202\"/>\r\n     <use style=\"fill:#1f77b4;stroke:#1f77b4;\" x=\"63.24372\" xlink:href=\"#m4a6b27d3b7\" y=\"216.433215\"/>\r\n     <use style=\"fill:#1f77b4;stroke:#1f77b4;\" x=\"126.129151\" xlink:href=\"#m4a6b27d3b7\" y=\"206.934674\"/>\r\n     <use style=\"fill:#1f77b4;stroke:#1f77b4;\" x=\"357.991559\" xlink:href=\"#m4a6b27d3b7\" y=\"61.486483\"/>\r\n     <use style=\"fill:#1f77b4;stroke:#1f77b4;\" x=\"253.866987\" xlink:href=\"#m4a6b27d3b7\" y=\"157.388054\"/>\r\n     <use style=\"fill:#1f77b4;stroke:#1f77b4;\" x=\"224.861967\" xlink:href=\"#m4a6b27d3b7\" y=\"179.258394\"/>\r\n     <use style=\"fill:#1f77b4;stroke:#1f77b4;\" x=\"284.614987\" xlink:href=\"#m4a6b27d3b7\" y=\"126.210353\"/>\r\n     <use style=\"fill:#1f77b4;stroke:#1f77b4;\" x=\"118.989858\" xlink:href=\"#m4a6b27d3b7\" y=\"211.019888\"/>\r\n     <use style=\"fill:#1f77b4;stroke:#1f77b4;\" x=\"78.077757\" xlink:href=\"#m4a6b27d3b7\" y=\"213.12568\"/>\r\n     <use style=\"fill:#1f77b4;stroke:#1f77b4;\" x=\"100.449088\" xlink:href=\"#m4a6b27d3b7\" y=\"214.012234\"/>\r\n     <use style=\"fill:#1f77b4;stroke:#1f77b4;\" x=\"219.548324\" xlink:href=\"#m4a6b27d3b7\" y=\"162.154103\"/>\r\n     <use style=\"fill:#1f77b4;stroke:#1f77b4;\" x=\"198.055868\" xlink:href=\"#m4a6b27d3b7\" y=\"177.118103\"/>\r\n     <use style=\"fill:#1f77b4;stroke:#1f77b4;\" x=\"83.553126\" xlink:href=\"#m4a6b27d3b7\" y=\"213.049296\"/>\r\n     <use style=\"fill:#1f77b4;stroke:#1f77b4;\" x=\"233.381769\" xlink:href=\"#m4a6b27d3b7\" y=\"169.534238\"/>\r\n     <use style=\"fill:#1f77b4;stroke:#1f77b4;\" x=\"251.714436\" xlink:href=\"#m4a6b27d3b7\" y=\"157.591056\"/>\r\n     <use style=\"fill:#1f77b4;stroke:#1f77b4;\" x=\"64.904016\" xlink:href=\"#m4a6b27d3b7\" y=\"219.494593\"/>\r\n     <use style=\"fill:#1f77b4;stroke:#1f77b4;\" x=\"255.574617\" xlink:href=\"#m4a6b27d3b7\" y=\"158.695545\"/>\r\n     <use style=\"fill:#1f77b4;stroke:#1f77b4;\" x=\"208.173021\" xlink:href=\"#m4a6b27d3b7\" y=\"182.255121\"/>\r\n     <use style=\"fill:#1f77b4;stroke:#1f77b4;\" x=\"230.9669\" xlink:href=\"#m4a6b27d3b7\" y=\"173.928949\"/>\r\n     <use style=\"fill:#1f77b4;stroke:#1f77b4;\" x=\"62.183807\" xlink:href=\"#m4a6b27d3b7\" y=\"214.444985\"/>\r\n     <use style=\"fill:#1f77b4;stroke:#1f77b4;\" x=\"247.267194\" xlink:href=\"#m4a6b27d3b7\" y=\"154.525997\"/>\r\n     <use style=\"fill:#1f77b4;stroke:#1f77b4;\" x=\"331.318203\" xlink:href=\"#m4a6b27d3b7\" y=\"82.006895\"/>\r\n     <use style=\"fill:#1f77b4;stroke:#1f77b4;\" x=\"212.452578\" xlink:href=\"#m4a6b27d3b7\" y=\"180.550408\"/>\r\n     <use style=\"fill:#1f77b4;stroke:#1f77b4;\" x=\"71.182344\" xlink:href=\"#m4a6b27d3b7\" y=\"211.620123\"/>\r\n     <use style=\"fill:#1f77b4;stroke:#1f77b4;\" x=\"69.518624\" xlink:href=\"#m4a6b27d3b7\" y=\"220.000479\"/>\r\n     <use style=\"fill:#1f77b4;stroke:#1f77b4;\" x=\"194.200642\" xlink:href=\"#m4a6b27d3b7\" y=\"185.453945\"/>\r\n     <use style=\"fill:#1f77b4;stroke:#1f77b4;\" x=\"224.410868\" xlink:href=\"#m4a6b27d3b7\" y=\"178.985297\"/>\r\n     <use style=\"fill:#1f77b4;stroke:#1f77b4;\" x=\"363.039181\" xlink:href=\"#m4a6b27d3b7\" y=\"50.129647\"/>\r\n     <use style=\"fill:#1f77b4;stroke:#1f77b4;\" x=\"298.28494\" xlink:href=\"#m4a6b27d3b7\" y=\"125.836447\"/>\r\n     <use style=\"fill:#1f77b4;stroke:#1f77b4;\" x=\"334.491233\" xlink:href=\"#m4a6b27d3b7\" y=\"94.986137\"/>\r\n     <use style=\"fill:#1f77b4;stroke:#1f77b4;\" x=\"162.797148\" xlink:href=\"#m4a6b27d3b7\" y=\"208.030807\"/>\r\n     <use style=\"fill:#1f77b4;stroke:#1f77b4;\" x=\"65.811298\" xlink:href=\"#m4a6b27d3b7\" y=\"216.542598\"/>\r\n     <use style=\"fill:#1f77b4;stroke:#1f77b4;\" x=\"175.283144\" xlink:href=\"#m4a6b27d3b7\" y=\"194.219625\"/>\r\n     <use style=\"fill:#1f77b4;stroke:#1f77b4;\" x=\"72.693699\" xlink:href=\"#m4a6b27d3b7\" y=\"211.135867\"/>\r\n     <use style=\"fill:#1f77b4;stroke:#1f77b4;\" x=\"355.325745\" xlink:href=\"#m4a6b27d3b7\" y=\"64.25399\"/>\r\n     <use style=\"fill:#1f77b4;stroke:#1f77b4;\" x=\"291.757538\" xlink:href=\"#m4a6b27d3b7\" y=\"117.566124\"/>\r\n     <use style=\"fill:#1f77b4;stroke:#1f77b4;\" x=\"96.048527\" xlink:href=\"#m4a6b27d3b7\" y=\"218.240206\"/>\r\n     <use style=\"fill:#1f77b4;stroke:#1f77b4;\" x=\"187.219778\" xlink:href=\"#m4a6b27d3b7\" y=\"195.30474\"/>\r\n     <use style=\"fill:#1f77b4;stroke:#1f77b4;\" x=\"293.931806\" xlink:href=\"#m4a6b27d3b7\" y=\"117.848181\"/>\r\n     <use style=\"fill:#1f77b4;stroke:#1f77b4;\" x=\"171.206908\" xlink:href=\"#m4a6b27d3b7\" y=\"186.814243\"/>\r\n     <use style=\"fill:#1f77b4;stroke:#1f77b4;\" x=\"316.941362\" xlink:href=\"#m4a6b27d3b7\" y=\"111.29799\"/>\r\n     <use style=\"fill:#1f77b4;stroke:#1f77b4;\" x=\"72.303638\" xlink:href=\"#m4a6b27d3b7\" y=\"221.640397\"/>\r\n     <use style=\"fill:#1f77b4;stroke:#1f77b4;\" x=\"172.019208\" xlink:href=\"#m4a6b27d3b7\" y=\"195.43845\"/>\r\n     <use style=\"fill:#1f77b4;stroke:#1f77b4;\" x=\"182.075567\" xlink:href=\"#m4a6b27d3b7\" y=\"196.347429\"/>\r\n     <use style=\"fill:#1f77b4;stroke:#1f77b4;\" x=\"70.692489\" xlink:href=\"#m4a6b27d3b7\" y=\"220.955209\"/>\r\n     <use style=\"fill:#1f77b4;stroke:#1f77b4;\" x=\"121.61718\" xlink:href=\"#m4a6b27d3b7\" y=\"208.051685\"/>\r\n     <use style=\"fill:#1f77b4;stroke:#1f77b4;\" x=\"356.962728\" xlink:href=\"#m4a6b27d3b7\" y=\"43.31675\"/>\r\n     <use style=\"fill:#1f77b4;stroke:#1f77b4;\" x=\"194.16185\" xlink:href=\"#m4a6b27d3b7\" y=\"191.495493\"/>\r\n     <use style=\"fill:#1f77b4;stroke:#1f77b4;\" x=\"305.218315\" xlink:href=\"#m4a6b27d3b7\" y=\"127.651513\"/>\r\n     <use style=\"fill:#1f77b4;stroke:#1f77b4;\" x=\"363.15865\" xlink:href=\"#m4a6b27d3b7\" y=\"47.187383\"/>\r\n     <use style=\"fill:#1f77b4;stroke:#1f77b4;\" x=\"306.878937\" xlink:href=\"#m4a6b27d3b7\" y=\"124.273092\"/>\r\n     <use style=\"fill:#1f77b4;stroke:#1f77b4;\" x=\"141.971458\" xlink:href=\"#m4a6b27d3b7\" y=\"205.273711\"/>\r\n     <use style=\"fill:#1f77b4;stroke:#1f77b4;\" x=\"357.964584\" xlink:href=\"#m4a6b27d3b7\" y=\"50.984233\"/>\r\n     <use style=\"fill:#1f77b4;stroke:#1f77b4;\" x=\"199.003203\" xlink:href=\"#m4a6b27d3b7\" y=\"193.751946\"/>\r\n     <use style=\"fill:#1f77b4;stroke:#1f77b4;\" x=\"236.178302\" xlink:href=\"#m4a6b27d3b7\" y=\"173.813923\"/>\r\n     <use style=\"fill:#1f77b4;stroke:#1f77b4;\" x=\"139.493083\" xlink:href=\"#m4a6b27d3b7\" y=\"193.955794\"/>\r\n     <use style=\"fill:#1f77b4;stroke:#1f77b4;\" x=\"256.615885\" xlink:href=\"#m4a6b27d3b7\" y=\"151.27163\"/>\r\n     <use style=\"fill:#1f77b4;stroke:#1f77b4;\" x=\"197.159636\" xlink:href=\"#m4a6b27d3b7\" y=\"172.944257\"/>\r\n     <use style=\"fill:#1f77b4;stroke:#1f77b4;\" x=\"142.828042\" xlink:href=\"#m4a6b27d3b7\" y=\"203.380334\"/>\r\n     <use style=\"fill:#1f77b4;stroke:#1f77b4;\" x=\"306.392729\" xlink:href=\"#m4a6b27d3b7\" y=\"111.120674\"/>\r\n     <use style=\"fill:#1f77b4;stroke:#1f77b4;\" x=\"231.299603\" xlink:href=\"#m4a6b27d3b7\" y=\"178.005371\"/>\r\n     <use style=\"fill:#1f77b4;stroke:#1f77b4;\" x=\"273.92625\" xlink:href=\"#m4a6b27d3b7\" y=\"146.4999\"/>\r\n     <use style=\"fill:#1f77b4;stroke:#1f77b4;\" x=\"218.401023\" xlink:href=\"#m4a6b27d3b7\" y=\"187.16118\"/>\r\n     <use style=\"fill:#1f77b4;stroke:#1f77b4;\" x=\"188.354879\" xlink:href=\"#m4a6b27d3b7\" y=\"191.370718\"/>\r\n     <use style=\"fill:#1f77b4;stroke:#1f77b4;\" x=\"307.015137\" xlink:href=\"#m4a6b27d3b7\" y=\"112.528807\"/>\r\n     <use style=\"fill:#1f77b4;stroke:#1f77b4;\" x=\"256.999361\" xlink:href=\"#m4a6b27d3b7\" y=\"154.60345\"/>\r\n     <use style=\"fill:#1f77b4;stroke:#1f77b4;\" x=\"123.43696\" xlink:href=\"#m4a6b27d3b7\" y=\"210.185961\"/>\r\n     <use style=\"fill:#1f77b4;stroke:#1f77b4;\" x=\"314.95502\" xlink:href=\"#m4a6b27d3b7\" y=\"112.817946\"/>\r\n     <use style=\"fill:#1f77b4;stroke:#1f77b4;\" x=\"208.900365\" xlink:href=\"#m4a6b27d3b7\" y=\"182.92102\"/>\r\n     <use style=\"fill:#1f77b4;stroke:#1f77b4;\" x=\"199.096712\" xlink:href=\"#m4a6b27d3b7\" y=\"192.717971\"/>\r\n     <use style=\"fill:#1f77b4;stroke:#1f77b4;\" x=\"270.013044\" xlink:href=\"#m4a6b27d3b7\" y=\"152.385708\"/>\r\n     <use style=\"fill:#1f77b4;stroke:#1f77b4;\" x=\"163.69746\" xlink:href=\"#m4a6b27d3b7\" y=\"191.583877\"/>\r\n     <use style=\"fill:#1f77b4;stroke:#1f77b4;\" x=\"344.030042\" xlink:href=\"#m4a6b27d3b7\" y=\"74.24111\"/>\r\n     <use style=\"fill:#1f77b4;stroke:#1f77b4;\" x=\"217.479561\" xlink:href=\"#m4a6b27d3b7\" y=\"184.774324\"/>\r\n     <use style=\"fill:#1f77b4;stroke:#1f77b4;\" x=\"65.25311\" xlink:href=\"#m4a6b27d3b7\" y=\"211.32341\"/>\r\n     <use style=\"fill:#1f77b4;stroke:#1f77b4;\" x=\"278.989117\" xlink:href=\"#m4a6b27d3b7\" y=\"136.547312\"/>\r\n     <use style=\"fill:#1f77b4;stroke:#1f77b4;\" x=\"344.552914\" xlink:href=\"#m4a6b27d3b7\" y=\"83.948452\"/>\r\n     <use style=\"fill:#1f77b4;stroke:#1f77b4;\" x=\"362.397047\" xlink:href=\"#m4a6b27d3b7\" y=\"50.319029\"/>\r\n     <use style=\"fill:#1f77b4;stroke:#1f77b4;\" x=\"324.578931\" xlink:href=\"#m4a6b27d3b7\" y=\"97.865042\"/>\r\n     <use style=\"fill:#1f77b4;stroke:#1f77b4;\" x=\"347.44698\" xlink:href=\"#m4a6b27d3b7\" y=\"71.867282\"/>\r\n     <use style=\"fill:#1f77b4;stroke:#1f77b4;\" x=\"176.803139\" xlink:href=\"#m4a6b27d3b7\" y=\"192.409203\"/>\r\n     <use style=\"fill:#1f77b4;stroke:#1f77b4;\" x=\"118.554686\" xlink:href=\"#m4a6b27d3b7\" y=\"202.90906\"/>\r\n     <use style=\"fill:#1f77b4;stroke:#1f77b4;\" x=\"239.012337\" xlink:href=\"#m4a6b27d3b7\" y=\"168.769746\"/>\r\n     <use style=\"fill:#1f77b4;stroke:#1f77b4;\" x=\"198.107691\" xlink:href=\"#m4a6b27d3b7\" y=\"191.830865\"/>\r\n     <use style=\"fill:#1f77b4;stroke:#1f77b4;\" x=\"322.24005\" xlink:href=\"#m4a6b27d3b7\" y=\"103.124096\"/>\r\n     <use style=\"fill:#1f77b4;stroke:#1f77b4;\" x=\"130.259707\" xlink:href=\"#m4a6b27d3b7\" y=\"202.90146\"/>\r\n     <use style=\"fill:#1f77b4;stroke:#1f77b4;\" x=\"341.449987\" xlink:href=\"#m4a6b27d3b7\" y=\"70.428195\"/>\r\n     <use style=\"fill:#1f77b4;stroke:#1f77b4;\" x=\"305.845948\" xlink:href=\"#m4a6b27d3b7\" y=\"113.754523\"/>\r\n     <use style=\"fill:#1f77b4;stroke:#1f77b4;\" x=\"87.094021\" xlink:href=\"#m4a6b27d3b7\" y=\"208.49366\"/>\r\n     <use style=\"fill:#1f77b4;stroke:#1f77b4;\" x=\"124.208092\" xlink:href=\"#m4a6b27d3b7\" y=\"206.095184\"/>\r\n     <use style=\"fill:#1f77b4;stroke:#1f77b4;\" x=\"298.135162\" xlink:href=\"#m4a6b27d3b7\" y=\"125.32939\"/>\r\n     <use style=\"fill:#1f77b4;stroke:#1f77b4;\" x=\"213.673586\" xlink:href=\"#m4a6b27d3b7\" y=\"182.646186\"/>\r\n     <use style=\"fill:#1f77b4;stroke:#1f77b4;\" x=\"269.443931\" xlink:href=\"#m4a6b27d3b7\" y=\"143.962662\"/>\r\n     <use style=\"fill:#1f77b4;stroke:#1f77b4;\" x=\"178.038228\" xlink:href=\"#m4a6b27d3b7\" y=\"193.703729\"/>\r\n     <use style=\"fill:#1f77b4;stroke:#1f77b4;\" x=\"161.119083\" xlink:href=\"#m4a6b27d3b7\" y=\"200.808207\"/>\r\n     <use style=\"fill:#1f77b4;stroke:#1f77b4;\" x=\"244.044058\" xlink:href=\"#m4a6b27d3b7\" y=\"167.659057\"/>\r\n     <use style=\"fill:#1f77b4;stroke:#1f77b4;\" x=\"313.723393\" xlink:href=\"#m4a6b27d3b7\" y=\"119.715179\"/>\r\n     <use style=\"fill:#1f77b4;stroke:#1f77b4;\" x=\"267.380785\" xlink:href=\"#m4a6b27d3b7\" y=\"154.793475\"/>\r\n     <use style=\"fill:#1f77b4;stroke:#1f77b4;\" x=\"328.93275\" xlink:href=\"#m4a6b27d3b7\" y=\"95.33358\"/>\r\n     <use style=\"fill:#1f77b4;stroke:#1f77b4;\" x=\"363.418765\" xlink:href=\"#m4a6b27d3b7\" y=\"41.094031\"/>\r\n     <use style=\"fill:#1f77b4;stroke:#1f77b4;\" x=\"290.881849\" xlink:href=\"#m4a6b27d3b7\" y=\"133.822293\"/>\r\n     <use style=\"fill:#1f77b4;stroke:#1f77b4;\" x=\"134.926076\" xlink:href=\"#m4a6b27d3b7\" y=\"211.526935\"/>\r\n     <use style=\"fill:#1f77b4;stroke:#1f77b4;\" x=\"308.145603\" xlink:href=\"#m4a6b27d3b7\" y=\"118.674874\"/>\r\n     <use style=\"fill:#1f77b4;stroke:#1f77b4;\" x=\"272.3738\" xlink:href=\"#m4a6b27d3b7\" y=\"145.079447\"/>\r\n     <use style=\"fill:#1f77b4;stroke:#1f77b4;\" x=\"264.468641\" xlink:href=\"#m4a6b27d3b7\" y=\"153.054538\"/>\r\n     <use style=\"fill:#1f77b4;stroke:#1f77b4;\" x=\"108.355978\" xlink:href=\"#m4a6b27d3b7\" y=\"206.81622\"/>\r\n     <use style=\"fill:#1f77b4;stroke:#1f77b4;\" x=\"115.299165\" xlink:href=\"#m4a6b27d3b7\" y=\"207.857346\"/>\r\n     <use style=\"fill:#1f77b4;stroke:#1f77b4;\" x=\"77.754083\" xlink:href=\"#m4a6b27d3b7\" y=\"229.874489\"/>\r\n     <use style=\"fill:#1f77b4;stroke:#1f77b4;\" x=\"334.09378\" xlink:href=\"#m4a6b27d3b7\" y=\"85.682832\"/>\r\n     <use style=\"fill:#1f77b4;stroke:#1f77b4;\" x=\"94.466966\" xlink:href=\"#m4a6b27d3b7\" y=\"207.939712\"/>\r\n     <use style=\"fill:#1f77b4;stroke:#1f77b4;\" x=\"286.351663\" xlink:href=\"#m4a6b27d3b7\" y=\"130.013422\"/>\r\n     <use style=\"fill:#1f77b4;stroke:#1f77b4;\" x=\"344.337798\" xlink:href=\"#m4a6b27d3b7\" y=\"72.401462\"/>\r\n     <use style=\"fill:#1f77b4;stroke:#1f77b4;\" x=\"122.319698\" xlink:href=\"#m4a6b27d3b7\" y=\"218.737983\"/>\r\n     <use style=\"fill:#1f77b4;stroke:#1f77b4;\" x=\"257.643125\" xlink:href=\"#m4a6b27d3b7\" y=\"153.045245\"/>\r\n     <use style=\"fill:#1f77b4;stroke:#1f77b4;\" x=\"233.736688\" xlink:href=\"#m4a6b27d3b7\" y=\"166.68559\"/>\r\n     <use style=\"fill:#1f77b4;stroke:#1f77b4;\" x=\"157.246606\" xlink:href=\"#m4a6b27d3b7\" y=\"191.6037\"/>\r\n     <use style=\"fill:#1f77b4;stroke:#1f77b4;\" x=\"149.711638\" xlink:href=\"#m4a6b27d3b7\" y=\"204.931508\"/>\r\n     <use style=\"fill:#1f77b4;stroke:#1f77b4;\" x=\"295.307793\" xlink:href=\"#m4a6b27d3b7\" y=\"123.411305\"/>\r\n     <use style=\"fill:#1f77b4;stroke:#1f77b4;\" x=\"246.573277\" xlink:href=\"#m4a6b27d3b7\" y=\"156.419094\"/>\r\n     <use style=\"fill:#1f77b4;stroke:#1f77b4;\" x=\"301.944367\" xlink:href=\"#m4a6b27d3b7\" y=\"118.839467\"/>\r\n     <use style=\"fill:#1f77b4;stroke:#1f77b4;\" x=\"246.918959\" xlink:href=\"#m4a6b27d3b7\" y=\"159.099165\"/>\r\n     <use style=\"fill:#1f77b4;stroke:#1f77b4;\" x=\"275.725091\" xlink:href=\"#m4a6b27d3b7\" y=\"145.905539\"/>\r\n     <use style=\"fill:#1f77b4;stroke:#1f77b4;\" x=\"154.488352\" xlink:href=\"#m4a6b27d3b7\" y=\"194.057018\"/>\r\n     <use style=\"fill:#1f77b4;stroke:#1f77b4;\" x=\"310.676723\" xlink:href=\"#m4a6b27d3b7\" y=\"102.429464\"/>\r\n     <use style=\"fill:#1f77b4;stroke:#1f77b4;\" x=\"186.809678\" xlink:href=\"#m4a6b27d3b7\" y=\"183.733218\"/>\r\n     <use style=\"fill:#1f77b4;stroke:#1f77b4;\" x=\"153.622649\" xlink:href=\"#m4a6b27d3b7\" y=\"205.596253\"/>\r\n     <use style=\"fill:#1f77b4;stroke:#1f77b4;\" x=\"126.39427\" xlink:href=\"#m4a6b27d3b7\" y=\"198.143294\"/>\r\n     <use style=\"fill:#1f77b4;stroke:#1f77b4;\" x=\"99.908991\" xlink:href=\"#m4a6b27d3b7\" y=\"214.617536\"/>\r\n     <use style=\"fill:#1f77b4;stroke:#1f77b4;\" x=\"105.775134\" xlink:href=\"#m4a6b27d3b7\" y=\"207.726347\"/>\r\n     <use style=\"fill:#1f77b4;stroke:#1f77b4;\" x=\"117.426372\" xlink:href=\"#m4a6b27d3b7\" y=\"218.066413\"/>\r\n     <use style=\"fill:#1f77b4;stroke:#1f77b4;\" x=\"339.569851\" xlink:href=\"#m4a6b27d3b7\" y=\"74.099814\"/>\r\n     <use style=\"fill:#1f77b4;stroke:#1f77b4;\" x=\"358.102881\" xlink:href=\"#m4a6b27d3b7\" y=\"54.353972\"/>\r\n     <use style=\"fill:#1f77b4;stroke:#1f77b4;\" x=\"197.703923\" xlink:href=\"#m4a6b27d3b7\" y=\"186.466706\"/>\r\n     <use style=\"fill:#1f77b4;stroke:#1f77b4;\" x=\"250.904397\" xlink:href=\"#m4a6b27d3b7\" y=\"165.867311\"/>\r\n     <use style=\"fill:#1f77b4;stroke:#1f77b4;\" x=\"340.145226\" xlink:href=\"#m4a6b27d3b7\" y=\"82.884428\"/>\r\n     <use style=\"fill:#1f77b4;stroke:#1f77b4;\" x=\"177.902156\" xlink:href=\"#m4a6b27d3b7\" y=\"194.283991\"/>\r\n     <use style=\"fill:#1f77b4;stroke:#1f77b4;\" x=\"131.100861\" xlink:href=\"#m4a6b27d3b7\" y=\"212.876254\"/>\r\n     <use style=\"fill:#1f77b4;stroke:#1f77b4;\" x=\"336.781632\" xlink:href=\"#m4a6b27d3b7\" y=\"78.506964\"/>\r\n     <use style=\"fill:#1f77b4;stroke:#1f77b4;\" x=\"282.851664\" xlink:href=\"#m4a6b27d3b7\" y=\"136.727736\"/>\r\n     <use style=\"fill:#1f77b4;stroke:#1f77b4;\" x=\"90.336929\" xlink:href=\"#m4a6b27d3b7\" y=\"220.801097\"/>\r\n     <use style=\"fill:#1f77b4;stroke:#1f77b4;\" x=\"95.678659\" xlink:href=\"#m4a6b27d3b7\" y=\"211.020394\"/>\r\n     <use style=\"fill:#1f77b4;stroke:#1f77b4;\" x=\"213.570797\" xlink:href=\"#m4a6b27d3b7\" y=\"178.094473\"/>\r\n     <use style=\"fill:#1f77b4;stroke:#1f77b4;\" x=\"167.452714\" xlink:href=\"#m4a6b27d3b7\" y=\"193.764163\"/>\r\n     <use style=\"fill:#1f77b4;stroke:#1f77b4;\" x=\"177.255493\" xlink:href=\"#m4a6b27d3b7\" y=\"191.668573\"/>\r\n     <use style=\"fill:#1f77b4;stroke:#1f77b4;\" x=\"120.252705\" xlink:href=\"#m4a6b27d3b7\" y=\"209.076757\"/>\r\n     <use style=\"fill:#1f77b4;stroke:#1f77b4;\" x=\"349.312707\" xlink:href=\"#m4a6b27d3b7\" y=\"75.113474\"/>\r\n     <use style=\"fill:#1f77b4;stroke:#1f77b4;\" x=\"311.675276\" xlink:href=\"#m4a6b27d3b7\" y=\"112.673989\"/>\r\n     <use style=\"fill:#1f77b4;stroke:#1f77b4;\" x=\"181.317226\" xlink:href=\"#m4a6b27d3b7\" y=\"200.51155\"/>\r\n     <use style=\"fill:#1f77b4;stroke:#1f77b4;\" x=\"154.827377\" xlink:href=\"#m4a6b27d3b7\" y=\"196.967329\"/>\r\n     <use style=\"fill:#1f77b4;stroke:#1f77b4;\" x=\"278.053837\" xlink:href=\"#m4a6b27d3b7\" y=\"137.111259\"/>\r\n     <use style=\"fill:#1f77b4;stroke:#1f77b4;\" x=\"214.322373\" xlink:href=\"#m4a6b27d3b7\" y=\"182.204035\"/>\r\n     <use style=\"fill:#1f77b4;stroke:#1f77b4;\" x=\"309.428214\" xlink:href=\"#m4a6b27d3b7\" y=\"110.876812\"/>\r\n     <use style=\"fill:#1f77b4;stroke:#1f77b4;\" x=\"81.850133\" xlink:href=\"#m4a6b27d3b7\" y=\"224.929078\"/>\r\n     <use style=\"fill:#1f77b4;stroke:#1f77b4;\" x=\"172.023956\" xlink:href=\"#m4a6b27d3b7\" y=\"191.968714\"/>\r\n     <use style=\"fill:#1f77b4;stroke:#1f77b4;\" x=\"215.380204\" xlink:href=\"#m4a6b27d3b7\" y=\"180.781023\"/>\r\n     <use style=\"fill:#1f77b4;stroke:#1f77b4;\" x=\"106.605777\" xlink:href=\"#m4a6b27d3b7\" y=\"213.583508\"/>\r\n     <use style=\"fill:#1f77b4;stroke:#1f77b4;\" x=\"164.040009\" xlink:href=\"#m4a6b27d3b7\" y=\"192.290711\"/>\r\n     <use style=\"fill:#1f77b4;stroke:#1f77b4;\" x=\"351.551146\" xlink:href=\"#m4a6b27d3b7\" y=\"68.358292\"/>\r\n     <use style=\"fill:#1f77b4;stroke:#1f77b4;\" x=\"265.069737\" xlink:href=\"#m4a6b27d3b7\" y=\"150.875833\"/>\r\n     <use style=\"fill:#1f77b4;stroke:#1f77b4;\" x=\"327.054608\" xlink:href=\"#m4a6b27d3b7\" y=\"96.458244\"/>\r\n     <use style=\"fill:#1f77b4;stroke:#1f77b4;\" x=\"189.49205\" xlink:href=\"#m4a6b27d3b7\" y=\"184.155695\"/>\r\n     <use style=\"fill:#1f77b4;stroke:#1f77b4;\" x=\"277.220401\" xlink:href=\"#m4a6b27d3b7\" y=\"144.31022\"/>\r\n     <use style=\"fill:#1f77b4;stroke:#1f77b4;\" x=\"296.745934\" xlink:href=\"#m4a6b27d3b7\" y=\"129.923164\"/>\r\n     <use style=\"fill:#1f77b4;stroke:#1f77b4;\" x=\"66.88515\" xlink:href=\"#m4a6b27d3b7\" y=\"223.440754\"/>\r\n     <use style=\"fill:#1f77b4;stroke:#1f77b4;\" x=\"366.149196\" xlink:href=\"#m4a6b27d3b7\" y=\"39.797455\"/>\r\n     <use style=\"fill:#1f77b4;stroke:#1f77b4;\" x=\"272.90026\" xlink:href=\"#m4a6b27d3b7\" y=\"138.654108\"/>\r\n     <use style=\"fill:#1f77b4;stroke:#1f77b4;\" x=\"290.613034\" xlink:href=\"#m4a6b27d3b7\" y=\"121.944832\"/>\r\n     <use style=\"fill:#1f77b4;stroke:#1f77b4;\" x=\"90.067437\" xlink:href=\"#m4a6b27d3b7\" y=\"221.770678\"/>\r\n     <use style=\"fill:#1f77b4;stroke:#1f77b4;\" x=\"352.083064\" xlink:href=\"#m4a6b27d3b7\" y=\"64.139709\"/>\r\n     <use style=\"fill:#1f77b4;stroke:#1f77b4;\" x=\"341.264366\" xlink:href=\"#m4a6b27d3b7\" y=\"77.47625\"/>\r\n     <use style=\"fill:#1f77b4;stroke:#1f77b4;\" x=\"184.972366\" xlink:href=\"#m4a6b27d3b7\" y=\"193.162555\"/>\r\n     <use style=\"fill:#1f77b4;stroke:#1f77b4;\" x=\"292.942084\" xlink:href=\"#m4a6b27d3b7\" y=\"134.562651\"/>\r\n     <use style=\"fill:#1f77b4;stroke:#1f77b4;\" x=\"248.191749\" xlink:href=\"#m4a6b27d3b7\" y=\"159.067663\"/>\r\n     <use style=\"fill:#1f77b4;stroke:#1f77b4;\" x=\"199.317981\" xlink:href=\"#m4a6b27d3b7\" y=\"190.066612\"/>\r\n     <use style=\"fill:#1f77b4;stroke:#1f77b4;\" x=\"181.984854\" xlink:href=\"#m4a6b27d3b7\" y=\"186.095186\"/>\r\n     <use style=\"fill:#1f77b4;stroke:#1f77b4;\" x=\"75.958088\" xlink:href=\"#m4a6b27d3b7\" y=\"217.925199\"/>\r\n     <use style=\"fill:#1f77b4;stroke:#1f77b4;\" x=\"247.04887\" xlink:href=\"#m4a6b27d3b7\" y=\"169.975965\"/>\r\n     <use style=\"fill:#1f77b4;stroke:#1f77b4;\" x=\"205.406904\" xlink:href=\"#m4a6b27d3b7\" y=\"177.927558\"/>\r\n     <use style=\"fill:#1f77b4;stroke:#1f77b4;\" x=\"338.796566\" xlink:href=\"#m4a6b27d3b7\" y=\"86.449787\"/>\r\n     <use style=\"fill:#1f77b4;stroke:#1f77b4;\" x=\"197.066302\" xlink:href=\"#m4a6b27d3b7\" y=\"179.310196\"/>\r\n     <use style=\"fill:#1f77b4;stroke:#1f77b4;\" x=\"168.618563\" xlink:href=\"#m4a6b27d3b7\" y=\"198.299783\"/>\r\n     <use style=\"fill:#1f77b4;stroke:#1f77b4;\" x=\"112.793533\" xlink:href=\"#m4a6b27d3b7\" y=\"221.838679\"/>\r\n     <use style=\"fill:#1f77b4;stroke:#1f77b4;\" x=\"122.962143\" xlink:href=\"#m4a6b27d3b7\" y=\"204.14822\"/>\r\n     <use style=\"fill:#1f77b4;stroke:#1f77b4;\" x=\"256.031074\" xlink:href=\"#m4a6b27d3b7\" y=\"160.454225\"/>\r\n     <use style=\"fill:#1f77b4;stroke:#1f77b4;\" x=\"266.358682\" xlink:href=\"#m4a6b27d3b7\" y=\"145.945574\"/>\r\n     <use style=\"fill:#1f77b4;stroke:#1f77b4;\" x=\"192.569472\" xlink:href=\"#m4a6b27d3b7\" y=\"186.908359\"/>\r\n     <use style=\"fill:#1f77b4;stroke:#1f77b4;\" x=\"224.454821\" xlink:href=\"#m4a6b27d3b7\" y=\"175.697713\"/>\r\n     <use style=\"fill:#1f77b4;stroke:#1f77b4;\" x=\"252.922269\" xlink:href=\"#m4a6b27d3b7\" y=\"152.964643\"/>\r\n     <use style=\"fill:#1f77b4;stroke:#1f77b4;\" x=\"288.506058\" xlink:href=\"#m4a6b27d3b7\" y=\"132.040083\"/>\r\n     <use style=\"fill:#1f77b4;stroke:#1f77b4;\" x=\"320.581856\" xlink:href=\"#m4a6b27d3b7\" y=\"95.066358\"/>\r\n     <use style=\"fill:#1f77b4;stroke:#1f77b4;\" x=\"283.668578\" xlink:href=\"#m4a6b27d3b7\" y=\"141.732365\"/>\r\n     <use style=\"fill:#1f77b4;stroke:#1f77b4;\" x=\"157.108973\" xlink:href=\"#m4a6b27d3b7\" y=\"195.839983\"/>\r\n     <use style=\"fill:#1f77b4;stroke:#1f77b4;\" x=\"280.814155\" xlink:href=\"#m4a6b27d3b7\" y=\"131.682954\"/>\r\n     <use style=\"fill:#1f77b4;stroke:#1f77b4;\" x=\"86.303033\" xlink:href=\"#m4a6b27d3b7\" y=\"210.376605\"/>\r\n     <use style=\"fill:#1f77b4;stroke:#1f77b4;\" x=\"62.394725\" xlink:href=\"#m4a6b27d3b7\" y=\"224.983633\"/>\r\n     <use style=\"fill:#1f77b4;stroke:#1f77b4;\" x=\"154.007454\" xlink:href=\"#m4a6b27d3b7\" y=\"194.777941\"/>\r\n     <use style=\"fill:#1f77b4;stroke:#1f77b4;\" x=\"180.927991\" xlink:href=\"#m4a6b27d3b7\" y=\"191.95785\"/>\r\n     <use style=\"fill:#1f77b4;stroke:#1f77b4;\" x=\"153.451199\" xlink:href=\"#m4a6b27d3b7\" y=\"198.749299\"/>\r\n     <use style=\"fill:#1f77b4;stroke:#1f77b4;\" x=\"272.412385\" xlink:href=\"#m4a6b27d3b7\" y=\"148.180239\"/>\r\n     <use style=\"fill:#1f77b4;stroke:#1f77b4;\" x=\"192.012732\" xlink:href=\"#m4a6b27d3b7\" y=\"199.522842\"/>\r\n     <use style=\"fill:#1f77b4;stroke:#1f77b4;\" x=\"135.099304\" xlink:href=\"#m4a6b27d3b7\" y=\"197.036848\"/>\r\n     <use style=\"fill:#1f77b4;stroke:#1f77b4;\" x=\"271.999893\" xlink:href=\"#m4a6b27d3b7\" y=\"139.042473\"/>\r\n     <use style=\"fill:#1f77b4;stroke:#1f77b4;\" x=\"86.532028\" xlink:href=\"#m4a6b27d3b7\" y=\"213.173574\"/>\r\n     <use style=\"fill:#1f77b4;stroke:#1f77b4;\" x=\"286.681411\" xlink:href=\"#m4a6b27d3b7\" y=\"123.463105\"/>\r\n     <use style=\"fill:#1f77b4;stroke:#1f77b4;\" x=\"192.292453\" xlink:href=\"#m4a6b27d3b7\" y=\"179.43346\"/>\r\n     <use style=\"fill:#1f77b4;stroke:#1f77b4;\" x=\"162.797076\" xlink:href=\"#m4a6b27d3b7\" y=\"200.422638\"/>\r\n     <use style=\"fill:#1f77b4;stroke:#1f77b4;\" x=\"102.597321\" xlink:href=\"#m4a6b27d3b7\" y=\"212.460164\"/>\r\n     <use style=\"fill:#1f77b4;stroke:#1f77b4;\" x=\"194.788708\" xlink:href=\"#m4a6b27d3b7\" y=\"191.987384\"/>\r\n     <use style=\"fill:#1f77b4;stroke:#1f77b4;\" x=\"319.931896\" xlink:href=\"#m4a6b27d3b7\" y=\"114.066721\"/>\r\n     <use style=\"fill:#1f77b4;stroke:#1f77b4;\" x=\"310.492201\" xlink:href=\"#m4a6b27d3b7\" y=\"118.938523\"/>\r\n     <use style=\"fill:#1f77b4;stroke:#1f77b4;\" x=\"147.241335\" xlink:href=\"#m4a6b27d3b7\" y=\"196.27589\"/>\r\n     <use style=\"fill:#1f77b4;stroke:#1f77b4;\" x=\"271.079053\" xlink:href=\"#m4a6b27d3b7\" y=\"142.053102\"/>\r\n     <use style=\"fill:#1f77b4;stroke:#1f77b4;\" x=\"68.605073\" xlink:href=\"#m4a6b27d3b7\" y=\"223.389726\"/>\r\n     <use style=\"fill:#1f77b4;stroke:#1f77b4;\" x=\"278.27826\" xlink:href=\"#m4a6b27d3b7\" y=\"133.541967\"/>\r\n     <use style=\"fill:#1f77b4;stroke:#1f77b4;\" x=\"264.953409\" xlink:href=\"#m4a6b27d3b7\" y=\"152.595253\"/>\r\n     <use style=\"fill:#1f77b4;stroke:#1f77b4;\" x=\"250.656427\" xlink:href=\"#m4a6b27d3b7\" y=\"154.832746\"/>\r\n     <use style=\"fill:#1f77b4;stroke:#1f77b4;\" x=\"184.569681\" xlink:href=\"#m4a6b27d3b7\" y=\"190.737785\"/>\r\n     <use style=\"fill:#1f77b4;stroke:#1f77b4;\" x=\"197.988017\" xlink:href=\"#m4a6b27d3b7\" y=\"187.637039\"/>\r\n     <use style=\"fill:#1f77b4;stroke:#1f77b4;\" x=\"120.763013\" xlink:href=\"#m4a6b27d3b7\" y=\"194.913129\"/>\r\n     <use style=\"fill:#1f77b4;stroke:#1f77b4;\" x=\"71.763979\" xlink:href=\"#m4a6b27d3b7\" y=\"213.594198\"/>\r\n     <use style=\"fill:#1f77b4;stroke:#1f77b4;\" x=\"324.761427\" xlink:href=\"#m4a6b27d3b7\" y=\"100.306556\"/>\r\n     <use style=\"fill:#1f77b4;stroke:#1f77b4;\" x=\"303.331799\" xlink:href=\"#m4a6b27d3b7\" y=\"121.932606\"/>\r\n     <use style=\"fill:#1f77b4;stroke:#1f77b4;\" x=\"263.133513\" xlink:href=\"#m4a6b27d3b7\" y=\"139.11152\"/>\r\n     <use style=\"fill:#1f77b4;stroke:#1f77b4;\" x=\"115.387014\" xlink:href=\"#m4a6b27d3b7\" y=\"204.539528\"/>\r\n     <use style=\"fill:#1f77b4;stroke:#1f77b4;\" x=\"323.104734\" xlink:href=\"#m4a6b27d3b7\" y=\"104.314072\"/>\r\n     <use style=\"fill:#1f77b4;stroke:#1f77b4;\" x=\"112.009957\" xlink:href=\"#m4a6b27d3b7\" y=\"202.231908\"/>\r\n     <use style=\"fill:#1f77b4;stroke:#1f77b4;\" x=\"202.329002\" xlink:href=\"#m4a6b27d3b7\" y=\"179.07737\"/>\r\n     <use style=\"fill:#1f77b4;stroke:#1f77b4;\" x=\"125.723251\" xlink:href=\"#m4a6b27d3b7\" y=\"199.345384\"/>\r\n     <use style=\"fill:#1f77b4;stroke:#1f77b4;\" x=\"323.70735\" xlink:href=\"#m4a6b27d3b7\" y=\"101.697582\"/>\r\n     <use style=\"fill:#1f77b4;stroke:#1f77b4;\" x=\"354.51004\" xlink:href=\"#m4a6b27d3b7\" y=\"59.251441\"/>\r\n     <use style=\"fill:#1f77b4;stroke:#1f77b4;\" x=\"71.010742\" xlink:href=\"#m4a6b27d3b7\" y=\"217.951936\"/>\r\n     <use style=\"fill:#1f77b4;stroke:#1f77b4;\" x=\"137.818504\" xlink:href=\"#m4a6b27d3b7\" y=\"198.801315\"/>\r\n     <use style=\"fill:#1f77b4;stroke:#1f77b4;\" x=\"74.821634\" xlink:href=\"#m4a6b27d3b7\" y=\"211.194594\"/>\r\n     <use style=\"fill:#1f77b4;stroke:#1f77b4;\" x=\"351.470364\" xlink:href=\"#m4a6b27d3b7\" y=\"55.21239\"/>\r\n     <use style=\"fill:#1f77b4;stroke:#1f77b4;\" x=\"207.243488\" xlink:href=\"#m4a6b27d3b7\" y=\"177.701595\"/>\r\n     <use style=\"fill:#1f77b4;stroke:#1f77b4;\" x=\"365.536985\" xlink:href=\"#m4a6b27d3b7\" y=\"32.201761\"/>\r\n     <use style=\"fill:#1f77b4;stroke:#1f77b4;\" x=\"116.648819\" xlink:href=\"#m4a6b27d3b7\" y=\"202.445033\"/>\r\n     <use style=\"fill:#1f77b4;stroke:#1f77b4;\" x=\"153.458009\" xlink:href=\"#m4a6b27d3b7\" y=\"206.680881\"/>\r\n     <use style=\"fill:#1f77b4;stroke:#1f77b4;\" x=\"345.030313\" xlink:href=\"#m4a6b27d3b7\" y=\"81.764841\"/>\r\n     <use style=\"fill:#1f77b4;stroke:#1f77b4;\" x=\"177.946054\" xlink:href=\"#m4a6b27d3b7\" y=\"187.648914\"/>\r\n     <use style=\"fill:#1f77b4;stroke:#1f77b4;\" x=\"361.15866\" xlink:href=\"#m4a6b27d3b7\" y=\"48.58078\"/>\r\n     <use style=\"fill:#1f77b4;stroke:#1f77b4;\" x=\"190.491403\" xlink:href=\"#m4a6b27d3b7\" y=\"187.292343\"/>\r\n     <use style=\"fill:#1f77b4;stroke:#1f77b4;\" x=\"72.500038\" xlink:href=\"#m4a6b27d3b7\" y=\"220.601979\"/>\r\n     <use style=\"fill:#1f77b4;stroke:#1f77b4;\" x=\"358.502504\" xlink:href=\"#m4a6b27d3b7\" y=\"54.805458\"/>\r\n     <use style=\"fill:#1f77b4;stroke:#1f77b4;\" x=\"311.860109\" xlink:href=\"#m4a6b27d3b7\" y=\"114.624503\"/>\r\n     <use style=\"fill:#1f77b4;stroke:#1f77b4;\" x=\"175.769166\" xlink:href=\"#m4a6b27d3b7\" y=\"191.986298\"/>\r\n     <use style=\"fill:#1f77b4;stroke:#1f77b4;\" x=\"188.010498\" xlink:href=\"#m4a6b27d3b7\" y=\"190.442332\"/>\r\n     <use style=\"fill:#1f77b4;stroke:#1f77b4;\" x=\"119.365423\" xlink:href=\"#m4a6b27d3b7\" y=\"203.185828\"/>\r\n     <use style=\"fill:#1f77b4;stroke:#1f77b4;\" x=\"89.017869\" xlink:href=\"#m4a6b27d3b7\" y=\"216.585017\"/>\r\n     <use style=\"fill:#1f77b4;stroke:#1f77b4;\" x=\"243.021892\" xlink:href=\"#m4a6b27d3b7\" y=\"162.694621\"/>\r\n     <use style=\"fill:#1f77b4;stroke:#1f77b4;\" x=\"250.186641\" xlink:href=\"#m4a6b27d3b7\" y=\"156.75323\"/>\r\n     <use style=\"fill:#1f77b4;stroke:#1f77b4;\" x=\"163.022958\" xlink:href=\"#m4a6b27d3b7\" y=\"194.388114\"/>\r\n     <use style=\"fill:#1f77b4;stroke:#1f77b4;\" x=\"107.287602\" xlink:href=\"#m4a6b27d3b7\" y=\"211.959496\"/>\r\n     <use style=\"fill:#1f77b4;stroke:#1f77b4;\" x=\"289.016942\" xlink:href=\"#m4a6b27d3b7\" y=\"129.646568\"/>\r\n     <use style=\"fill:#1f77b4;stroke:#1f77b4;\" x=\"93.052027\" xlink:href=\"#m4a6b27d3b7\" y=\"215.843251\"/>\r\n     <use style=\"fill:#1f77b4;stroke:#1f77b4;\" x=\"230.10951\" xlink:href=\"#m4a6b27d3b7\" y=\"173.211597\"/>\r\n     <use style=\"fill:#1f77b4;stroke:#1f77b4;\" x=\"363.903485\" xlink:href=\"#m4a6b27d3b7\" y=\"45.868056\"/>\r\n     <use style=\"fill:#1f77b4;stroke:#1f77b4;\" x=\"224.804748\" xlink:href=\"#m4a6b27d3b7\" y=\"174.654673\"/>\r\n     <use style=\"fill:#1f77b4;stroke:#1f77b4;\" x=\"163.008818\" xlink:href=\"#m4a6b27d3b7\" y=\"194.952092\"/>\r\n     <use style=\"fill:#1f77b4;stroke:#1f77b4;\" x=\"212.189561\" xlink:href=\"#m4a6b27d3b7\" y=\"185.452653\"/>\r\n     <use style=\"fill:#1f77b4;stroke:#1f77b4;\" x=\"343.017658\" xlink:href=\"#m4a6b27d3b7\" y=\"78.569043\"/>\r\n     <use style=\"fill:#1f77b4;stroke:#1f77b4;\" x=\"357.974627\" xlink:href=\"#m4a6b27d3b7\" y=\"58.037888\"/>\r\n     <use style=\"fill:#1f77b4;stroke:#1f77b4;\" x=\"227.554339\" xlink:href=\"#m4a6b27d3b7\" y=\"178.168282\"/>\r\n     <use style=\"fill:#1f77b4;stroke:#1f77b4;\" x=\"162.407267\" xlink:href=\"#m4a6b27d3b7\" y=\"193.58142\"/>\r\n     <use style=\"fill:#1f77b4;stroke:#1f77b4;\" x=\"138.448873\" xlink:href=\"#m4a6b27d3b7\" y=\"205.62224\"/>\r\n     <use style=\"fill:#1f77b4;stroke:#1f77b4;\" x=\"240.250437\" xlink:href=\"#m4a6b27d3b7\" y=\"164.940438\"/>\r\n     <use style=\"fill:#1f77b4;stroke:#1f77b4;\" x=\"83.170047\" xlink:href=\"#m4a6b27d3b7\" y=\"213.600173\"/>\r\n     <use style=\"fill:#1f77b4;stroke:#1f77b4;\" x=\"87.923295\" xlink:href=\"#m4a6b27d3b7\" y=\"217.43231\"/>\r\n     <use style=\"fill:#1f77b4;stroke:#1f77b4;\" x=\"248.126473\" xlink:href=\"#m4a6b27d3b7\" y=\"157.993369\"/>\r\n     <use style=\"fill:#1f77b4;stroke:#1f77b4;\" x=\"327.818767\" xlink:href=\"#m4a6b27d3b7\" y=\"98.004057\"/>\r\n     <use style=\"fill:#1f77b4;stroke:#1f77b4;\" x=\"330.306754\" xlink:href=\"#m4a6b27d3b7\" y=\"93.280747\"/>\r\n     <use style=\"fill:#1f77b4;stroke:#1f77b4;\" x=\"250.360866\" xlink:href=\"#m4a6b27d3b7\" y=\"156.745905\"/>\r\n     <use style=\"fill:#1f77b4;stroke:#1f77b4;\" x=\"154.202617\" xlink:href=\"#m4a6b27d3b7\" y=\"204.67483\"/>\r\n     <use style=\"fill:#1f77b4;stroke:#1f77b4;\" x=\"366.547443\" xlink:href=\"#m4a6b27d3b7\" y=\"41.68922\"/>\r\n     <use style=\"fill:#1f77b4;stroke:#1f77b4;\" x=\"127.425653\" xlink:href=\"#m4a6b27d3b7\" y=\"204.728882\"/>\r\n     <use style=\"fill:#1f77b4;stroke:#1f77b4;\" x=\"190.563415\" xlink:href=\"#m4a6b27d3b7\" y=\"187.901588\"/>\r\n     <use style=\"fill:#1f77b4;stroke:#1f77b4;\" x=\"122.65141\" xlink:href=\"#m4a6b27d3b7\" y=\"208.426316\"/>\r\n     <use style=\"fill:#1f77b4;stroke:#1f77b4;\" x=\"135.253617\" xlink:href=\"#m4a6b27d3b7\" y=\"209.276665\"/>\r\n     <use style=\"fill:#1f77b4;stroke:#1f77b4;\" x=\"324.475285\" xlink:href=\"#m4a6b27d3b7\" y=\"89.962972\"/>\r\n     <use style=\"fill:#1f77b4;stroke:#1f77b4;\" x=\"278.688243\" xlink:href=\"#m4a6b27d3b7\" y=\"133.424751\"/>\r\n     <use style=\"fill:#1f77b4;stroke:#1f77b4;\" x=\"236.483765\" xlink:href=\"#m4a6b27d3b7\" y=\"170.136425\"/>\r\n     <use style=\"fill:#1f77b4;stroke:#1f77b4;\" x=\"96.050244\" xlink:href=\"#m4a6b27d3b7\" y=\"220.822916\"/>\r\n     <use style=\"fill:#1f77b4;stroke:#1f77b4;\" x=\"258.246695\" xlink:href=\"#m4a6b27d3b7\" y=\"154.301752\"/>\r\n     <use style=\"fill:#1f77b4;stroke:#1f77b4;\" x=\"346.324304\" xlink:href=\"#m4a6b27d3b7\" y=\"74.087686\"/>\r\n    </g>\r\n   </g>\r\n   <g id=\"patch_3\">\r\n    <path d=\"M 46.965625 239.758125 \r\nL 46.965625 22.318125 \r\n\" style=\"fill:none;stroke:#000000;stroke-linecap:square;stroke-linejoin:miter;stroke-width:0.8;\"/>\r\n   </g>\r\n   <g id=\"patch_4\">\r\n    <path d=\"M 381.765625 239.758125 \r\nL 381.765625 22.318125 \r\n\" style=\"fill:none;stroke:#000000;stroke-linecap:square;stroke-linejoin:miter;stroke-width:0.8;\"/>\r\n   </g>\r\n   <g id=\"patch_5\">\r\n    <path d=\"M 46.965625 239.758125 \r\nL 381.765625 239.758125 \r\n\" style=\"fill:none;stroke:#000000;stroke-linecap:square;stroke-linejoin:miter;stroke-width:0.8;\"/>\r\n   </g>\r\n   <g id=\"patch_6\">\r\n    <path d=\"M 46.965625 22.318125 \r\nL 381.765625 22.318125 \r\n\" style=\"fill:none;stroke:#000000;stroke-linecap:square;stroke-linejoin:miter;stroke-width:0.8;\"/>\r\n   </g>\r\n   <g id=\"text_17\">\r\n    <!-- First trial -->\r\n    <defs>\r\n     <path d=\"M 9.8125 72.90625 \r\nL 51.703125 72.90625 \r\nL 51.703125 64.59375 \r\nL 19.671875 64.59375 \r\nL 19.671875 43.109375 \r\nL 48.578125 43.109375 \r\nL 48.578125 34.8125 \r\nL 19.671875 34.8125 \r\nL 19.671875 0 \r\nL 9.8125 0 \r\nz\r\n\" id=\"DejaVuSans-70\"/>\r\n     <path d=\"M 9.421875 54.6875 \r\nL 18.40625 54.6875 \r\nL 18.40625 0 \r\nL 9.421875 0 \r\nz\r\nM 9.421875 75.984375 \r\nL 18.40625 75.984375 \r\nL 18.40625 64.59375 \r\nL 9.421875 64.59375 \r\nz\r\n\" id=\"DejaVuSans-105\"/>\r\n     <path d=\"M 41.109375 46.296875 \r\nQ 39.59375 47.171875 37.8125 47.578125 \r\nQ 36.03125 48 33.890625 48 \r\nQ 26.265625 48 22.1875 43.046875 \r\nQ 18.109375 38.09375 18.109375 28.8125 \r\nL 18.109375 0 \r\nL 9.078125 0 \r\nL 9.078125 54.6875 \r\nL 18.109375 54.6875 \r\nL 18.109375 46.1875 \r\nQ 20.953125 51.171875 25.484375 53.578125 \r\nQ 30.03125 56 36.53125 56 \r\nQ 37.453125 56 38.578125 55.875 \r\nQ 39.703125 55.765625 41.0625 55.515625 \r\nz\r\n\" id=\"DejaVuSans-114\"/>\r\n     <path d=\"M 44.28125 53.078125 \r\nL 44.28125 44.578125 \r\nQ 40.484375 46.53125 36.375 47.5 \r\nQ 32.28125 48.484375 27.875 48.484375 \r\nQ 21.1875 48.484375 17.84375 46.4375 \r\nQ 14.5 44.390625 14.5 40.28125 \r\nQ 14.5 37.15625 16.890625 35.375 \r\nQ 19.28125 33.59375 26.515625 31.984375 \r\nL 29.59375 31.296875 \r\nQ 39.15625 29.25 43.1875 25.515625 \r\nQ 47.21875 21.78125 47.21875 15.09375 \r\nQ 47.21875 7.46875 41.1875 3.015625 \r\nQ 35.15625 -1.421875 24.609375 -1.421875 \r\nQ 20.21875 -1.421875 15.453125 -0.5625 \r\nQ 10.6875 0.296875 5.421875 2 \r\nL 5.421875 11.28125 \r\nQ 10.40625 8.6875 15.234375 7.390625 \r\nQ 20.0625 6.109375 24.8125 6.109375 \r\nQ 31.15625 6.109375 34.5625 8.28125 \r\nQ 37.984375 10.453125 37.984375 14.40625 \r\nQ 37.984375 18.0625 35.515625 20.015625 \r\nQ 33.0625 21.96875 24.703125 23.78125 \r\nL 21.578125 24.515625 \r\nQ 13.234375 26.265625 9.515625 29.90625 \r\nQ 5.8125 33.546875 5.8125 39.890625 \r\nQ 5.8125 47.609375 11.28125 51.796875 \r\nQ 16.75 56 26.8125 56 \r\nQ 31.78125 56 36.171875 55.265625 \r\nQ 40.578125 54.546875 44.28125 53.078125 \r\nz\r\n\" id=\"DejaVuSans-115\"/>\r\n     <path d=\"M 18.3125 70.21875 \r\nL 18.3125 54.6875 \r\nL 36.8125 54.6875 \r\nL 36.8125 47.703125 \r\nL 18.3125 47.703125 \r\nL 18.3125 18.015625 \r\nQ 18.3125 11.328125 20.140625 9.421875 \r\nQ 21.96875 7.515625 27.59375 7.515625 \r\nL 36.8125 7.515625 \r\nL 36.8125 0 \r\nL 27.59375 0 \r\nQ 17.1875 0 13.234375 3.875 \r\nQ 9.28125 7.765625 9.28125 18.015625 \r\nL 9.28125 47.703125 \r\nL 2.6875 47.703125 \r\nL 2.6875 54.6875 \r\nL 9.28125 54.6875 \r\nL 9.28125 70.21875 \r\nz\r\n\" id=\"DejaVuSans-116\"/>\r\n     <path id=\"DejaVuSans-32\"/>\r\n     <path d=\"M 34.28125 27.484375 \r\nQ 23.390625 27.484375 19.1875 25 \r\nQ 14.984375 22.515625 14.984375 16.5 \r\nQ 14.984375 11.71875 18.140625 8.90625 \r\nQ 21.296875 6.109375 26.703125 6.109375 \r\nQ 34.1875 6.109375 38.703125 11.40625 \r\nQ 43.21875 16.703125 43.21875 25.484375 \r\nL 43.21875 27.484375 \r\nz\r\nM 52.203125 31.203125 \r\nL 52.203125 0 \r\nL 43.21875 0 \r\nL 43.21875 8.296875 \r\nQ 40.140625 3.328125 35.546875 0.953125 \r\nQ 30.953125 -1.421875 24.3125 -1.421875 \r\nQ 15.921875 -1.421875 10.953125 3.296875 \r\nQ 6 8.015625 6 15.921875 \r\nQ 6 25.140625 12.171875 29.828125 \r\nQ 18.359375 34.515625 30.609375 34.515625 \r\nL 43.21875 34.515625 \r\nL 43.21875 35.40625 \r\nQ 43.21875 41.609375 39.140625 45 \r\nQ 35.0625 48.390625 27.6875 48.390625 \r\nQ 23 48.390625 18.546875 47.265625 \r\nQ 14.109375 46.140625 10.015625 43.890625 \r\nL 10.015625 52.203125 \r\nQ 14.9375 54.109375 19.578125 55.046875 \r\nQ 24.21875 56 28.609375 56 \r\nQ 40.484375 56 46.34375 49.84375 \r\nQ 52.203125 43.703125 52.203125 31.203125 \r\nz\r\n\" id=\"DejaVuSans-97\"/>\r\n     <path d=\"M 9.421875 75.984375 \r\nL 18.40625 75.984375 \r\nL 18.40625 0 \r\nL 9.421875 0 \r\nz\r\n\" id=\"DejaVuSans-108\"/>\r\n    </defs>\r\n    <g transform=\"translate(187.57375 16.318125)scale(0.12 -0.12)\">\r\n     <use xlink:href=\"#DejaVuSans-70\"/>\r\n     <use x=\"57.410156\" xlink:href=\"#DejaVuSans-105\"/>\r\n     <use x=\"85.193359\" xlink:href=\"#DejaVuSans-114\"/>\r\n     <use x=\"126.306641\" xlink:href=\"#DejaVuSans-115\"/>\r\n     <use x=\"178.40625\" xlink:href=\"#DejaVuSans-116\"/>\r\n     <use x=\"217.615234\" xlink:href=\"#DejaVuSans-32\"/>\r\n     <use x=\"249.402344\" xlink:href=\"#DejaVuSans-116\"/>\r\n     <use x=\"288.611328\" xlink:href=\"#DejaVuSans-114\"/>\r\n     <use x=\"329.724609\" xlink:href=\"#DejaVuSans-105\"/>\r\n     <use x=\"357.507812\" xlink:href=\"#DejaVuSans-97\"/>\r\n     <use x=\"418.787109\" xlink:href=\"#DejaVuSans-108\"/>\r\n    </g>\r\n   </g>\r\n   <g id=\"legend_1\">\r\n    <g id=\"patch_7\">\r\n     <path d=\"M 53.965625 44.99625 \r\nL 91.884375 44.99625 \r\nQ 93.884375 44.99625 93.884375 42.99625 \r\nL 93.884375 29.318125 \r\nQ 93.884375 27.318125 91.884375 27.318125 \r\nL 53.965625 27.318125 \r\nQ 51.965625 27.318125 51.965625 29.318125 \r\nL 51.965625 42.99625 \r\nQ 51.965625 44.99625 53.965625 44.99625 \r\nz\r\n\" style=\"fill:#ffffff;opacity:0.8;stroke:#cccccc;stroke-linejoin:miter;\"/>\r\n    </g>\r\n    <g id=\"line2d_16\"/>\r\n    <g id=\"line2d_17\">\r\n     <g>\r\n      <use style=\"fill:#1f77b4;stroke:#1f77b4;\" x=\"65.965625\" xlink:href=\"#m4a6b27d3b7\" y=\"35.416562\"/>\r\n     </g>\r\n    </g>\r\n    <g id=\"text_18\">\r\n     <!-- y -->\r\n     <g transform=\"translate(83.965625 38.916562)scale(0.1 -0.1)\">\r\n      <use xlink:href=\"#DejaVuSans-121\"/>\r\n     </g>\r\n    </g>\r\n   </g>\r\n  </g>\r\n </g>\r\n <defs>\r\n  <clipPath id=\"pab7da846d0\">\r\n   <rect height=\"217.44\" width=\"334.8\" x=\"46.965625\" y=\"22.318125\"/>\r\n  </clipPath>\r\n </defs>\r\n</svg>\r\n",
      "image/png": "[encoded data removed]"
     },
     "metadata": {
      "needs_background": "light"
     }
    }
   ],
   "source": [
    "df.plot(x=\"x\",y=\"y\",style='o')\n",
    "plt.title('First trial')\n",
    "plt.xlabel('x')\n",
    "plt.ylabel('y')"
   ]
  },
  {
   "cell_type": "code",
   "execution_count": null,
   "metadata": {},
   "outputs": [],
   "source": [
    "plt.figure(figsize=(15,10))\n",
    "plt.tight_layout()\n",
    "seabornInstance.distplot(df['x'])"
   ]
  },
  {
   "cell_type": "code",
   "execution_count": null,
   "metadata": {},
   "outputs": [],
   "source": [
    "x = df['x'].values.reshape(-1,1)\n",
    "y = df['y'].values.reshape(-1,1)"
   ]
  },
  {
   "cell_type": "code",
   "execution_count": null,
   "metadata": {},
   "outputs": [],
   "source": [
    "from sklearn.model_selection import train_test_split\n",
    "x_train,x_valid,y_train,y_valid = train_test_split(x,y,random_state=0)"
   ]
  },
  {
   "cell_type": "code",
   "execution_count": null,
   "metadata": {},
   "outputs": [],
   "source": [
    "from sklearn.linear_model import LinearRegression\n",
    "my_model = LinearRegression()\n",
    "my_model.fit(x_train,y_train)\n",
    "y_pred = my_model.predict(x_valid)"
   ]
  },
  {
   "cell_type": "code",
   "execution_count": null,
   "metadata": {},
   "outputs": [],
   "source": [
    "df = pd.Da"
   ]
  },
  {
   "cell_type": "code",
   "execution_count": 43,
   "metadata": {},
   "outputs": [],
   "source": [
    "xy_model = LinearRegression()"
   ]
  },
  {
   "cell_type": "code",
   "execution_count": 44,
   "metadata": {},
   "outputs": [
    {
     "output_type": "execute_result",
     "data": {
      "text/plain": "LinearRegression(copy_X=True, fit_intercept=True, n_jobs=None, normalize=False)"
     },
     "metadata": {},
     "execution_count": 44
    }
   ],
   "source": [
    "xy_model.fit(df,df.y)"
   ]
  },
  {
   "cell_type": "code",
   "execution_count": 45,
   "metadata": {},
   "outputs": [
    {
     "output_type": "execute_result",
     "data": {
      "text/plain": "1.0"
     },
     "metadata": {},
     "execution_count": 45
    }
   ],
   "source": [
    "xy_model.score(df,df.y)"
   ]
  },
  {
   "cell_type": "code",
   "execution_count": 46,
   "metadata": {},
   "outputs": [
    {
     "output_type": "stream",
     "name": "stdout",
     "text": "Making predictions of the following 5 points:\n           x           y\n0   8.519119   48.073811\n1  12.059918  302.657224\n2  11.547357  247.531965\n3  10.383055  127.686318\n4   8.492261   55.086710\nThe predictions are:\n[ 48.07381108 302.65722387 247.53196472 127.68631816  55.08671015]\n"
    }
   ],
   "source": [
    "# Simple model try-out\n",
    "print(\"Making predictions of the following 5 points:\")\n",
    "print(df.head())\n",
    "print(\"The predictions are:\")\n",
    "print(xy_model.predict(df.head()))"
   ]
  },
  {
   "cell_type": "code",
   "execution_count": 7,
   "metadata": {},
   "outputs": [
    {
     "output_type": "error",
     "ename": "NotFittedError",
     "evalue": "This LinearRegression instance is not fitted yet. Call 'fit' with appropriate arguments before using this estimator.",
     "traceback": [
      "\u001b[1;31m---------------------------------------------------------------------------\u001b[0m",
      "\u001b[1;31mNotFittedError\u001b[0m                            Traceback (most recent call last)",
      "\u001b[1;32m<ipython-input-7-1ae0dc0cbada>\u001b[0m in \u001b[0;36m<module>\u001b[1;34m\u001b[0m\n\u001b[0;32m      5\u001b[0m \u001b[0my_true\u001b[0m \u001b[1;33m=\u001b[0m \u001b[0mdf\u001b[0m\u001b[1;33m.\u001b[0m\u001b[0my\u001b[0m\u001b[1;33m\u001b[0m\u001b[1;33m\u001b[0m\u001b[0m\n\u001b[0;32m      6\u001b[0m \u001b[1;31m## Store predicted values\u001b[0m\u001b[1;33m\u001b[0m\u001b[1;33m\u001b[0m\u001b[1;33m\u001b[0m\u001b[0m\n\u001b[1;32m----> 7\u001b[1;33m \u001b[0my_predicted\u001b[0m \u001b[1;33m=\u001b[0m \u001b[0mxy_model\u001b[0m\u001b[1;33m.\u001b[0m\u001b[0mpredict\u001b[0m\u001b[1;33m(\u001b[0m\u001b[0mdf\u001b[0m\u001b[1;33m)\u001b[0m\u001b[1;33m\u001b[0m\u001b[1;33m\u001b[0m\u001b[0m\n\u001b[0m\u001b[0;32m      8\u001b[0m \u001b[1;33m\u001b[0m\u001b[0m\n\u001b[0;32m      9\u001b[0m \u001b[1;31m## Calculate metrics\u001b[0m\u001b[1;33m\u001b[0m\u001b[1;33m\u001b[0m\u001b[1;33m\u001b[0m\u001b[0m\n",
      "\u001b[1;32m~\\miniconda3\\lib\\site-packages\\sklearn\\linear_model\\_base.py\u001b[0m in \u001b[0;36mpredict\u001b[1;34m(self, X)\u001b[0m\n\u001b[0;32m    223\u001b[0m             \u001b[0mReturns\u001b[0m \u001b[0mpredicted\u001b[0m \u001b[0mvalues\u001b[0m\u001b[1;33m.\u001b[0m\u001b[1;33m\u001b[0m\u001b[1;33m\u001b[0m\u001b[0m\n\u001b[0;32m    224\u001b[0m         \"\"\"\n\u001b[1;32m--> 225\u001b[1;33m         \u001b[1;32mreturn\u001b[0m \u001b[0mself\u001b[0m\u001b[1;33m.\u001b[0m\u001b[0m_decision_function\u001b[0m\u001b[1;33m(\u001b[0m\u001b[0mX\u001b[0m\u001b[1;33m)\u001b[0m\u001b[1;33m\u001b[0m\u001b[1;33m\u001b[0m\u001b[0m\n\u001b[0m\u001b[0;32m    226\u001b[0m \u001b[1;33m\u001b[0m\u001b[0m\n\u001b[0;32m    227\u001b[0m     \u001b[0m_preprocess_data\u001b[0m \u001b[1;33m=\u001b[0m \u001b[0mstaticmethod\u001b[0m\u001b[1;33m(\u001b[0m\u001b[0m_preprocess_data\u001b[0m\u001b[1;33m)\u001b[0m\u001b[1;33m\u001b[0m\u001b[1;33m\u001b[0m\u001b[0m\n",
      "\u001b[1;32m~\\miniconda3\\lib\\site-packages\\sklearn\\linear_model\\_base.py\u001b[0m in \u001b[0;36m_decision_function\u001b[1;34m(self, X)\u001b[0m\n\u001b[0;32m    203\u001b[0m \u001b[1;33m\u001b[0m\u001b[0m\n\u001b[0;32m    204\u001b[0m     \u001b[1;32mdef\u001b[0m \u001b[0m_decision_function\u001b[0m\u001b[1;33m(\u001b[0m\u001b[0mself\u001b[0m\u001b[1;33m,\u001b[0m \u001b[0mX\u001b[0m\u001b[1;33m)\u001b[0m\u001b[1;33m:\u001b[0m\u001b[1;33m\u001b[0m\u001b[1;33m\u001b[0m\u001b[0m\n\u001b[1;32m--> 205\u001b[1;33m         \u001b[0mcheck_is_fitted\u001b[0m\u001b[1;33m(\u001b[0m\u001b[0mself\u001b[0m\u001b[1;33m)\u001b[0m\u001b[1;33m\u001b[0m\u001b[1;33m\u001b[0m\u001b[0m\n\u001b[0m\u001b[0;32m    206\u001b[0m \u001b[1;33m\u001b[0m\u001b[0m\n\u001b[0;32m    207\u001b[0m         \u001b[0mX\u001b[0m \u001b[1;33m=\u001b[0m \u001b[0mcheck_array\u001b[0m\u001b[1;33m(\u001b[0m\u001b[0mX\u001b[0m\u001b[1;33m,\u001b[0m \u001b[0maccept_sparse\u001b[0m\u001b[1;33m=\u001b[0m\u001b[1;33m[\u001b[0m\u001b[1;34m'csr'\u001b[0m\u001b[1;33m,\u001b[0m \u001b[1;34m'csc'\u001b[0m\u001b[1;33m,\u001b[0m \u001b[1;34m'coo'\u001b[0m\u001b[1;33m]\u001b[0m\u001b[1;33m)\u001b[0m\u001b[1;33m\u001b[0m\u001b[1;33m\u001b[0m\u001b[0m\n",
      "\u001b[1;32m~\\miniconda3\\lib\\site-packages\\sklearn\\utils\\validation.py\u001b[0m in \u001b[0;36mcheck_is_fitted\u001b[1;34m(estimator, attributes, msg, all_or_any)\u001b[0m\n\u001b[0;32m    965\u001b[0m \u001b[1;33m\u001b[0m\u001b[0m\n\u001b[0;32m    966\u001b[0m     \u001b[1;32mif\u001b[0m \u001b[1;32mnot\u001b[0m \u001b[0mattrs\u001b[0m\u001b[1;33m:\u001b[0m\u001b[1;33m\u001b[0m\u001b[1;33m\u001b[0m\u001b[0m\n\u001b[1;32m--> 967\u001b[1;33m         \u001b[1;32mraise\u001b[0m \u001b[0mNotFittedError\u001b[0m\u001b[1;33m(\u001b[0m\u001b[0mmsg\u001b[0m \u001b[1;33m%\u001b[0m \u001b[1;33m{\u001b[0m\u001b[1;34m'name'\u001b[0m\u001b[1;33m:\u001b[0m \u001b[0mtype\u001b[0m\u001b[1;33m(\u001b[0m\u001b[0mestimator\u001b[0m\u001b[1;33m)\u001b[0m\u001b[1;33m.\u001b[0m\u001b[0m__name__\u001b[0m\u001b[1;33m}\u001b[0m\u001b[1;33m)\u001b[0m\u001b[1;33m\u001b[0m\u001b[1;33m\u001b[0m\u001b[0m\n\u001b[0m\u001b[0;32m    968\u001b[0m \u001b[1;33m\u001b[0m\u001b[0m\n\u001b[0;32m    969\u001b[0m \u001b[1;33m\u001b[0m\u001b[0m\n",
      "\u001b[1;31mNotFittedError\u001b[0m: This LinearRegression instance is not fitted yet. Call 'fit' with appropriate arguments before using this estimator."
     ]
    }
   ],
   "source": [
    "# Is the previous model good?\n",
    "from sklearn.metrics import mean_absolute_error\n",
    "\n",
    "## Get true values\n",
    "y_true = df.y\n",
    "## Store predicted values\n",
    "y_predicted = xy_model.predict(df)\n",
    "\n",
    "## Calculate metrics\n",
    "print(f\"The avg. error is: {mean_absolute_error(y_true,y_predicted)}\")\n",
    "\n",
    "# Wow, the avg. error is so low! But we forgot to split into training and validation sets"
   ]
  },
  {
   "cell_type": "code",
   "execution_count": 6,
   "metadata": {},
   "outputs": [
    {
     "output_type": "error",
     "ename": "ValueError",
     "evalue": "Input contains NaN, infinity or a value too large for dtype('float64').",
     "traceback": [
      "\u001b[1;31m---------------------------------------------------------------------------\u001b[0m",
      "\u001b[1;31mValueError\u001b[0m                                Traceback (most recent call last)",
      "\u001b[1;32m<ipython-input-6-5476e68b224a>\u001b[0m in \u001b[0;36m<module>\u001b[1;34m\u001b[0m\n\u001b[0;32m      7\u001b[0m \u001b[1;31m# Re-execute fit and prediction and retrieve the new MAE\u001b[0m\u001b[1;33m\u001b[0m\u001b[1;33m\u001b[0m\u001b[1;33m\u001b[0m\u001b[0m\n\u001b[0;32m      8\u001b[0m \u001b[0mxy_model\u001b[0m \u001b[1;33m=\u001b[0m \u001b[0mLinearRegression\u001b[0m\u001b[1;33m(\u001b[0m\u001b[1;33m)\u001b[0m\u001b[1;33m\u001b[0m\u001b[1;33m\u001b[0m\u001b[0m\n\u001b[1;32m----> 9\u001b[1;33m \u001b[0mxy_model\u001b[0m\u001b[1;33m.\u001b[0m\u001b[0mfit\u001b[0m\u001b[1;33m(\u001b[0m\u001b[0mtrain_X\u001b[0m\u001b[1;33m,\u001b[0m\u001b[0mtrain_y\u001b[0m\u001b[1;33m)\u001b[0m\u001b[1;33m\u001b[0m\u001b[1;33m\u001b[0m\u001b[0m\n\u001b[0m\u001b[0;32m     10\u001b[0m \u001b[0mval_predictions\u001b[0m \u001b[1;33m=\u001b[0m \u001b[0mxy_model\u001b[0m\u001b[1;33m.\u001b[0m\u001b[0mpredict\u001b[0m\u001b[1;33m(\u001b[0m\u001b[0mval_X\u001b[0m\u001b[1;33m)\u001b[0m\u001b[1;33m\u001b[0m\u001b[1;33m\u001b[0m\u001b[0m\n\u001b[0;32m     11\u001b[0m \u001b[1;33m\u001b[0m\u001b[0m\n",
      "\u001b[1;32m~\\miniconda3\\lib\\site-packages\\sklearn\\linear_model\\_base.py\u001b[0m in \u001b[0;36mfit\u001b[1;34m(self, X, y, sample_weight)\u001b[0m\n\u001b[0;32m    490\u001b[0m         \u001b[0mn_jobs_\u001b[0m \u001b[1;33m=\u001b[0m \u001b[0mself\u001b[0m\u001b[1;33m.\u001b[0m\u001b[0mn_jobs\u001b[0m\u001b[1;33m\u001b[0m\u001b[1;33m\u001b[0m\u001b[0m\n\u001b[0;32m    491\u001b[0m         X, y = check_X_y(X, y, accept_sparse=['csr', 'csc', 'coo'],\n\u001b[1;32m--> 492\u001b[1;33m                          y_numeric=True, multi_output=True)\n\u001b[0m\u001b[0;32m    493\u001b[0m \u001b[1;33m\u001b[0m\u001b[0m\n\u001b[0;32m    494\u001b[0m         \u001b[1;32mif\u001b[0m \u001b[0msample_weight\u001b[0m \u001b[1;32mis\u001b[0m \u001b[1;32mnot\u001b[0m \u001b[1;32mNone\u001b[0m\u001b[1;33m:\u001b[0m\u001b[1;33m\u001b[0m\u001b[1;33m\u001b[0m\u001b[0m\n",
      "\u001b[1;32m~\\miniconda3\\lib\\site-packages\\sklearn\\utils\\validation.py\u001b[0m in \u001b[0;36mcheck_X_y\u001b[1;34m(X, y, accept_sparse, accept_large_sparse, dtype, order, copy, force_all_finite, ensure_2d, allow_nd, multi_output, ensure_min_samples, ensure_min_features, y_numeric, warn_on_dtype, estimator)\u001b[0m\n\u001b[0;32m    753\u001b[0m                     \u001b[0mensure_min_features\u001b[0m\u001b[1;33m=\u001b[0m\u001b[0mensure_min_features\u001b[0m\u001b[1;33m,\u001b[0m\u001b[1;33m\u001b[0m\u001b[1;33m\u001b[0m\u001b[0m\n\u001b[0;32m    754\u001b[0m                     \u001b[0mwarn_on_dtype\u001b[0m\u001b[1;33m=\u001b[0m\u001b[0mwarn_on_dtype\u001b[0m\u001b[1;33m,\u001b[0m\u001b[1;33m\u001b[0m\u001b[1;33m\u001b[0m\u001b[0m\n\u001b[1;32m--> 755\u001b[1;33m                     estimator=estimator)\n\u001b[0m\u001b[0;32m    756\u001b[0m     \u001b[1;32mif\u001b[0m \u001b[0mmulti_output\u001b[0m\u001b[1;33m:\u001b[0m\u001b[1;33m\u001b[0m\u001b[1;33m\u001b[0m\u001b[0m\n\u001b[0;32m    757\u001b[0m         y = check_array(y, 'csr', force_all_finite=True, ensure_2d=False,\n",
      "\u001b[1;32m~\\miniconda3\\lib\\site-packages\\sklearn\\utils\\validation.py\u001b[0m in \u001b[0;36mcheck_array\u001b[1;34m(array, accept_sparse, accept_large_sparse, dtype, order, copy, force_all_finite, ensure_2d, allow_nd, ensure_min_samples, ensure_min_features, warn_on_dtype, estimator)\u001b[0m\n\u001b[0;32m    576\u001b[0m         \u001b[1;32mif\u001b[0m \u001b[0mforce_all_finite\u001b[0m\u001b[1;33m:\u001b[0m\u001b[1;33m\u001b[0m\u001b[1;33m\u001b[0m\u001b[0m\n\u001b[0;32m    577\u001b[0m             _assert_all_finite(array,\n\u001b[1;32m--> 578\u001b[1;33m                                allow_nan=force_all_finite == 'allow-nan')\n\u001b[0m\u001b[0;32m    579\u001b[0m \u001b[1;33m\u001b[0m\u001b[0m\n\u001b[0;32m    580\u001b[0m     \u001b[1;32mif\u001b[0m \u001b[0mensure_min_samples\u001b[0m \u001b[1;33m>\u001b[0m \u001b[1;36m0\u001b[0m\u001b[1;33m:\u001b[0m\u001b[1;33m\u001b[0m\u001b[1;33m\u001b[0m\u001b[0m\n",
      "\u001b[1;32m~\\miniconda3\\lib\\site-packages\\sklearn\\utils\\validation.py\u001b[0m in \u001b[0;36m_assert_all_finite\u001b[1;34m(X, allow_nan, msg_dtype)\u001b[0m\n\u001b[0;32m     58\u001b[0m                     \u001b[0mmsg_err\u001b[0m\u001b[1;33m.\u001b[0m\u001b[0mformat\u001b[0m\u001b[1;33m\u001b[0m\u001b[1;33m\u001b[0m\u001b[0m\n\u001b[0;32m     59\u001b[0m                     (type_err,\n\u001b[1;32m---> 60\u001b[1;33m                      msg_dtype if msg_dtype is not None else X.dtype)\n\u001b[0m\u001b[0;32m     61\u001b[0m             )\n\u001b[0;32m     62\u001b[0m     \u001b[1;31m# for object dtype data, we only check for NaNs (GH-13254)\u001b[0m\u001b[1;33m\u001b[0m\u001b[1;33m\u001b[0m\u001b[1;33m\u001b[0m\u001b[0m\n",
      "\u001b[1;31mValueError\u001b[0m: Input contains NaN, infinity or a value too large for dtype('float64')."
     ]
    }
   ],
   "source": [
    "# Get a more accurate model\n",
    "from sklearn.model_selection import train_test_split\n",
    "\n",
    "# Divide the sample \n",
    "train_X,val_X,train_y,val_y = train_test_split(df,df.y,random_state=1)\n",
    "\n",
    "# Re-execute fit and prediction and retrieve the new MAE\n",
    "xy_model = LinearRegression()\n",
    "xy_model.fit(train_X,train_y)\n",
    "val_predictions = xy_model.predict(val_X)\n",
    "\n",
    "# Print values\n",
    "print(val_predictions[:5])\n",
    "print(val_y.head().tolist())\n",
    "\n",
    "print(f\"The new avg. error with training/validation split is: {mean_absolute_error(val_predictions,val_y)}\")\n",
    "# The error is a little bit higher, but we need to inspect further here!"
   ]
  },
  {
   "cell_type": "markdown",
   "metadata": {},
   "source": [
    "# Handling missing values"
   ]
  },
  {
   "cell_type": "code",
   "execution_count": 32,
   "metadata": {},
   "outputs": [],
   "source": [
    "# Train-validation set split\n",
    "X_train,X_valid,y_train,y_valid = train_test_split(df,df.y,random_state=1)"
   ]
  },
  {
   "cell_type": "code",
   "execution_count": 33,
   "metadata": {},
   "outputs": [
    {
     "output_type": "stream",
     "name": "stdout",
     "text": "y    38\ndtype: int64\n"
    }
   ],
   "source": [
    "# Let's try with missing values\n",
    "# Retrieve the columns that have missings (all of them)\n",
    "cols_with_missings = [col for col in df.columns if df[col].isnull().any()]\n",
    "\n",
    "# Explicative situation for each column regarding missing values\n",
    "missing_values_count_by_cols = (df.isnull().sum())\n",
    "print(missing_values_count_by_cols[missing_values_count_by_cols > 0])"
   ]
  },
  {
   "cell_type": "code",
   "execution_count": 34,
   "metadata": {},
   "outputs": [],
   "source": [
    "## Just drop values from a SUBSET!\n",
    "# df.dropna(axis=0,subset=['x'],inplace=True) # drops all the observations for which \"x\" is null\n",
    "# df.dropna(axis=0,subset=['y'],inplace=True) # drops all the observations for which \"y\" is null"
   ]
  },
  {
   "cell_type": "code",
   "execution_count": 37,
   "metadata": {},
   "outputs": [],
   "source": [
    "# ## IMPUTING VALUES\n",
    "# from sklearn.impute import SimpleImputer\n",
    "\n",
    "# # Imputed values\n",
    "# my_imputer = SimpleImputer()\n",
    "# imputed_X_train = pd.DataFrame(my_imputer.fit_transform(X_train))\n",
    "# imputed_X_valid = pd.DataFrame(my_imputer.transform(X_valid))\n",
    "\n",
    "# # Restore column names\n",
    "# imputed_X_train.columns = X_train.columns\n",
    "# imputed_X_valid.columns = X_valid.columns"
   ]
  }
 ],
 "metadata": {
  "language_info": {
   "name": "python",
   "codemirror_mode": {
    "name": "ipython",
    "version": 3
   },
   "version": "3.7.6-final"
  },
  "orig_nbformat": 2,
  "file_extension": ".py",
  "mimetype": "text/x-python",
  "name": "python",
  "npconvert_exporter": "python",
  "pygments_lexer": "ipython3",
  "version": 3,
  "kernelspec": {
   "name": "python3",
   "display_name": "Python 3"
  }
 },
 "nbformat": 4,
 "nbformat_minor": 2
}