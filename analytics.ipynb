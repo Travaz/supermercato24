{
 "cells": [
  {
   "cell_type": "markdown",
   "metadata": {},
   "source": [
    "# Analytics - Linear Regression Challenge"
   ]
  },
  {
   "cell_type": "markdown",
   "metadata": {},
   "source": [
    "Common end-to-end ML project schedule to take inspirations from\n",
    "\n",
    "    (1) Look at the Big Picture\n",
    "            Frame the Problem\n",
    "            Select a Performance Measure\n",
    "            Check the Assumptions\n",
    "    (2) Get the Data\n",
    "            Create the Workspace\n",
    "            Download the Data\n",
    "            Take a Quick Look at the Data Structure\n",
    "            Create a Test Set\n",
    "    (3) Discover and Visualize the Data to Gain Insights\n",
    "            Visualizing Geographical Data\n",
    "            Looking for Correlations\n",
    "            Experimenting with Attribute Combinations\n",
    "    (4) Prepare the Data for Machine Learning Algorithms\n",
    "            Data Cleaning\n",
    "            Handling Text and Categorical Attributes\n",
    "            Custom Transformers\n",
    "            Feature Scaling\n",
    "            Transformation Pipelines\n",
    "    (5) Select and Train a Model\n",
    "            Training and Evaluating on the Training Set\n",
    "            Better Evaluation Using Cross-Validation\n",
    "    (6) Fine-Tune Your Model\n",
    "            Grid Search\n",
    "            Randomized Search\n",
    "            Ensemble Methods (Random forest and Gradient Boosting)\n",
    "            Analyze the Best Models and Their Errors\n",
    "            Evaluate Your System on the Test Set\n"
   ]
  },
  {
   "cell_type": "markdown",
   "metadata": {},
   "source": [
    "(TODO) My Index: \n",
    "\n",
    "    (1) Description of the challenge\n",
    "    (2) Data description \n",
    "    (3) Data visualization \n",
    "    (4) Data preprocessing -> Pipeline\n",
    "    (5) Scope definition\n",
    "    (6) Models definition\n",
    "    (7) Model-tuning and cross-validation for optimization!\n",
    "    (8) Conclusions"
   ]
  },
  {
   "cell_type": "markdown",
   "metadata": {},
   "source": [
    "## (1) Challenge description"
   ]
  },
  {
   "cell_type": "markdown",
   "metadata": {},
   "source": [
    "### (TODO) Here we provide a little overview of what we are required to do with my own words (rephrase the problem)"
   ]
  },
  {
   "cell_type": "markdown",
   "metadata": {},
   "source": [
    "Here attached a csv file containing a sample dataset consisting in (x, y) pairs on which you’ll have to perform a regression task. Here’s what you’ll need to do:\n",
    "\n",
    "    1.\tOpen the file and read the data.\n",
    "    2.\tClean the data if needed.\n",
    "    3.\tPlot the data.\n",
    "    4.\tFit two different regression models to the data (e.g. curves belonging to two different families).\n",
    "    5.\tChoose a metric for the evaluation of the models and perform the evaluation using cross-validation.\n",
    "    6.\tPlot the predictions from the best model against the data.\n",
    "\n",
    "We ask you to work in a Jupyter notebook specifying the versions of Python (version 3.x please) and all libraries you use: when you’re done send us the notebook and we’ll execute it and check the results. As an alternative, you can also work in a script: just make sure the results from cross-validation are printed to screen when we execute it via the terminal, and that the plots get saved as files in png format in the same directory containing the script (send us a compressed archive with the script and the plots you produced).\n"
   ]
  },
  {
   "cell_type": "markdown",
   "metadata": {},
   "source": [
    "## (2) Dataset overview [TODO]"
   ]
  },
  {
   "cell_type": "markdown",
   "metadata": {},
   "source": [
    "### (TODO) In this section we are going to load the data, conduct a preliminary analysis on the main characteristics of the data provided to get a sense on how we should proceed in our analysis (data to be cleaned? standardization vs. normalization? univariate vs. bivariate analysis?)\n",
    "\n",
    "    (1) Complete description\n",
    "    (2) See what we can add in order to perform a better analysis!"
   ]
  },
  {
   "cell_type": "code",
   "execution_count": 2,
   "metadata": {},
   "outputs": [],
   "source": [
    "import numpy as np\n",
    "import pandas as pd"
   ]
  },
  {
   "cell_type": "code",
   "execution_count": 3,
   "metadata": {},
   "outputs": [],
   "source": [
    "df = pd.read_csv(\"analytics_task_data.csv\")"
   ]
  },
  {
   "cell_type": "code",
   "execution_count": 4,
   "metadata": {},
   "outputs": [
    {
     "output_type": "execute_result",
     "data": {
      "text/plain": "           x           y\n0   8.519119   48.073811\n1  12.059918  302.657224\n2  11.547357  247.531965\n3  10.383055  127.686318\n4   8.492261   55.086710",
      "text/html": "<div>\n<style scoped>\n    .dataframe tbody tr th:only-of-type {\n        vertical-align: middle;\n    }\n\n    .dataframe tbody tr th {\n        vertical-align: top;\n    }\n\n    .dataframe thead th {\n        text-align: right;\n    }\n</style>\n<table border=\"1\" class=\"dataframe\">\n  <thead>\n    <tr style=\"text-align: right;\">\n      <th></th>\n      <th>x</th>\n      <th>y</th>\n    </tr>\n  </thead>\n  <tbody>\n    <tr>\n      <th>0</th>\n      <td>8.519119</td>\n      <td>48.073811</td>\n    </tr>\n    <tr>\n      <th>1</th>\n      <td>12.059918</td>\n      <td>302.657224</td>\n    </tr>\n    <tr>\n      <th>2</th>\n      <td>11.547357</td>\n      <td>247.531965</td>\n    </tr>\n    <tr>\n      <th>3</th>\n      <td>10.383055</td>\n      <td>127.686318</td>\n    </tr>\n    <tr>\n      <th>4</th>\n      <td>8.492261</td>\n      <td>55.086710</td>\n    </tr>\n  </tbody>\n</table>\n</div>"
     },
     "metadata": {},
     "execution_count": 4
    }
   ],
   "source": [
    "df.head()"
   ]
  },
  {
   "cell_type": "code",
   "execution_count": 5,
   "metadata": {},
   "outputs": [
    {
     "output_type": "execute_result",
     "data": {
      "text/plain": "                x           y\ncount  488.000000  462.000000\nmean     9.767819  133.752630\nstd      1.614540   91.797160\nmin      7.007803   10.443932\n25%      8.380894   59.919619\n50%      9.781597  104.201239\n75%     11.122550  194.316855\nmax     12.498972  375.943890",
      "text/html": "<div>\n<style scoped>\n    .dataframe tbody tr th:only-of-type {\n        vertical-align: middle;\n    }\n\n    .dataframe tbody tr th {\n        vertical-align: top;\n    }\n\n    .dataframe thead th {\n        text-align: right;\n    }\n</style>\n<table border=\"1\" class=\"dataframe\">\n  <thead>\n    <tr style=\"text-align: right;\">\n      <th></th>\n      <th>x</th>\n      <th>y</th>\n    </tr>\n  </thead>\n  <tbody>\n    <tr>\n      <th>count</th>\n      <td>488.000000</td>\n      <td>462.000000</td>\n    </tr>\n    <tr>\n      <th>mean</th>\n      <td>9.767819</td>\n      <td>133.752630</td>\n    </tr>\n    <tr>\n      <th>std</th>\n      <td>1.614540</td>\n      <td>91.797160</td>\n    </tr>\n    <tr>\n      <th>min</th>\n      <td>7.007803</td>\n      <td>10.443932</td>\n    </tr>\n    <tr>\n      <th>25%</th>\n      <td>8.380894</td>\n      <td>59.919619</td>\n    </tr>\n    <tr>\n      <th>50%</th>\n      <td>9.781597</td>\n      <td>104.201239</td>\n    </tr>\n    <tr>\n      <th>75%</th>\n      <td>11.122550</td>\n      <td>194.316855</td>\n    </tr>\n    <tr>\n      <th>max</th>\n      <td>12.498972</td>\n      <td>375.943890</td>\n    </tr>\n  </tbody>\n</table>\n</div>"
     },
     "metadata": {},
     "execution_count": 5
    }
   ],
   "source": [
    "df.describe()"
   ]
  },
  {
   "cell_type": "code",
   "execution_count": 6,
   "metadata": {},
   "outputs": [
    {
     "output_type": "stream",
     "name": "stdout",
     "text": "x    12\ny    38\ndtype: int64\n"
    }
   ],
   "source": [
    "# If there are missing values, we wish to see an overview for each column\n",
    "if np.array(df.isnull().any()).any() == True: # TODO: This code might need some improvements!\n",
    "    missing_data_sum = df.isnull().sum()\n",
    "    print(missing_data_sum)"
   ]
  },
  {
   "cell_type": "code",
   "execution_count": 7,
   "metadata": {},
   "outputs": [
    {
     "output_type": "stream",
     "name": "stdout",
     "text": "Percentage of missings over total for each column:\n\n        x: 2.4% \t \n        y: 7.6% \n\n"
    }
   ],
   "source": [
    "# Wish to go a little more in-depth with these missing values \n",
    "\n",
    "# Percentage of missings over total\n",
    "print(f\"\"\"Percentage of missings over total for each column:\n",
    "\n",
    "        x: {missing_data_sum.x/len(df.x) * 100}% \\t \n",
    "        y: {missing_data_sum.y/len(df.y) * 100}% \n",
    "\"\"\")"
   ]
  },
  {
   "cell_type": "code",
   "execution_count": 8,
   "metadata": {},
   "outputs": [],
   "source": [
    "# Given low percentages of data missing compared to overall size, we might want to proceed to drop them. However, we make a consideration here:\n",
    "# x -> drop (we might be to impute with sophisticated imputer such as KNN since a simpler one would probably get to a faulty road)\n",
    "# y -> drop them, but store on an external file that would work as a test data. Why? Well, because we might want to see how the two models perform on data that they have never seen before and plot how the line fit with these values\n",
    "\n",
    "## (1) Treat missings from dependent (\"y\")\n",
    "\n",
    "# Retrieve indeces for null values\n",
    "na_y_indeces = df.y[df.y.isnull()].index\n",
    "\n",
    "# Store values of \"x\" (for which \"y\" is null) in a new dataframe with new keys\n",
    "x_test = pd.DataFrame({\n",
    "    \"x\": df.x.loc[na_y_indeces].to_numpy()\n",
    "})\n",
    "\n",
    "# Save the data in a new file -> analytics_task_data_test.csv\n",
    "x_test.to_csv(\"analytics_task_data_test.csv\")\n",
    "\n",
    "# Drop these values from the original dataframe\n",
    "df.dropna(axis=0,subset=[\"y\"], inplace=True)\n",
    "\n",
    "# Assert that all proceeded as planned\n",
    "assert np.in1d(df.x,x_test.x).any() == False"
   ]
  },
  {
   "cell_type": "markdown",
   "metadata": {},
   "source": [
    "## (3) Data visualization [TODO]"
   ]
  },
  {
   "cell_type": "markdown",
   "metadata": {},
   "source": [
    "#### (TODO) Data visualization is a fundamental step in order to further explore the relationship between predictor(s) and target variable\n",
    "\n",
    "    (1) Might need the course on Kaggle to do a good job here!\n",
    "    (2) Univariate vs. Bivariate analysis:\n",
    "            Boxplots\n",
    "            Scatter plots\n",
    "    (3) Remember to add a final evaluation of the curve on the test set!"
   ]
  },
  {
   "cell_type": "code",
   "execution_count": 9,
   "metadata": {},
   "outputs": [
    {
     "output_type": "execute_result",
     "data": {
      "text/plain": "<matplotlib.collections.PathCollection at 0x2433a358bc8>"
     },
     "metadata": {},
     "execution_count": 9
    },
    {
     "output_type": "display_data",
     "data": {
      "text/plain": "<Figure size 432x288 with 1 Axes>",
      "image/svg+xml": "<?xml version=\"1.0\" encoding=\"utf-8\" standalone=\"no\"?>\r\n<!DOCTYPE svg PUBLIC \"-//W3C//DTD SVG 1.1//EN\"\r\n  \"http://www.w3.org/Graphics/SVG/1.1/DTD/svg11.dtd\">\r\n<!-- Created with matplotlib (https://matplotlib.org/) -->\r\n<svg height=\"248.518125pt\" version=\"1.1\" viewBox=\"0 0 375.2875 248.518125\" width=\"375.2875pt\" xmlns=\"http://www.w3.org/2000/svg\" xmlns:xlink=\"http://www.w3.org/1999/xlink\">\r\n <defs>\r\n  <style type=\"text/css\">\r\n*{stroke-linecap:butt;stroke-linejoin:round;}\r\n  </style>\r\n </defs>\r\n <g id=\"figure_1\">\r\n  <g id=\"patch_1\">\r\n   <path d=\"M 0 248.518125 \r\nL 375.2875 248.518125 \r\nL 375.2875 0 \r\nL 0 0 \r\nz\r\n\" style=\"fill:none;\"/>\r\n  </g>\r\n  <g id=\"axes_1\">\r\n   <g id=\"patch_2\">\r\n    <path d=\"M 33.2875 224.64 \r\nL 368.0875 224.64 \r\nL 368.0875 7.2 \r\nL 33.2875 7.2 \r\nz\r\n\" style=\"fill:#ffffff;\"/>\r\n   </g>\r\n   <g id=\"PathCollection_1\">\r\n    <defs>\r\n     <path d=\"M 0 3 \r\nC 0.795609 3 1.55874 2.683901 2.12132 2.12132 \r\nC 2.683901 1.55874 3 0.795609 3 0 \r\nC 3 -0.795609 2.683901 -1.55874 2.12132 -2.12132 \r\nC 1.55874 -2.683901 0.795609 -3 0 -3 \r\nC -0.795609 -3 -1.55874 -2.683901 -2.12132 -2.12132 \r\nC -2.683901 -1.55874 -3 -0.795609 -3 0 \r\nC -3 0.795609 -2.683901 1.55874 -2.12132 2.12132 \r\nC -1.55874 2.683901 -0.795609 3 0 3 \r\nz\r\n\" id=\"m6187e019d2\" style=\"stroke:#1f77b4;\"/>\r\n    </defs>\r\n    <g clip-path=\"url(#pbc70c5390f)\">\r\n     <use style=\"fill:#1f77b4;stroke:#1f77b4;\" x=\"132.497224\" xlink:href=\"#m6187e019d2\" y=\"194.399135\"/>\r\n     <use style=\"fill:#1f77b4;stroke:#1f77b4;\" x=\"328.117645\" xlink:href=\"#m6187e019d2\" y=\"56.72361\"/>\r\n     <use style=\"fill:#1f77b4;stroke:#1f77b4;\" x=\"299.7999\" xlink:href=\"#m6187e019d2\" y=\"86.53466\"/>\r\n     <use style=\"fill:#1f77b4;stroke:#1f77b4;\" x=\"235.475104\" xlink:href=\"#m6187e019d2\" y=\"151.345687\"/>\r\n     <use style=\"fill:#1f77b4;stroke:#1f77b4;\" x=\"131.013353\" xlink:href=\"#m6187e019d2\" y=\"190.606647\"/>\r\n     <use style=\"fill:#1f77b4;stroke:#1f77b4;\" x=\"137.240604\" xlink:href=\"#m6187e019d2\" y=\"185.444633\"/>\r\n     <use style=\"fill:#1f77b4;stroke:#1f77b4;\" x=\"190.191435\" xlink:href=\"#m6187e019d2\" y=\"181.210682\"/>\r\n     <use style=\"fill:#1f77b4;stroke:#1f77b4;\" x=\"350.155747\" xlink:href=\"#m6187e019d2\" y=\"30.509612\"/>\r\n     <use style=\"fill:#1f77b4;stroke:#1f77b4;\" x=\"165.856734\" xlink:href=\"#m6187e019d2\" y=\"180.716524\"/>\r\n     <use style=\"fill:#1f77b4;stroke:#1f77b4;\" x=\"92.660548\" xlink:href=\"#m6187e019d2\" y=\"202.475991\"/>\r\n     <use style=\"fill:#1f77b4;stroke:#1f77b4;\" x=\"276.211504\" xlink:href=\"#m6187e019d2\" y=\"120.614737\"/>\r\n     <use style=\"fill:#1f77b4;stroke:#1f77b4;\" x=\"158.759056\" xlink:href=\"#m6187e019d2\" y=\"186.055128\"/>\r\n     <use style=\"fill:#1f77b4;stroke:#1f77b4;\" x=\"239.574719\" xlink:href=\"#m6187e019d2\" y=\"149.252413\"/>\r\n     <use style=\"fill:#1f77b4;stroke:#1f77b4;\" x=\"189.165058\" xlink:href=\"#m6187e019d2\" y=\"173.292558\"/>\r\n     <use style=\"fill:#1f77b4;stroke:#1f77b4;\" x=\"344.629465\" xlink:href=\"#m6187e019d2\" y=\"30.916668\"/>\r\n     <use style=\"fill:#1f77b4;stroke:#1f77b4;\" x=\"61.009178\" xlink:href=\"#m6187e019d2\" y=\"206.279201\"/>\r\n     <use style=\"fill:#1f77b4;stroke:#1f77b4;\" x=\"107.786249\" xlink:href=\"#m6187e019d2\" y=\"182.628852\"/>\r\n     <use style=\"fill:#1f77b4;stroke:#1f77b4;\" x=\"126.440587\" xlink:href=\"#m6187e019d2\" y=\"190.368536\"/>\r\n     <use style=\"fill:#1f77b4;stroke:#1f77b4;\" x=\"103.733401\" xlink:href=\"#m6187e019d2\" y=\"197.288358\"/>\r\n     <use style=\"fill:#1f77b4;stroke:#1f77b4;\" x=\"237.712317\" xlink:href=\"#m6187e019d2\" y=\"145.513458\"/>\r\n     <use style=\"fill:#1f77b4;stroke:#1f77b4;\" x=\"213.830821\" xlink:href=\"#m6187e019d2\" y=\"170.794037\"/>\r\n     <use style=\"fill:#1f77b4;stroke:#1f77b4;\" x=\"336.059835\" xlink:href=\"#m6187e019d2\" y=\"55.882868\"/>\r\n     <use style=\"fill:#1f77b4;stroke:#1f77b4;\" x=\"114.958239\" xlink:href=\"#m6187e019d2\" y=\"188.201296\"/>\r\n     <use style=\"fill:#1f77b4;stroke:#1f77b4;\" x=\"239.264489\" xlink:href=\"#m6187e019d2\" y=\"145.725\"/>\r\n     <use style=\"fill:#1f77b4;stroke:#1f77b4;\" x=\"58.694064\" xlink:href=\"#m6187e019d2\" y=\"196.05046\"/>\r\n     <use style=\"fill:#1f77b4;stroke:#1f77b4;\" x=\"251.933629\" xlink:href=\"#m6187e019d2\" y=\"135.813098\"/>\r\n     <use style=\"fill:#1f77b4;stroke:#1f77b4;\" x=\"282.542007\" xlink:href=\"#m6187e019d2\" y=\"110.599763\"/>\r\n     <use style=\"fill:#1f77b4;stroke:#1f77b4;\" x=\"335.262928\" xlink:href=\"#m6187e019d2\" y=\"45.833556\"/>\r\n     <use style=\"fill:#1f77b4;stroke:#1f77b4;\" x=\"330.232404\" xlink:href=\"#m6187e019d2\" y=\"62.067217\"/>\r\n     <use style=\"fill:#1f77b4;stroke:#1f77b4;\" x=\"287.776218\" xlink:href=\"#m6187e019d2\" y=\"104.499659\"/>\r\n     <use style=\"fill:#1f77b4;stroke:#1f77b4;\" x=\"95.601701\" xlink:href=\"#m6187e019d2\" y=\"188.275269\"/>\r\n     <use style=\"fill:#1f77b4;stroke:#1f77b4;\" x=\"87.127529\" xlink:href=\"#m6187e019d2\" y=\"187.534347\"/>\r\n     <use style=\"fill:#1f77b4;stroke:#1f77b4;\" x=\"224.66531\" xlink:href=\"#m6187e019d2\" y=\"146.99072\"/>\r\n     <use style=\"fill:#1f77b4;stroke:#1f77b4;\" x=\"160.184271\" xlink:href=\"#m6187e019d2\" y=\"176.084706\"/>\r\n     <use style=\"fill:#1f77b4;stroke:#1f77b4;\" x=\"324.153327\" xlink:href=\"#m6187e019d2\" y=\"68.700198\"/>\r\n     <use style=\"fill:#1f77b4;stroke:#1f77b4;\" x=\"83.955835\" xlink:href=\"#m6187e019d2\" y=\"203.130141\"/>\r\n     <use style=\"fill:#1f77b4;stroke:#1f77b4;\" x=\"130.013497\" xlink:href=\"#m6187e019d2\" y=\"176.468286\"/>\r\n     <use style=\"fill:#1f77b4;stroke:#1f77b4;\" x=\"217.629103\" xlink:href=\"#m6187e019d2\" y=\"161.083179\"/>\r\n     <use style=\"fill:#1f77b4;stroke:#1f77b4;\" x=\"271.906366\" xlink:href=\"#m6187e019d2\" y=\"125.856824\"/>\r\n     <use style=\"fill:#1f77b4;stroke:#1f77b4;\" x=\"238.73808\" xlink:href=\"#m6187e019d2\" y=\"148.585554\"/>\r\n     <use style=\"fill:#1f77b4;stroke:#1f77b4;\" x=\"301.080142\" xlink:href=\"#m6187e019d2\" y=\"92.804329\"/>\r\n     <use style=\"fill:#1f77b4;stroke:#1f77b4;\" x=\"105.954373\" xlink:href=\"#m6187e019d2\" y=\"189.463593\"/>\r\n     <use style=\"fill:#1f77b4;stroke:#1f77b4;\" x=\"193.443877\" xlink:href=\"#m6187e019d2\" y=\"167.946605\"/>\r\n     <use style=\"fill:#1f77b4;stroke:#1f77b4;\" x=\"126.237236\" xlink:href=\"#m6187e019d2\" y=\"188.653228\"/>\r\n     <use style=\"fill:#1f77b4;stroke:#1f77b4;\" x=\"243.897471\" xlink:href=\"#m6187e019d2\" y=\"135.657146\"/>\r\n     <use style=\"fill:#1f77b4;stroke:#1f77b4;\" x=\"144.086253\" xlink:href=\"#m6187e019d2\" y=\"189.67235\"/>\r\n     <use style=\"fill:#1f77b4;stroke:#1f77b4;\" x=\"67.337698\" xlink:href=\"#m6187e019d2\" y=\"193.633522\"/>\r\n     <use style=\"fill:#1f77b4;stroke:#1f77b4;\" x=\"134.466858\" xlink:href=\"#m6187e019d2\" y=\"182.146414\"/>\r\n     <use style=\"fill:#1f77b4;stroke:#1f77b4;\" x=\"221.922486\" xlink:href=\"#m6187e019d2\" y=\"159.611957\"/>\r\n     <use style=\"fill:#1f77b4;stroke:#1f77b4;\" x=\"213.007798\" xlink:href=\"#m6187e019d2\" y=\"159.357111\"/>\r\n     <use style=\"fill:#1f77b4;stroke:#1f77b4;\" x=\"200.65895\" xlink:href=\"#m6187e019d2\" y=\"165.697922\"/>\r\n     <use style=\"fill:#1f77b4;stroke:#1f77b4;\" x=\"336.43508\" xlink:href=\"#m6187e019d2\" y=\"46.739575\"/>\r\n     <use style=\"fill:#1f77b4;stroke:#1f77b4;\" x=\"327.223636\" xlink:href=\"#m6187e019d2\" y=\"74.313878\"/>\r\n     <use style=\"fill:#1f77b4;stroke:#1f77b4;\" x=\"224.334004\" xlink:href=\"#m6187e019d2\" y=\"159.102769\"/>\r\n     <use style=\"fill:#1f77b4;stroke:#1f77b4;\" x=\"165.49455\" xlink:href=\"#m6187e019d2\" y=\"168.389492\"/>\r\n     <use style=\"fill:#1f77b4;stroke:#1f77b4;\" x=\"227.298397\" xlink:href=\"#m6187e019d2\" y=\"149.373077\"/>\r\n     <use style=\"fill:#1f77b4;stroke:#1f77b4;\" x=\"67.880579\" xlink:href=\"#m6187e019d2\" y=\"213.280056\"/>\r\n     <use style=\"fill:#1f77b4;stroke:#1f77b4;\" x=\"302.655473\" xlink:href=\"#m6187e019d2\" y=\"87.860585\"/>\r\n     <use style=\"fill:#1f77b4;stroke:#1f77b4;\" x=\"98.96432\" xlink:href=\"#m6187e019d2\" y=\"194.508691\"/>\r\n     <use style=\"fill:#1f77b4;stroke:#1f77b4;\" x=\"330.231201\" xlink:href=\"#m6187e019d2\" y=\"59.694113\"/>\r\n     <use style=\"fill:#1f77b4;stroke:#1f77b4;\" x=\"348.491783\" xlink:href=\"#m6187e019d2\" y=\"33.255397\"/>\r\n     <use style=\"fill:#1f77b4;stroke:#1f77b4;\" x=\"221.243897\" xlink:href=\"#m6187e019d2\" y=\"151.450395\"/>\r\n     <use style=\"fill:#1f77b4;stroke:#1f77b4;\" x=\"263.959861\" xlink:href=\"#m6187e019d2\" y=\"128.107594\"/>\r\n     <use style=\"fill:#1f77b4;stroke:#1f77b4;\" x=\"312.468716\" xlink:href=\"#m6187e019d2\" y=\"82.033657\"/>\r\n     <use style=\"fill:#1f77b4;stroke:#1f77b4;\" x=\"255.31294\" xlink:href=\"#m6187e019d2\" y=\"133.541452\"/>\r\n     <use style=\"fill:#1f77b4;stroke:#1f77b4;\" x=\"253.686905\" xlink:href=\"#m6187e019d2\" y=\"132.355277\"/>\r\n     <use style=\"fill:#1f77b4;stroke:#1f77b4;\" x=\"67.280888\" xlink:href=\"#m6187e019d2\" y=\"211.175988\"/>\r\n     <use style=\"fill:#1f77b4;stroke:#1f77b4;\" x=\"346.328787\" xlink:href=\"#m6187e019d2\" y=\"28.186648\"/>\r\n     <use style=\"fill:#1f77b4;stroke:#1f77b4;\" x=\"336.19816\" xlink:href=\"#m6187e019d2\" y=\"53.222279\"/>\r\n     <use style=\"fill:#1f77b4;stroke:#1f77b4;\" x=\"232.023492\" xlink:href=\"#m6187e019d2\" y=\"144.430383\"/>\r\n     <use style=\"fill:#1f77b4;stroke:#1f77b4;\" x=\"162.777545\" xlink:href=\"#m6187e019d2\" y=\"178.56378\"/>\r\n     <use style=\"fill:#1f77b4;stroke:#1f77b4;\" x=\"77.290783\" xlink:href=\"#m6187e019d2\" y=\"198.694061\"/>\r\n     <use style=\"fill:#1f77b4;stroke:#1f77b4;\" x=\"50.953626\" xlink:href=\"#m6187e019d2\" y=\"204.311356\"/>\r\n     <use style=\"fill:#1f77b4;stroke:#1f77b4;\" x=\"131.672827\" xlink:href=\"#m6187e019d2\" y=\"175.466167\"/>\r\n     <use style=\"fill:#1f77b4;stroke:#1f77b4;\" x=\"288.845208\" xlink:href=\"#m6187e019d2\" y=\"92.807603\"/>\r\n     <use style=\"fill:#1f77b4;stroke:#1f77b4;\" x=\"306.075651\" xlink:href=\"#m6187e019d2\" y=\"80.021428\"/>\r\n     <use style=\"fill:#1f77b4;stroke:#1f77b4;\" x=\"85.63737\" xlink:href=\"#m6187e019d2\" y=\"194.780898\"/>\r\n     <use style=\"fill:#1f77b4;stroke:#1f77b4;\" x=\"266.45439\" xlink:href=\"#m6187e019d2\" y=\"122.51999\"/>\r\n     <use style=\"fill:#1f77b4;stroke:#1f77b4;\" x=\"64.555298\" xlink:href=\"#m6187e019d2\" y=\"206.614408\"/>\r\n     <use style=\"fill:#1f77b4;stroke:#1f77b4;\" x=\"154.747375\" xlink:href=\"#m6187e019d2\" y=\"178.204453\"/>\r\n     <use style=\"fill:#1f77b4;stroke:#1f77b4;\" x=\"280.346509\" xlink:href=\"#m6187e019d2\" y=\"113.055261\"/>\r\n     <use style=\"fill:#1f77b4;stroke:#1f77b4;\" x=\"329.091166\" xlink:href=\"#m6187e019d2\" y=\"55.205972\"/>\r\n     <use style=\"fill:#1f77b4;stroke:#1f77b4;\" x=\"65.305827\" xlink:href=\"#m6187e019d2\" y=\"196.159778\"/>\r\n     <use style=\"fill:#1f77b4;stroke:#1f77b4;\" x=\"74.072119\" xlink:href=\"#m6187e019d2\" y=\"202.326191\"/>\r\n     <use style=\"fill:#1f77b4;stroke:#1f77b4;\" x=\"112.239072\" xlink:href=\"#m6187e019d2\" y=\"189.880896\"/>\r\n     <use style=\"fill:#1f77b4;stroke:#1f77b4;\" x=\"273.437217\" xlink:href=\"#m6187e019d2\" y=\"113.33563\"/>\r\n     <use style=\"fill:#1f77b4;stroke:#1f77b4;\" x=\"71.30685\" xlink:href=\"#m6187e019d2\" y=\"198.568648\"/>\r\n     <use style=\"fill:#1f77b4;stroke:#1f77b4;\" x=\"162.604152\" xlink:href=\"#m6187e019d2\" y=\"184.219599\"/>\r\n     <use style=\"fill:#1f77b4;stroke:#1f77b4;\" x=\"271.274152\" xlink:href=\"#m6187e019d2\" y=\"118.350203\"/>\r\n     <use style=\"fill:#1f77b4;stroke:#1f77b4;\" x=\"81.569855\" xlink:href=\"#m6187e019d2\" y=\"207.058356\"/>\r\n     <use style=\"fill:#1f77b4;stroke:#1f77b4;\" x=\"202.793192\" xlink:href=\"#m6187e019d2\" y=\"160.281982\"/>\r\n     <use style=\"fill:#1f77b4;stroke:#1f77b4;\" x=\"120.763479\" xlink:href=\"#m6187e019d2\" y=\"184.230497\"/>\r\n     <use style=\"fill:#1f77b4;stroke:#1f77b4;\" x=\"93.072105\" xlink:href=\"#m6187e019d2\" y=\"206.531898\"/>\r\n     <use style=\"fill:#1f77b4;stroke:#1f77b4;\" x=\"168.45144\" xlink:href=\"#m6187e019d2\" y=\"178.319482\"/>\r\n     <use style=\"fill:#1f77b4;stroke:#1f77b4;\" x=\"85.017364\" xlink:href=\"#m6187e019d2\" y=\"197.841716\"/>\r\n     <use style=\"fill:#1f77b4;stroke:#1f77b4;\" x=\"76.682947\" xlink:href=\"#m6187e019d2\" y=\"186.589138\"/>\r\n     <use style=\"fill:#1f77b4;stroke:#1f77b4;\" x=\"66.203743\" xlink:href=\"#m6187e019d2\" y=\"208.044507\"/>\r\n     <use style=\"fill:#1f77b4;stroke:#1f77b4;\" x=\"213.980887\" xlink:href=\"#m6187e019d2\" y=\"162.260713\"/>\r\n     <use style=\"fill:#1f77b4;stroke:#1f77b4;\" x=\"99.141264\" xlink:href=\"#m6187e019d2\" y=\"192.616164\"/>\r\n     <use style=\"fill:#1f77b4;stroke:#1f77b4;\" x=\"155.626857\" xlink:href=\"#m6187e019d2\" y=\"187.744514\"/>\r\n     <use style=\"fill:#1f77b4;stroke:#1f77b4;\" x=\"242.786936\" xlink:href=\"#m6187e019d2\" y=\"147.900331\"/>\r\n     <use style=\"fill:#1f77b4;stroke:#1f77b4;\" x=\"254.320324\" xlink:href=\"#m6187e019d2\" y=\"134.656039\"/>\r\n     <use style=\"fill:#1f77b4;stroke:#1f77b4;\" x=\"227.673721\" xlink:href=\"#m6187e019d2\" y=\"149.754946\"/>\r\n     <use style=\"fill:#1f77b4;stroke:#1f77b4;\" x=\"316.412282\" xlink:href=\"#m6187e019d2\" y=\"67.807872\"/>\r\n     <use style=\"fill:#1f77b4;stroke:#1f77b4;\" x=\"242.312216\" xlink:href=\"#m6187e019d2\" y=\"137.766507\"/>\r\n     <use style=\"fill:#1f77b4;stroke:#1f77b4;\" x=\"146.663376\" xlink:href=\"#m6187e019d2\" y=\"191.710625\"/>\r\n     <use style=\"fill:#1f77b4;stroke:#1f77b4;\" x=\"215.961146\" xlink:href=\"#m6187e019d2\" y=\"153.215832\"/>\r\n     <use style=\"fill:#1f77b4;stroke:#1f77b4;\" x=\"223.849196\" xlink:href=\"#m6187e019d2\" y=\"159.787175\"/>\r\n     <use style=\"fill:#1f77b4;stroke:#1f77b4;\" x=\"287.579345\" xlink:href=\"#m6187e019d2\" y=\"109.434597\"/>\r\n     <use style=\"fill:#1f77b4;stroke:#1f77b4;\" x=\"127.861831\" xlink:href=\"#m6187e019d2\" y=\"189.009291\"/>\r\n     <use style=\"fill:#1f77b4;stroke:#1f77b4;\" x=\"117.205267\" xlink:href=\"#m6187e019d2\" y=\"186.67723\"/>\r\n     <use style=\"fill:#1f77b4;stroke:#1f77b4;\" x=\"161.951528\" xlink:href=\"#m6187e019d2\" y=\"181.017057\"/>\r\n     <use style=\"fill:#1f77b4;stroke:#1f77b4;\" x=\"287.711374\" xlink:href=\"#m6187e019d2\" y=\"106.110544\"/>\r\n     <use style=\"fill:#1f77b4;stroke:#1f77b4;\" x=\"268.366694\" xlink:href=\"#m6187e019d2\" y=\"121.402712\"/>\r\n     <use style=\"fill:#1f77b4;stroke:#1f77b4;\" x=\"291.868639\" xlink:href=\"#m6187e019d2\" y=\"98.375417\"/>\r\n     <use style=\"fill:#1f77b4;stroke:#1f77b4;\" x=\"165.595518\" xlink:href=\"#m6187e019d2\" y=\"183.685902\"/>\r\n     <use style=\"fill:#1f77b4;stroke:#1f77b4;\" x=\"70.370168\" xlink:href=\"#m6187e019d2\" y=\"195.885119\"/>\r\n     <use style=\"fill:#1f77b4;stroke:#1f77b4;\" x=\"176.703586\" xlink:href=\"#m6187e019d2\" y=\"164.310157\"/>\r\n     <use style=\"fill:#1f77b4;stroke:#1f77b4;\" x=\"134.115189\" xlink:href=\"#m6187e019d2\" y=\"194.72944\"/>\r\n     <use style=\"fill:#1f77b4;stroke:#1f77b4;\" x=\"86.469374\" xlink:href=\"#m6187e019d2\" y=\"193.545121\"/>\r\n     <use style=\"fill:#1f77b4;stroke:#1f77b4;\" x=\"107.098406\" xlink:href=\"#m6187e019d2\" y=\"196.449714\"/>\r\n     <use style=\"fill:#1f77b4;stroke:#1f77b4;\" x=\"111.051579\" xlink:href=\"#m6187e019d2\" y=\"195.333971\"/>\r\n     <use style=\"fill:#1f77b4;stroke:#1f77b4;\" x=\"305.515907\" xlink:href=\"#m6187e019d2\" y=\"90.578882\"/>\r\n     <use style=\"fill:#1f77b4;stroke:#1f77b4;\" x=\"136.366116\" xlink:href=\"#m6187e019d2\" y=\"187.747292\"/>\r\n     <use style=\"fill:#1f77b4;stroke:#1f77b4;\" x=\"247.387597\" xlink:href=\"#m6187e019d2\" y=\"149.306872\"/>\r\n     <use style=\"fill:#1f77b4;stroke:#1f77b4;\" x=\"241.63706\" xlink:href=\"#m6187e019d2\" y=\"145.847583\"/>\r\n     <use style=\"fill:#1f77b4;stroke:#1f77b4;\" x=\"182.938456\" xlink:href=\"#m6187e019d2\" y=\"172.070681\"/>\r\n     <use style=\"fill:#1f77b4;stroke:#1f77b4;\" x=\"115.417277\" xlink:href=\"#m6187e019d2\" y=\"186.942097\"/>\r\n     <use style=\"fill:#1f77b4;stroke:#1f77b4;\" x=\"272.549969\" xlink:href=\"#m6187e019d2\" y=\"114.306\"/>\r\n     <use style=\"fill:#1f77b4;stroke:#1f77b4;\" x=\"330.671454\" xlink:href=\"#m6187e019d2\" y=\"62.612537\"/>\r\n     <use style=\"fill:#1f77b4;stroke:#1f77b4;\" x=\"270.98233\" xlink:href=\"#m6187e019d2\" y=\"122.547718\"/>\r\n     <use style=\"fill:#1f77b4;stroke:#1f77b4;\" x=\"219.077162\" xlink:href=\"#m6187e019d2\" y=\"148.3213\"/>\r\n     <use style=\"fill:#1f77b4;stroke:#1f77b4;\" x=\"317.863902\" xlink:href=\"#m6187e019d2\" y=\"73.926153\"/>\r\n     <use style=\"fill:#1f77b4;stroke:#1f77b4;\" x=\"323.245885\" xlink:href=\"#m6187e019d2\" y=\"65.192647\"/>\r\n     <use style=\"fill:#1f77b4;stroke:#1f77b4;\" x=\"59.551571\" xlink:href=\"#m6187e019d2\" y=\"200.055069\"/>\r\n     <use style=\"fill:#1f77b4;stroke:#1f77b4;\" x=\"134.511997\" xlink:href=\"#m6187e019d2\" y=\"185.23715\"/>\r\n     <use style=\"fill:#1f77b4;stroke:#1f77b4;\" x=\"297.334634\" xlink:href=\"#m6187e019d2\" y=\"99.088299\"/>\r\n     <use style=\"fill:#1f77b4;stroke:#1f77b4;\" x=\"51.594505\" xlink:href=\"#m6187e019d2\" y=\"203.858011\"/>\r\n     <use style=\"fill:#1f77b4;stroke:#1f77b4;\" x=\"78.913468\" xlink:href=\"#m6187e019d2\" y=\"208.890432\"/>\r\n     <use style=\"fill:#1f77b4;stroke:#1f77b4;\" x=\"211.718409\" xlink:href=\"#m6187e019d2\" y=\"154.647243\"/>\r\n     <use style=\"fill:#1f77b4;stroke:#1f77b4;\" x=\"204.525468\" xlink:href=\"#m6187e019d2\" y=\"158.2905\"/>\r\n     <use style=\"fill:#1f77b4;stroke:#1f77b4;\" x=\"166.922942\" xlink:href=\"#m6187e019d2\" y=\"172.629068\"/>\r\n     <use style=\"fill:#1f77b4;stroke:#1f77b4;\" x=\"284.008602\" xlink:href=\"#m6187e019d2\" y=\"104.821996\"/>\r\n     <use style=\"fill:#1f77b4;stroke:#1f77b4;\" x=\"159.710249\" xlink:href=\"#m6187e019d2\" y=\"178.379015\"/>\r\n     <use style=\"fill:#1f77b4;stroke:#1f77b4;\" x=\"73.400295\" xlink:href=\"#m6187e019d2\" y=\"206.913729\"/>\r\n     <use style=\"fill:#1f77b4;stroke:#1f77b4;\" x=\"291.551264\" xlink:href=\"#m6187e019d2\" y=\"98.591545\"/>\r\n     <use style=\"fill:#1f77b4;stroke:#1f77b4;\" x=\"121.285034\" xlink:href=\"#m6187e019d2\" y=\"186.312735\"/>\r\n     <use style=\"fill:#1f77b4;stroke:#1f77b4;\" x=\"174.305356\" xlink:href=\"#m6187e019d2\" y=\"178.783773\"/>\r\n     <use style=\"fill:#1f77b4;stroke:#1f77b4;\" x=\"326.129418\" xlink:href=\"#m6187e019d2\" y=\"70.175273\"/>\r\n     <use style=\"fill:#1f77b4;stroke:#1f77b4;\" x=\"130.201592\" xlink:href=\"#m6187e019d2\" y=\"186.334333\"/>\r\n     <use style=\"fill:#1f77b4;stroke:#1f77b4;\" x=\"338.08188\" xlink:href=\"#m6187e019d2\" y=\"47.200809\"/>\r\n     <use style=\"fill:#1f77b4;stroke:#1f77b4;\" x=\"200.444081\" xlink:href=\"#m6187e019d2\" y=\"164.929354\"/>\r\n     <use style=\"fill:#1f77b4;stroke:#1f77b4;\" x=\"268.110465\" xlink:href=\"#m6187e019d2\" y=\"126.43655\"/>\r\n     <use style=\"fill:#1f77b4;stroke:#1f77b4;\" x=\"222.443576\" xlink:href=\"#m6187e019d2\" y=\"156.260209\"/>\r\n     <use style=\"fill:#1f77b4;stroke:#1f77b4;\" x=\"239.499195\" xlink:href=\"#m6187e019d2\" y=\"153.926732\"/>\r\n     <use style=\"fill:#1f77b4;stroke:#1f77b4;\" x=\"283.086103\" xlink:href=\"#m6187e019d2\" y=\"112.85861\"/>\r\n     <use style=\"fill:#1f77b4;stroke:#1f77b4;\" x=\"205.004822\" xlink:href=\"#m6187e019d2\" y=\"155.617202\"/>\r\n     <use style=\"fill:#1f77b4;stroke:#1f77b4;\" x=\"164.493368\" xlink:href=\"#m6187e019d2\" y=\"171.56779\"/>\r\n     <use style=\"fill:#1f77b4;stroke:#1f77b4;\" x=\"57.785607\" xlink:href=\"#m6187e019d2\" y=\"206.094748\"/>\r\n     <use style=\"fill:#1f77b4;stroke:#1f77b4;\" x=\"164.334356\" xlink:href=\"#m6187e019d2\" y=\"176.848102\"/>\r\n     <use style=\"fill:#1f77b4;stroke:#1f77b4;\" x=\"157.41652\" xlink:href=\"#m6187e019d2\" y=\"171.089853\"/>\r\n     <use style=\"fill:#1f77b4;stroke:#1f77b4;\" x=\"260.274592\" xlink:href=\"#m6187e019d2\" y=\"130.796361\"/>\r\n     <use style=\"fill:#1f77b4;stroke:#1f77b4;\" x=\"73.694947\" xlink:href=\"#m6187e019d2\" y=\"194.655537\"/>\r\n     <use style=\"fill:#1f77b4;stroke:#1f77b4;\" x=\"104.631402\" xlink:href=\"#m6187e019d2\" y=\"186.912937\"/>\r\n     <use style=\"fill:#1f77b4;stroke:#1f77b4;\" x=\"230.959726\" xlink:href=\"#m6187e019d2\" y=\"154.765871\"/>\r\n     <use style=\"fill:#1f77b4;stroke:#1f77b4;\" x=\"52.720399\" xlink:href=\"#m6187e019d2\" y=\"195.610219\"/>\r\n     <use style=\"fill:#1f77b4;stroke:#1f77b4;\" x=\"128.829645\" xlink:href=\"#m6187e019d2\" y=\"194.82212\"/>\r\n     <use style=\"fill:#1f77b4;stroke:#1f77b4;\" x=\"50.057196\" xlink:href=\"#m6187e019d2\" y=\"201.308643\"/>\r\n     <use style=\"fill:#1f77b4;stroke:#1f77b4;\" x=\"112.73806\" xlink:href=\"#m6187e019d2\" y=\"191.81082\"/>\r\n     <use style=\"fill:#1f77b4;stroke:#1f77b4;\" x=\"343.846217\" xlink:href=\"#m6187e019d2\" y=\"46.373609\"/>\r\n     <use style=\"fill:#1f77b4;stroke:#1f77b4;\" x=\"240.060364\" xlink:href=\"#m6187e019d2\" y=\"142.26794\"/>\r\n     <use style=\"fill:#1f77b4;stroke:#1f77b4;\" x=\"211.149698\" xlink:href=\"#m6187e019d2\" y=\"164.136629\"/>\r\n     <use style=\"fill:#1f77b4;stroke:#1f77b4;\" x=\"270.708339\" xlink:href=\"#m6187e019d2\" y=\"111.092592\"/>\r\n     <use style=\"fill:#1f77b4;stroke:#1f77b4;\" x=\"105.621992\" xlink:href=\"#m6187e019d2\" y=\"195.895725\"/>\r\n     <use style=\"fill:#1f77b4;stroke:#1f77b4;\" x=\"64.842978\" xlink:href=\"#m6187e019d2\" y=\"198.001358\"/>\r\n     <use style=\"fill:#1f77b4;stroke:#1f77b4;\" x=\"87.141535\" xlink:href=\"#m6187e019d2\" y=\"198.887845\"/>\r\n     <use style=\"fill:#1f77b4;stroke:#1f77b4;\" x=\"205.853339\" xlink:href=\"#m6187e019d2\" y=\"147.033629\"/>\r\n     <use style=\"fill:#1f77b4;stroke:#1f77b4;\" x=\"184.430799\" xlink:href=\"#m6187e019d2\" y=\"161.9965\"/>\r\n     <use style=\"fill:#1f77b4;stroke:#1f77b4;\" x=\"70.300536\" xlink:href=\"#m6187e019d2\" y=\"197.92498\"/>\r\n     <use style=\"fill:#1f77b4;stroke:#1f77b4;\" x=\"219.641784\" xlink:href=\"#m6187e019d2\" y=\"154.413207\"/>\r\n     <use style=\"fill:#1f77b4;stroke:#1f77b4;\" x=\"237.914815\" xlink:href=\"#m6187e019d2\" y=\"142.470927\"/>\r\n     <use style=\"fill:#1f77b4;stroke:#1f77b4;\" x=\"51.712092\" xlink:href=\"#m6187e019d2\" y=\"204.36979\"/>\r\n     <use style=\"fill:#1f77b4;stroke:#1f77b4;\" x=\"241.762439\" xlink:href=\"#m6187e019d2\" y=\"143.575333\"/>\r\n     <use style=\"fill:#1f77b4;stroke:#1f77b4;\" x=\"194.515041\" xlink:href=\"#m6187e019d2\" y=\"167.13313\"/>\r\n     <use style=\"fill:#1f77b4;stroke:#1f77b4;\" x=\"217.234771\" xlink:href=\"#m6187e019d2\" y=\"158.807586\"/>\r\n     <use style=\"fill:#1f77b4;stroke:#1f77b4;\" x=\"49.000731\" xlink:href=\"#m6187e019d2\" y=\"199.320564\"/>\r\n     <use style=\"fill:#1f77b4;stroke:#1f77b4;\" x=\"233.482039\" xlink:href=\"#m6187e019d2\" y=\"139.406099\"/>\r\n     <use style=\"fill:#1f77b4;stroke:#1f77b4;\" x=\"317.259629\" xlink:href=\"#m6187e019d2\" y=\"66.892471\"/>\r\n     <use style=\"fill:#1f77b4;stroke:#1f77b4;\" x=\"198.780676\" xlink:href=\"#m6187e019d2\" y=\"165.428545\"/>\r\n     <use style=\"fill:#1f77b4;stroke:#1f77b4;\" x=\"57.969996\" xlink:href=\"#m6187e019d2\" y=\"196.495915\"/>\r\n     <use style=\"fill:#1f77b4;stroke:#1f77b4;\" x=\"56.311688\" xlink:href=\"#m6187e019d2\" y=\"204.875638\"/>\r\n     <use style=\"fill:#1f77b4;stroke:#1f77b4;\" x=\"180.588114\" xlink:href=\"#m6187e019d2\" y=\"170.331712\"/>\r\n     <use style=\"fill:#1f77b4;stroke:#1f77b4;\" x=\"210.700066\" xlink:href=\"#m6187e019d2\" y=\"163.863552\"/>\r\n     <use style=\"fill:#1f77b4;stroke:#1f77b4;\" x=\"348.877419\" xlink:href=\"#m6187e019d2\" y=\"35.017629\"/>\r\n     <use style=\"fill:#1f77b4;stroke:#1f77b4;\" x=\"284.333824\" xlink:href=\"#m6187e019d2\" y=\"110.718715\"/>\r\n     <use style=\"fill:#1f77b4;stroke:#1f77b4;\" x=\"320.422338\" xlink:href=\"#m6187e019d2\" y=\"79.870734\"/>\r\n     <use style=\"fill:#1f77b4;stroke:#1f77b4;\" x=\"149.286776\" xlink:href=\"#m6187e019d2\" y=\"192.906869\"/>\r\n     <use style=\"fill:#1f77b4;stroke:#1f77b4;\" x=\"52.616422\" xlink:href=\"#m6187e019d2\" y=\"201.418018\"/>\r\n     <use style=\"fill:#1f77b4;stroke:#1f77b4;\" x=\"161.732155\" xlink:href=\"#m6187e019d2\" y=\"179.096731\"/>\r\n     <use style=\"fill:#1f77b4;stroke:#1f77b4;\" x=\"59.476435\" xlink:href=\"#m6187e019d2\" y=\"196.011695\"/>\r\n     <use style=\"fill:#1f77b4;stroke:#1f77b4;\" x=\"341.189075\" xlink:href=\"#m6187e019d2\" y=\"49.140906\"/>\r\n     <use style=\"fill:#1f77b4;stroke:#1f77b4;\" x=\"277.827656\" xlink:href=\"#m6187e019d2\" y=\"102.449017\"/>\r\n     <use style=\"fill:#1f77b4;stroke:#1f77b4;\" x=\"82.755289\" xlink:href=\"#m6187e019d2\" y=\"203.115498\"/>\r\n     <use style=\"fill:#1f77b4;stroke:#1f77b4;\" x=\"173.629959\" xlink:href=\"#m6187e019d2\" y=\"180.181764\"/>\r\n     <use style=\"fill:#1f77b4;stroke:#1f77b4;\" x=\"279.994851\" xlink:href=\"#m6187e019d2\" y=\"102.731052\"/>\r\n     <use style=\"fill:#1f77b4;stroke:#1f77b4;\" x=\"157.669179\" xlink:href=\"#m6187e019d2\" y=\"171.691907\"/>\r\n     <use style=\"fill:#1f77b4;stroke:#1f77b4;\" x=\"302.929556\" xlink:href=\"#m6187e019d2\" y=\"96.181355\"/>\r\n     <use style=\"fill:#1f77b4;stroke:#1f77b4;\" x=\"59.087643\" xlink:href=\"#m6187e019d2\" y=\"206.515433\"/>\r\n     <use style=\"fill:#1f77b4;stroke:#1f77b4;\" x=\"158.478837\" xlink:href=\"#m6187e019d2\" y=\"180.315464\"/>\r\n     <use style=\"fill:#1f77b4;stroke:#1f77b4;\" x=\"168.502482\" xlink:href=\"#m6187e019d2\" y=\"181.224373\"/>\r\n     <use style=\"fill:#1f77b4;stroke:#1f77b4;\" x=\"57.481734\" xlink:href=\"#m6187e019d2\" y=\"205.830297\"/>\r\n     <use style=\"fill:#1f77b4;stroke:#1f77b4;\" x=\"108.240767\" xlink:href=\"#m6187e019d2\" y=\"192.927746\"/>\r\n     <use style=\"fill:#1f77b4;stroke:#1f77b4;\" x=\"342.820732\" xlink:href=\"#m6187e019d2\" y=\"28.205247\"/>\r\n     <use style=\"fill:#1f77b4;stroke:#1f77b4;\" x=\"180.549449\" xlink:href=\"#m6187e019d2\" y=\"176.372804\"/>\r\n     <use style=\"fill:#1f77b4;stroke:#1f77b4;\" x=\"291.244645\" xlink:href=\"#m6187e019d2\" y=\"112.533643\"/>\r\n     <use style=\"fill:#1f77b4;stroke:#1f77b4;\" x=\"348.996499\" xlink:href=\"#m6187e019d2\" y=\"32.075588\"/>\r\n     <use style=\"fill:#1f77b4;stroke:#1f77b4;\" x=\"292.899864\" xlink:href=\"#m6187e019d2\" y=\"109.155478\"/>\r\n     <use style=\"fill:#1f77b4;stroke:#1f77b4;\" x=\"128.528832\" xlink:href=\"#m6187e019d2\" y=\"190.149982\"/>\r\n     <use style=\"fill:#1f77b4;stroke:#1f77b4;\" x=\"343.81933\" xlink:href=\"#m6187e019d2\" y=\"35.872152\"/>\r\n     <use style=\"fill:#1f77b4;stroke:#1f77b4;\" x=\"185.375052\" xlink:href=\"#m6187e019d2\" y=\"178.629087\"/>\r\n     <use style=\"fill:#1f77b4;stroke:#1f77b4;\" x=\"222.429221\" xlink:href=\"#m6187e019d2\" y=\"158.692569\"/>\r\n     <use style=\"fill:#1f77b4;stroke:#1f77b4;\" x=\"126.058519\" xlink:href=\"#m6187e019d2\" y=\"178.832919\"/>\r\n     <use style=\"fill:#1f77b4;stroke:#1f77b4;\" x=\"242.800319\" xlink:href=\"#m6187e019d2\" y=\"136.151978\"/>\r\n     <use style=\"fill:#1f77b4;stroke:#1f77b4;\" x=\"183.537482\" xlink:href=\"#m6187e019d2\" y=\"157.822968\"/>\r\n     <use style=\"fill:#1f77b4;stroke:#1f77b4;\" x=\"129.38263\" xlink:href=\"#m6187e019d2\" y=\"188.256748\"/>\r\n     <use style=\"fill:#1f77b4;stroke:#1f77b4;\" x=\"292.415238\" xlink:href=\"#m6187e019d2\" y=\"96.004053\"/>\r\n     <use style=\"fill:#1f77b4;stroke:#1f77b4;\" x=\"217.566392\" xlink:href=\"#m6187e019d2\" y=\"162.8837\"/>\r\n     <use style=\"fill:#1f77b4;stroke:#1f77b4;\" x=\"260.054374\" xlink:href=\"#m6187e019d2\" y=\"131.380608\"/>\r\n     <use style=\"fill:#1f77b4;stroke:#1f77b4;\" x=\"204.70977\" xlink:href=\"#m6187e019d2\" y=\"172.038818\"/>\r\n     <use style=\"fill:#1f77b4;stroke:#1f77b4;\" x=\"174.761368\" xlink:href=\"#m6187e019d2\" y=\"176.248039\"/>\r\n     <use style=\"fill:#1f77b4;stroke:#1f77b4;\" x=\"293.035621\" xlink:href=\"#m6187e019d2\" y=\"97.412079\"/>\r\n     <use style=\"fill:#1f77b4;stroke:#1f77b4;\" x=\"243.182548\" xlink:href=\"#m6187e019d2\" y=\"139.483546\"/>\r\n     <use style=\"fill:#1f77b4;stroke:#1f77b4;\" x=\"110.054627\" xlink:href=\"#m6187e019d2\" y=\"195.061861\"/>\r\n     <use style=\"fill:#1f77b4;stroke:#1f77b4;\" x=\"300.949676\" xlink:href=\"#m6187e019d2\" y=\"97.701196\"/>\r\n     <use style=\"fill:#1f77b4;stroke:#1f77b4;\" x=\"195.240018\" xlink:href=\"#m6187e019d2\" y=\"167.798978\"/>\r\n     <use style=\"fill:#1f77b4;stroke:#1f77b4;\" x=\"185.468257\" xlink:href=\"#m6187e019d2\" y=\"177.595189\"/>\r\n     <use style=\"fill:#1f77b4;stroke:#1f77b4;\" x=\"256.153897\" xlink:href=\"#m6187e019d2\" y=\"137.265971\"/>\r\n     <use style=\"fill:#1f77b4;stroke:#1f77b4;\" x=\"150.18416\" xlink:href=\"#m6187e019d2\" y=\"176.461181\"/>\r\n     <use style=\"fill:#1f77b4;stroke:#1f77b4;\" x=\"329.930116\" xlink:href=\"#m6187e019d2\" y=\"59.127273\"/>\r\n     <use style=\"fill:#1f77b4;stroke:#1f77b4;\" x=\"203.791306\" xlink:href=\"#m6187e019d2\" y=\"169.652143\"/>\r\n     <use style=\"fill:#1f77b4;stroke:#1f77b4;\" x=\"52.06005\" xlink:href=\"#m6187e019d2\" y=\"196.199224\"/>\r\n     <use style=\"fill:#1f77b4;stroke:#1f77b4;\" x=\"265.10077\" xlink:href=\"#m6187e019d2\" y=\"121.428771\"/>\r\n     <use style=\"fill:#1f77b4;stroke:#1f77b4;\" x=\"330.451288\" xlink:href=\"#m6187e019d2\" y=\"68.833882\"/>\r\n     <use style=\"fill:#1f77b4;stroke:#1f77b4;\" x=\"348.237374\" xlink:href=\"#m6187e019d2\" y=\"35.206998\"/>\r\n     <use style=\"fill:#1f77b4;stroke:#1f77b4;\" x=\"310.54228\" xlink:href=\"#m6187e019d2\" y=\"82.749421\"/>\r\n     <use style=\"fill:#1f77b4;stroke:#1f77b4;\" x=\"333.335939\" xlink:href=\"#m6187e019d2\" y=\"56.753624\"/>\r\n     <use style=\"fill:#1f77b4;stroke:#1f77b4;\" x=\"163.247205\" xlink:href=\"#m6187e019d2\" y=\"177.286446\"/>\r\n     <use style=\"fill:#1f77b4;stroke:#1f77b4;\" x=\"105.188235\" xlink:href=\"#m6187e019d2\" y=\"187.785509\"/>\r\n     <use style=\"fill:#1f77b4;stroke:#1f77b4;\" x=\"225.254036\" xlink:href=\"#m6187e019d2\" y=\"153.648773\"/>\r\n     <use style=\"fill:#1f77b4;stroke:#1f77b4;\" x=\"184.482453\" xlink:href=\"#m6187e019d2\" y=\"176.708151\"/>\r\n     <use style=\"fill:#1f77b4;stroke:#1f77b4;\" x=\"308.211008\" xlink:href=\"#m6187e019d2\" y=\"88.008079\"/>\r\n     <use style=\"fill:#1f77b4;stroke:#1f77b4;\" x=\"116.85518\" xlink:href=\"#m6187e019d2\" y=\"187.77791\"/>\r\n     <use style=\"fill:#1f77b4;stroke:#1f77b4;\" x=\"327.358455\" xlink:href=\"#m6187e019d2\" y=\"55.314646\"/>\r\n     <use style=\"fill:#1f77b4;stroke:#1f77b4;\" x=\"291.870236\" xlink:href=\"#m6187e019d2\" y=\"98.637702\"/>\r\n     <use style=\"fill:#1f77b4;stroke:#1f77b4;\" x=\"73.829912\" xlink:href=\"#m6187e019d2\" y=\"193.369688\"/>\r\n     <use style=\"fill:#1f77b4;stroke:#1f77b4;\" x=\"110.82325\" xlink:href=\"#m6187e019d2\" y=\"190.971393\"/>\r\n     <use style=\"fill:#1f77b4;stroke:#1f77b4;\" x=\"284.184534\" xlink:href=\"#m6187e019d2\" y=\"110.211696\"/>\r\n     <use style=\"fill:#1f77b4;stroke:#1f77b4;\" x=\"199.997712\" xlink:href=\"#m6187e019d2\" y=\"167.524165\"/>\r\n     <use style=\"fill:#1f77b4;stroke:#1f77b4;\" x=\"255.586635\" xlink:href=\"#m6187e019d2\" y=\"128.843561\"/>\r\n     <use style=\"fill:#1f77b4;stroke:#1f77b4;\" x=\"164.478277\" xlink:href=\"#m6187e019d2\" y=\"178.580873\"/>\r\n     <use style=\"fill:#1f77b4;stroke:#1f77b4;\" x=\"147.61417\" xlink:href=\"#m6187e019d2\" y=\"185.684815\"/>\r\n     <use style=\"fill:#1f77b4;stroke:#1f77b4;\" x=\"230.269389\" xlink:href=\"#m6187e019d2\" y=\"152.538168\"/>\r\n     <use style=\"fill:#1f77b4;stroke:#1f77b4;\" x=\"299.722055\" xlink:href=\"#m6187e019d2\" y=\"104.597909\"/>\r\n     <use style=\"fill:#1f77b4;stroke:#1f77b4;\" x=\"253.530201\" xlink:href=\"#m6187e019d2\" y=\"139.673557\"/>\r\n     <use style=\"fill:#1f77b4;stroke:#1f77b4;\" x=\"314.881937\" xlink:href=\"#m6187e019d2\" y=\"80.218151\"/>\r\n     <use style=\"fill:#1f77b4;stroke:#1f77b4;\" x=\"349.255768\" xlink:href=\"#m6187e019d2\" y=\"25.982695\"/>\r\n     <use style=\"fill:#1f77b4;stroke:#1f77b4;\" x=\"276.954816\" xlink:href=\"#m6187e019d2\" y=\"118.703958\"/>\r\n     <use style=\"fill:#1f77b4;stroke:#1f77b4;\" x=\"121.506369\" xlink:href=\"#m6187e019d2\" y=\"196.402734\"/>\r\n     <use style=\"fill:#1f77b4;stroke:#1f77b4;\" x=\"294.162411\" xlink:href=\"#m6187e019d2\" y=\"103.557683\"/>\r\n     <use style=\"fill:#1f77b4;stroke:#1f77b4;\" x=\"258.506974\" xlink:href=\"#m6187e019d2\" y=\"129.960262\"/>\r\n     <use style=\"fill:#1f77b4;stroke:#1f77b4;\" x=\"250.627531\" xlink:href=\"#m6187e019d2\" y=\"137.934751\"/>\r\n     <use style=\"fill:#1f77b4;stroke:#1f77b4;\" x=\"95.022704\" xlink:href=\"#m6187e019d2\" y=\"191.692375\"/>\r\n     <use style=\"fill:#1f77b4;stroke:#1f77b4;\" x=\"101.943304\" xlink:href=\"#m6187e019d2\" y=\"192.733421\"/>\r\n     <use style=\"fill:#1f77b4;stroke:#1f77b4;\" x=\"64.520358\" xlink:href=\"#m6187e019d2\" y=\"214.748902\"/>\r\n     <use style=\"fill:#1f77b4;stroke:#1f77b4;\" x=\"320.026178\" xlink:href=\"#m6187e019d2\" y=\"70.568131\"/>\r\n     <use style=\"fill:#1f77b4;stroke:#1f77b4;\" x=\"81.178873\" xlink:href=\"#m6187e019d2\" y=\"192.815781\"/>\r\n     <use style=\"fill:#1f77b4;stroke:#1f77b4;\" x=\"272.439366\" xlink:href=\"#m6187e019d2\" y=\"114.895375\"/>\r\n     <use style=\"fill:#1f77b4;stroke:#1f77b4;\" x=\"330.236871\" xlink:href=\"#m6187e019d2\" y=\"57.287764\"/>\r\n     <use style=\"fill:#1f77b4;stroke:#1f77b4;\" x=\"108.941\" xlink:href=\"#m6187e019d2\" y=\"203.613238\"/>\r\n     <use style=\"fill:#1f77b4;stroke:#1f77b4;\" x=\"243.824218\" xlink:href=\"#m6187e019d2\" y=\"137.925458\"/>\r\n     <use style=\"fill:#1f77b4;stroke:#1f77b4;\" x=\"219.995549\" xlink:href=\"#m6187e019d2\" y=\"151.564774\"/>\r\n     <use style=\"fill:#1f77b4;stroke:#1f77b4;\" x=\"143.75429\" xlink:href=\"#m6187e019d2\" y=\"176.481003\"/>\r\n     <use style=\"fill:#1f77b4;stroke:#1f77b4;\" x=\"136.243833\" xlink:href=\"#m6187e019d2\" y=\"189.807805\"/>\r\n     <use style=\"fill:#1f77b4;stroke:#1f77b4;\" x=\"281.366362\" xlink:href=\"#m6187e019d2\" y=\"108.293756\"/>\r\n     <use style=\"fill:#1f77b4;stroke:#1f77b4;\" x=\"232.79038\" xlink:href=\"#m6187e019d2\" y=\"141.299053\"/>\r\n     <use style=\"fill:#1f77b4;stroke:#1f77b4;\" x=\"287.981348\" xlink:href=\"#m6187e019d2\" y=\"103.722263\"/>\r\n     <use style=\"fill:#1f77b4;stroke:#1f77b4;\" x=\"233.134938\" xlink:href=\"#m6187e019d2\" y=\"143.978921\"/>\r\n     <use style=\"fill:#1f77b4;stroke:#1f77b4;\" x=\"261.847363\" xlink:href=\"#m6187e019d2\" y=\"130.786292\"/>\r\n     <use style=\"fill:#1f77b4;stroke:#1f77b4;\" x=\"141.005009\" xlink:href=\"#m6187e019d2\" y=\"178.934136\"/>\r\n     <use style=\"fill:#1f77b4;stroke:#1f77b4;\" x=\"296.685297\" xlink:href=\"#m6187e019d2\" y=\"87.313499\"/>\r\n     <use style=\"fill:#1f77b4;stroke:#1f77b4;\" x=\"173.221193\" xlink:href=\"#m6187e019d2\" y=\"168.611115\"/>\r\n     <use style=\"fill:#1f77b4;stroke:#1f77b4;\" x=\"140.142122\" xlink:href=\"#m6187e019d2\" y=\"190.472499\"/>\r\n     <use style=\"fill:#1f77b4;stroke:#1f77b4;\" x=\"113.002317\" xlink:href=\"#m6187e019d2\" y=\"183.020103\"/>\r\n     <use style=\"fill:#1f77b4;stroke:#1f77b4;\" x=\"86.603195\" xlink:href=\"#m6187e019d2\" y=\"199.493102\"/>\r\n     <use style=\"fill:#1f77b4;stroke:#1f77b4;\" x=\"92.450255\" xlink:href=\"#m6187e019d2\" y=\"192.602433\"/>\r\n     <use style=\"fill:#1f77b4;stroke:#1f77b4;\" x=\"104.063592\" xlink:href=\"#m6187e019d2\" y=\"202.941719\"/>\r\n     <use style=\"fill:#1f77b4;stroke:#1f77b4;\" x=\"325.484435\" xlink:href=\"#m6187e019d2\" y=\"58.985987\"/>\r\n     <use style=\"fill:#1f77b4;stroke:#1f77b4;\" x=\"343.957177\" xlink:href=\"#m6187e019d2\" y=\"39.241636\"/>\r\n     <use style=\"fill:#1f77b4;stroke:#1f77b4;\" x=\"184.079998\" xlink:href=\"#m6187e019d2\" y=\"171.344396\"/>\r\n     <use style=\"fill:#1f77b4;stroke:#1f77b4;\" x=\"237.107411\" xlink:href=\"#m6187e019d2\" y=\"150.746557\"/>\r\n     <use style=\"fill:#1f77b4;stroke:#1f77b4;\" x=\"326.057938\" xlink:href=\"#m6187e019d2\" y=\"67.769938\"/>\r\n     <use style=\"fill:#1f77b4;stroke:#1f77b4;\" x=\"164.342647\" xlink:href=\"#m6187e019d2\" y=\"179.161091\"/>\r\n     <use style=\"fill:#1f77b4;stroke:#1f77b4;\" x=\"117.693598\" xlink:href=\"#m6187e019d2\" y=\"197.751951\"/>\r\n     <use style=\"fill:#1f77b4;stroke:#1f77b4;\" x=\"322.705286\" xlink:href=\"#m6187e019d2\" y=\"63.392804\"/>\r\n     <use style=\"fill:#1f77b4;stroke:#1f77b4;\" x=\"268.950753\" xlink:href=\"#m6187e019d2\" y=\"121.609182\"/>\r\n     <use style=\"fill:#1f77b4;stroke:#1f77b4;\" x=\"77.062272\" xlink:href=\"#m6187e019d2\" y=\"205.676196\"/>\r\n     <use style=\"fill:#1f77b4;stroke:#1f77b4;\" x=\"82.386624\" xlink:href=\"#m6187e019d2\" y=\"195.896231\"/>\r\n     <use style=\"fill:#1f77b4;stroke:#1f77b4;\" x=\"199.895257\" xlink:href=\"#m6187e019d2\" y=\"162.972795\"/>\r\n     <use style=\"fill:#1f77b4;stroke:#1f77b4;\" x=\"153.927198\" xlink:href=\"#m6187e019d2\" y=\"178.641302\"/>\r\n     <use style=\"fill:#1f77b4;stroke:#1f77b4;\" x=\"163.698087\" xlink:href=\"#m6187e019d2\" y=\"176.545871\"/>\r\n     <use style=\"fill:#1f77b4;stroke:#1f77b4;\" x=\"106.880731\" xlink:href=\"#m6187e019d2\" y=\"193.952741\"/>\r\n     <use style=\"fill:#1f77b4;stroke:#1f77b4;\" x=\"335.195597\" xlink:href=\"#m6187e019d2\" y=\"59.999571\"/>\r\n     <use style=\"fill:#1f77b4;stroke:#1f77b4;\" x=\"297.680601\" xlink:href=\"#m6187e019d2\" y=\"97.55725\"/>\r\n     <use style=\"fill:#1f77b4;stroke:#1f77b4;\" x=\"167.746608\" xlink:href=\"#m6187e019d2\" y=\"185.388181\"/>\r\n     <use style=\"fill:#1f77b4;stroke:#1f77b4;\" x=\"141.342931\" xlink:href=\"#m6187e019d2\" y=\"181.844227\"/>\r\n     <use style=\"fill:#1f77b4;stroke:#1f77b4;\" x=\"264.168533\" xlink:href=\"#m6187e019d2\" y=\"121.992675\"/>\r\n     <use style=\"fill:#1f77b4;stroke:#1f77b4;\" x=\"200.644389\" xlink:href=\"#m6187e019d2\" y=\"167.082048\"/>\r\n     <use style=\"fill:#1f77b4;stroke:#1f77b4;\" x=\"295.440849\" xlink:href=\"#m6187e019d2\" y=\"95.760209\"/>\r\n     <use style=\"fill:#1f77b4;stroke:#1f77b4;\" x=\"68.603082\" xlink:href=\"#m6187e019d2\" y=\"209.803865\"/>\r\n     <use style=\"fill:#1f77b4;stroke:#1f77b4;\" x=\"158.483569\" xlink:href=\"#m6187e019d2\" y=\"176.845989\"/>\r\n     <use style=\"fill:#1f77b4;stroke:#1f77b4;\" x=\"201.698779\" xlink:href=\"#m6187e019d2\" y=\"165.659143\"/>\r\n     <use style=\"fill:#1f77b4;stroke:#1f77b4;\" x=\"93.278196\" xlink:href=\"#m6187e019d2\" y=\"198.459151\"/>\r\n     <use style=\"fill:#1f77b4;stroke:#1f77b4;\" x=\"150.525594\" xlink:href=\"#m6187e019d2\" y=\"177.167962\"/>\r\n     <use style=\"fill:#1f77b4;stroke:#1f77b4;\" x=\"337.426755\" xlink:href=\"#m6187e019d2\" y=\"53.244899\"/>\r\n     <use style=\"fill:#1f77b4;stroke:#1f77b4;\" x=\"251.226671\" xlink:href=\"#m6187e019d2\" y=\"135.756211\"/>\r\n     <use style=\"fill:#1f77b4;stroke:#1f77b4;\" x=\"313.009904\" xlink:href=\"#m6187e019d2\" y=\"81.342729\"/>\r\n     <use style=\"fill:#1f77b4;stroke:#1f77b4;\" x=\"175.894839\" xlink:href=\"#m6187e019d2\" y=\"169.03356\"/>\r\n     <use style=\"fill:#1f77b4;stroke:#1f77b4;\" x=\"263.337809\" xlink:href=\"#m6187e019d2\" y=\"129.191093\"/>\r\n     <use style=\"fill:#1f77b4;stroke:#1f77b4;\" x=\"282.799824\" xlink:href=\"#m6187e019d2\" y=\"114.805124\"/>\r\n     <use style=\"fill:#1f77b4;stroke:#1f77b4;\" x=\"53.686781\" xlink:href=\"#m6187e019d2\" y=\"208.315654\"/>\r\n     <use style=\"fill:#1f77b4;stroke:#1f77b4;\" x=\"351.977317\" xlink:href=\"#m6187e019d2\" y=\"24.686217\"/>\r\n     <use style=\"fill:#1f77b4;stroke:#1f77b4;\" x=\"259.031721\" xlink:href=\"#m6187e019d2\" y=\"123.535408\"/>\r\n     <use style=\"fill:#1f77b4;stroke:#1f77b4;\" x=\"276.686875\" xlink:href=\"#m6187e019d2\" y=\"106.827393\"/>\r\n     <use style=\"fill:#1f77b4;stroke:#1f77b4;\" x=\"76.793656\" xlink:href=\"#m6187e019d2\" y=\"206.645704\"/>\r\n     <use style=\"fill:#1f77b4;stroke:#1f77b4;\" x=\"337.956942\" xlink:href=\"#m6187e019d2\" y=\"49.026634\"/>\r\n     <use style=\"fill:#1f77b4;stroke:#1f77b4;\" x=\"327.173438\" xlink:href=\"#m6187e019d2\" y=\"62.362168\"/>\r\n     <use style=\"fill:#1f77b4;stroke:#1f77b4;\" x=\"171.389857\" xlink:href=\"#m6187e019d2\" y=\"178.03974\"/>\r\n     <use style=\"fill:#1f77b4;stroke:#1f77b4;\" x=\"279.008349\" xlink:href=\"#m6187e019d2\" y=\"119.44426\"/>\r\n     <use style=\"fill:#1f77b4;stroke:#1f77b4;\" x=\"234.403587\" xlink:href=\"#m6187e019d2\" y=\"143.947422\"/>\r\n     <use style=\"fill:#1f77b4;stroke:#1f77b4;\" x=\"185.688806\" xlink:href=\"#m6187e019d2\" y=\"174.944031\"/>\r\n     <use style=\"fill:#1f77b4;stroke:#1f77b4;\" x=\"168.412064\" xlink:href=\"#m6187e019d2\" y=\"170.972905\"/>\r\n     <use style=\"fill:#1f77b4;stroke:#1f77b4;\" x=\"62.730205\" xlink:href=\"#m6187e019d2\" y=\"202.800515\"/>\r\n     <use style=\"fill:#1f77b4;stroke:#1f77b4;\" x=\"233.264426\" xlink:href=\"#m6187e019d2\" y=\"154.854901\"/>\r\n     <use style=\"fill:#1f77b4;stroke:#1f77b4;\" x=\"191.757922\" xlink:href=\"#m6187e019d2\" y=\"162.805893\"/>\r\n     <use style=\"fill:#1f77b4;stroke:#1f77b4;\" x=\"324.713665\" xlink:href=\"#m6187e019d2\" y=\"71.335028\"/>\r\n     <use style=\"fill:#1f77b4;stroke:#1f77b4;\" x=\"183.444452\" xlink:href=\"#m6187e019d2\" y=\"164.188427\"/>\r\n     <use style=\"fill:#1f77b4;stroke:#1f77b4;\" x=\"155.089254\" xlink:href=\"#m6187e019d2\" y=\"183.17658\"/>\r\n     <use style=\"fill:#1f77b4;stroke:#1f77b4;\" x=\"99.445823\" xlink:href=\"#m6187e019d2\" y=\"206.713699\"/>\r\n     <use style=\"fill:#1f77b4;stroke:#1f77b4;\" x=\"109.581355\" xlink:href=\"#m6187e019d2\" y=\"189.024576\"/>\r\n     <use style=\"fill:#1f77b4;stroke:#1f77b4;\" x=\"242.217411\" xlink:href=\"#m6187e019d2\" y=\"145.333879\"/>\r\n     <use style=\"fill:#1f77b4;stroke:#1f77b4;\" x=\"252.511423\" xlink:href=\"#m6187e019d2\" y=\"130.826323\"/>\r\n     <use style=\"fill:#1f77b4;stroke:#1f77b4;\" x=\"178.962251\" xlink:href=\"#m6187e019d2\" y=\"171.786016\"/>\r\n     <use style=\"fill:#1f77b4;stroke:#1f77b4;\" x=\"210.743876\" xlink:href=\"#m6187e019d2\" y=\"160.576216\"/>\r\n     <use style=\"fill:#1f77b4;stroke:#1f77b4;\" x=\"239.118719\" xlink:href=\"#m6187e019d2\" y=\"137.844862\"/>\r\n     <use style=\"fill:#1f77b4;stroke:#1f77b4;\" x=\"274.586753\" xlink:href=\"#m6187e019d2\" y=\"116.921882\"/>\r\n     <use style=\"fill:#1f77b4;stroke:#1f77b4;\" x=\"306.558208\" xlink:href=\"#m6187e019d2\" y=\"79.950949\"/>\r\n     <use style=\"fill:#1f77b4;stroke:#1f77b4;\" x=\"269.765009\" xlink:href=\"#m6187e019d2\" y=\"126.613433\"/>\r\n     <use style=\"fill:#1f77b4;stroke:#1f77b4;\" x=\"143.617105\" xlink:href=\"#m6187e019d2\" y=\"180.716966\"/>\r\n     <use style=\"fill:#1f77b4;stroke:#1f77b4;\" x=\"266.919872\" xlink:href=\"#m6187e019d2\" y=\"116.564781\"/>\r\n     <use style=\"fill:#1f77b4;stroke:#1f77b4;\" x=\"73.041497\" xlink:href=\"#m6187e019d2\" y=\"195.252491\"/>\r\n     <use style=\"fill:#1f77b4;stroke:#1f77b4;\" x=\"49.210964\" xlink:href=\"#m6187e019d2\" y=\"209.858416\"/>\r\n     <use style=\"fill:#1f77b4;stroke:#1f77b4;\" x=\"140.525675\" xlink:href=\"#m6187e019d2\" y=\"179.655004\"/>\r\n     <use style=\"fill:#1f77b4;stroke:#1f77b4;\" x=\"167.358639\" xlink:href=\"#m6187e019d2\" y=\"176.835127\"/>\r\n     <use style=\"fill:#1f77b4;stroke:#1f77b4;\" x=\"139.971229\" xlink:href=\"#m6187e019d2\" y=\"183.626063\"/>\r\n     <use style=\"fill:#1f77b4;stroke:#1f77b4;\" x=\"258.545433\" xlink:href=\"#m6187e019d2\" y=\"133.06082\"/>\r\n     <use style=\"fill:#1f77b4;stroke:#1f77b4;\" x=\"178.407321\" xlink:href=\"#m6187e019d2\" y=\"184.399547\"/>\r\n     <use style=\"fill:#1f77b4;stroke:#1f77b4;\" x=\"121.679033\" xlink:href=\"#m6187e019d2\" y=\"181.913741\"/>\r\n     <use style=\"fill:#1f77b4;stroke:#1f77b4;\" x=\"258.134283\" xlink:href=\"#m6187e019d2\" y=\"123.923743\"/>\r\n     <use style=\"fill:#1f77b4;stroke:#1f77b4;\" x=\"73.269748\" xlink:href=\"#m6187e019d2\" y=\"198.049249\"/>\r\n     <use style=\"fill:#1f77b4;stroke:#1f77b4;\" x=\"272.768041\" xlink:href=\"#m6187e019d2\" y=\"108.345551\"/>\r\n     <use style=\"fill:#1f77b4;stroke:#1f77b4;\" x=\"178.686132\" xlink:href=\"#m6187e019d2\" y=\"164.311681\"/>\r\n     <use style=\"fill:#1f77b4;stroke:#1f77b4;\" x=\"149.286704\" xlink:href=\"#m6187e019d2\" y=\"185.299275\"/>\r\n     <use style=\"fill:#1f77b4;stroke:#1f77b4;\" x=\"89.28278\" xlink:href=\"#m6187e019d2\" y=\"197.335893\"/>\r\n     <use style=\"fill:#1f77b4;stroke:#1f77b4;\" x=\"181.174267\" xlink:href=\"#m6187e019d2\" y=\"176.864658\"/>\r\n     <use style=\"fill:#1f77b4;stroke:#1f77b4;\" x=\"305.910363\" xlink:href=\"#m6187e019d2\" y=\"98.949877\"/>\r\n     <use style=\"fill:#1f77b4;stroke:#1f77b4;\" x=\"296.501375\" xlink:href=\"#m6187e019d2\" y=\"103.821312\"/>\r\n     <use style=\"fill:#1f77b4;stroke:#1f77b4;\" x=\"133.781566\" xlink:href=\"#m6187e019d2\" y=\"181.15284\"/>\r\n     <use style=\"fill:#1f77b4;stroke:#1f77b4;\" x=\"257.216439\" xlink:href=\"#m6187e019d2\" y=\"126.934145\"/>\r\n     <use style=\"fill:#1f77b4;stroke:#1f77b4;\" x=\"55.401109\" xlink:href=\"#m6187e019d2\" y=\"208.264629\"/>\r\n     <use style=\"fill:#1f77b4;stroke:#1f77b4;\" x=\"264.392226\" xlink:href=\"#m6187e019d2\" y=\"118.423653\"/>\r\n     <use style=\"fill:#1f77b4;stroke:#1f77b4;\" x=\"251.110721\" xlink:href=\"#m6187e019d2\" y=\"137.4755\"/>\r\n     <use style=\"fill:#1f77b4;stroke:#1f77b4;\" x=\"236.860247\" xlink:href=\"#m6187e019d2\" y=\"139.712825\"/>\r\n     <use style=\"fill:#1f77b4;stroke:#1f77b4;\" x=\"170.988483\" xlink:href=\"#m6187e019d2\" y=\"175.615153\"/>\r\n     <use style=\"fill:#1f77b4;stroke:#1f77b4;\" x=\"184.363169\" xlink:href=\"#m6187e019d2\" y=\"172.514641\"/>\r\n     <use style=\"fill:#1f77b4;stroke:#1f77b4;\" x=\"107.389379\" xlink:href=\"#m6187e019d2\" y=\"179.790183\"/>\r\n     <use style=\"fill:#1f77b4;stroke:#1f77b4;\" x=\"58.549739\" xlink:href=\"#m6187e019d2\" y=\"198.469841\"/>\r\n     <use style=\"fill:#1f77b4;stroke:#1f77b4;\" x=\"310.724183\" xlink:href=\"#m6187e019d2\" y=\"85.190751\"/>\r\n     <use style=\"fill:#1f77b4;stroke:#1f77b4;\" x=\"289.364266\" xlink:href=\"#m6187e019d2\" y=\"106.815169\"/>\r\n     <use style=\"fill:#1f77b4;stroke:#1f77b4;\" x=\"249.296746\" xlink:href=\"#m6187e019d2\" y=\"123.992786\"/>\r\n     <use style=\"fill:#1f77b4;stroke:#1f77b4;\" x=\"102.030867\" xlink:href=\"#m6187e019d2\" y=\"189.415854\"/>\r\n     <use style=\"fill:#1f77b4;stroke:#1f77b4;\" x=\"309.072879\" xlink:href=\"#m6187e019d2\" y=\"89.197964\"/>\r\n     <use style=\"fill:#1f77b4;stroke:#1f77b4;\" x=\"98.664797\" xlink:href=\"#m6187e019d2\" y=\"187.108408\"/>\r\n     <use style=\"fill:#1f77b4;stroke:#1f77b4;\" x=\"188.690032\" xlink:href=\"#m6187e019d2\" y=\"163.955619\"/>\r\n     <use style=\"fill:#1f77b4;stroke:#1f77b4;\" x=\"112.333481\" xlink:href=\"#m6187e019d2\" y=\"184.222102\"/>\r\n     <use style=\"fill:#1f77b4;stroke:#1f77b4;\" x=\"309.673535\" xlink:href=\"#m6187e019d2\" y=\"86.581672\"/>\r\n     <use style=\"fill:#1f77b4;stroke:#1f77b4;\" x=\"340.376023\" xlink:href=\"#m6187e019d2\" y=\"44.138735\"/>\r\n     <use style=\"fill:#1f77b4;stroke:#1f77b4;\" x=\"57.798953\" xlink:href=\"#m6187e019d2\" y=\"202.82725\"/>\r\n     <use style=\"fill:#1f77b4;stroke:#1f77b4;\" x=\"124.389388\" xlink:href=\"#m6187e019d2\" y=\"183.678075\"/>\r\n     <use style=\"fill:#1f77b4;stroke:#1f77b4;\" x=\"61.597447\" xlink:href=\"#m6187e019d2\" y=\"196.070418\"/>\r\n     <use style=\"fill:#1f77b4;stroke:#1f77b4;\" x=\"337.346236\" xlink:href=\"#m6187e019d2\" y=\"40.099989\"/>\r\n     <use style=\"fill:#1f77b4;stroke:#1f77b4;\" x=\"193.588531\" xlink:href=\"#m6187e019d2\" y=\"162.579948\"/>\r\n     <use style=\"fill:#1f77b4;stroke:#1f77b4;\" x=\"351.367097\" xlink:href=\"#m6187e019d2\" y=\"17.091098\"/>\r\n     <use style=\"fill:#1f77b4;stroke:#1f77b4;\" x=\"103.288568\" xlink:href=\"#m6187e019d2\" y=\"187.321517\"/>\r\n     <use style=\"fill:#1f77b4;stroke:#1f77b4;\" x=\"139.978017\" xlink:href=\"#m6187e019d2\" y=\"191.557046\"/>\r\n     <use style=\"fill:#1f77b4;stroke:#1f77b4;\" x=\"330.927134\" xlink:href=\"#m6187e019d2\" y=\"66.650436\"/>\r\n     <use style=\"fill:#1f77b4;stroke:#1f77b4;\" x=\"164.386402\" xlink:href=\"#m6187e019d2\" y=\"172.526516\"/>\r\n     <use style=\"fill:#1f77b4;stroke:#1f77b4;\" x=\"347.003015\" xlink:href=\"#m6187e019d2\" y=\"33.46888\"/>\r\n     <use style=\"fill:#1f77b4;stroke:#1f77b4;\" x=\"176.890941\" xlink:href=\"#m6187e019d2\" y=\"172.169971\"/>\r\n     <use style=\"fill:#1f77b4;stroke:#1f77b4;\" x=\"59.283403\" xlink:href=\"#m6187e019d2\" y=\"205.477093\"/>\r\n     <use style=\"fill:#1f77b4;stroke:#1f77b4;\" x=\"344.355499\" xlink:href=\"#m6187e019d2\" y=\"39.693088\"/>\r\n     <use style=\"fill:#1f77b4;stroke:#1f77b4;\" x=\"297.864833\" xlink:href=\"#m6187e019d2\" y=\"99.507617\"/>\r\n     <use style=\"fill:#1f77b4;stroke:#1f77b4;\" x=\"162.216596\" xlink:href=\"#m6187e019d2\" y=\"176.863572\"/>\r\n     <use style=\"fill:#1f77b4;stroke:#1f77b4;\" x=\"174.418107\" xlink:href=\"#m6187e019d2\" y=\"175.319722\"/>\r\n     <use style=\"fill:#1f77b4;stroke:#1f77b4;\" x=\"105.996335\" xlink:href=\"#m6187e019d2\" y=\"188.062257\"/>\r\n     <use style=\"fill:#1f77b4;stroke:#1f77b4;\" x=\"75.747502\" xlink:href=\"#m6187e019d2\" y=\"201.460435\"/>\r\n     <use style=\"fill:#1f77b4;stroke:#1f77b4;\" x=\"229.250548\" xlink:href=\"#m6187e019d2\" y=\"147.574106\"/>\r\n     <use style=\"fill:#1f77b4;stroke:#1f77b4;\" x=\"236.39199\" xlink:href=\"#m6187e019d2\" y=\"141.633164\"/>\r\n     <use style=\"fill:#1f77b4;stroke:#1f77b4;\" x=\"149.511852\" xlink:href=\"#m6187e019d2\" y=\"179.265207\"/>\r\n     <use style=\"fill:#1f77b4;stroke:#1f77b4;\" x=\"93.957803\" xlink:href=\"#m6187e019d2\" y=\"196.835262\"/>\r\n     <use style=\"fill:#1f77b4;stroke:#1f77b4;\" x=\"275.095975\" xlink:href=\"#m6187e019d2\" y=\"114.528548\"/>\r\n     <use style=\"fill:#1f77b4;stroke:#1f77b4;\" x=\"79.768537\" xlink:href=\"#m6187e019d2\" y=\"200.718724\"/>\r\n     <use style=\"fill:#1f77b4;stroke:#1f77b4;\" x=\"216.38017\" xlink:href=\"#m6187e019d2\" y=\"158.090288\"/>\r\n     <use style=\"fill:#1f77b4;stroke:#1f77b4;\" x=\"349.738911\" xlink:href=\"#m6187e019d2\" y=\"30.756361\"/>\r\n     <use style=\"fill:#1f77b4;stroke:#1f77b4;\" x=\"211.092664\" xlink:href=\"#m6187e019d2\" y=\"159.533255\"/>\r\n     <use style=\"fill:#1f77b4;stroke:#1f77b4;\" x=\"149.497757\" xlink:href=\"#m6187e019d2\" y=\"179.829142\"/>\r\n     <use style=\"fill:#1f77b4;stroke:#1f77b4;\" x=\"198.518515\" xlink:href=\"#m6187e019d2\" y=\"170.33042\"/>\r\n     <use style=\"fill:#1f77b4;stroke:#1f77b4;\" x=\"328.921026\" xlink:href=\"#m6187e019d2\" y=\"63.454878\"/>\r\n     <use style=\"fill:#1f77b4;stroke:#1f77b4;\" x=\"343.82934\" xlink:href=\"#m6187e019d2\" y=\"42.925274\"/>\r\n     <use style=\"fill:#1f77b4;stroke:#1f77b4;\" x=\"213.833311\" xlink:href=\"#m6187e019d2\" y=\"163.046599\"/>\r\n     <use style=\"fill:#1f77b4;stroke:#1f77b4;\" x=\"148.898163\" xlink:href=\"#m6187e019d2\" y=\"178.458574\"/>\r\n     <use style=\"fill:#1f77b4;stroke:#1f77b4;\" x=\"125.017706\" xlink:href=\"#m6187e019d2\" y=\"190.498485\"/>\r\n     <use style=\"fill:#1f77b4;stroke:#1f77b4;\" x=\"226.488108\" xlink:href=\"#m6187e019d2\" y=\"149.819754\"/>\r\n     <use style=\"fill:#1f77b4;stroke:#1f77b4;\" x=\"69.918703\" xlink:href=\"#m6187e019d2\" y=\"198.475816\"/>\r\n     <use style=\"fill:#1f77b4;stroke:#1f77b4;\" x=\"74.656489\" xlink:href=\"#m6187e019d2\" y=\"202.307663\"/>\r\n     <use style=\"fill:#1f77b4;stroke:#1f77b4;\" x=\"234.338523\" xlink:href=\"#m6187e019d2\" y=\"142.873209\"/>\r\n     <use style=\"fill:#1f77b4;stroke:#1f77b4;\" x=\"313.771577\" xlink:href=\"#m6187e019d2\" y=\"82.888426\"/>\r\n     <use style=\"fill:#1f77b4;stroke:#1f77b4;\" x=\"316.251471\" xlink:href=\"#m6187e019d2\" y=\"78.165472\"/>\r\n     <use style=\"fill:#1f77b4;stroke:#1f77b4;\" x=\"236.565648\" xlink:href=\"#m6187e019d2\" y=\"141.62584\"/>\r\n     <use style=\"fill:#1f77b4;stroke:#1f77b4;\" x=\"140.720204\" xlink:href=\"#m6187e019d2\" y=\"189.551147\"/>\r\n     <use style=\"fill:#1f77b4;stroke:#1f77b4;\" x=\"352.374269\" xlink:href=\"#m6187e019d2\" y=\"26.577839\"/>\r\n     <use style=\"fill:#1f77b4;stroke:#1f77b4;\" x=\"114.030345\" xlink:href=\"#m6187e019d2\" y=\"189.605194\"/>\r\n     <use style=\"fill:#1f77b4;stroke:#1f77b4;\" x=\"176.962719\" xlink:href=\"#m6187e019d2\" y=\"172.77917\"/>\r\n     <use style=\"fill:#1f77b4;stroke:#1f77b4;\" x=\"109.271633\" xlink:href=\"#m6187e019d2\" y=\"193.302349\"/>\r\n     <use style=\"fill:#1f77b4;stroke:#1f77b4;\" x=\"121.832845\" xlink:href=\"#m6187e019d2\" y=\"194.152634\"/>\r\n     <use style=\"fill:#1f77b4;stroke:#1f77b4;\" x=\"310.438972\" xlink:href=\"#m6187e019d2\" y=\"74.847948\"/>\r\n     <use style=\"fill:#1f77b4;stroke:#1f77b4;\" x=\"264.800875\" xlink:href=\"#m6187e019d2\" y=\"118.306446\"/>\r\n     <use style=\"fill:#1f77b4;stroke:#1f77b4;\" x=\"222.733689\" xlink:href=\"#m6187e019d2\" y=\"155.015348\"/>\r\n     <use style=\"fill:#1f77b4;stroke:#1f77b4;\" x=\"82.757\" xlink:href=\"#m6187e019d2\" y=\"205.698014\"/>\r\n     <use style=\"fill:#1f77b4;stroke:#1f77b4;\" x=\"244.425824\" xlink:href=\"#m6187e019d2\" y=\"139.181871\"/>\r\n     <use style=\"fill:#1f77b4;stroke:#1f77b4;\" x=\"332.216916\" xlink:href=\"#m6187e019d2\" y=\"58.973861\"/>\r\n    </g>\r\n   </g>\r\n   <g id=\"matplotlib.axis_1\">\r\n    <g id=\"xtick_1\">\r\n     <g id=\"line2d_1\">\r\n      <defs>\r\n       <path d=\"M 0 0 \r\nL 0 3.5 \r\n\" id=\"m28643e42f9\" style=\"stroke:#000000;stroke-width:0.8;\"/>\r\n      </defs>\r\n      <g>\r\n       <use style=\"stroke:#000000;stroke-width:0.8;\" x=\"48.569626\" xlink:href=\"#m28643e42f9\" y=\"224.64\"/>\r\n      </g>\r\n     </g>\r\n     <g id=\"text_1\">\r\n      <!-- 7 -->\r\n      <defs>\r\n       <path d=\"M 8.203125 72.90625 \r\nL 55.078125 72.90625 \r\nL 55.078125 68.703125 \r\nL 28.609375 0 \r\nL 18.3125 0 \r\nL 43.21875 64.59375 \r\nL 8.203125 64.59375 \r\nz\r\n\" id=\"DejaVuSans-55\"/>\r\n      </defs>\r\n      <g transform=\"translate(45.388376 239.238437)scale(0.1 -0.1)\">\r\n       <use xlink:href=\"#DejaVuSans-55\"/>\r\n      </g>\r\n     </g>\r\n    </g>\r\n    <g id=\"xtick_2\">\r\n     <g id=\"line2d_2\">\r\n      <g>\r\n       <use style=\"stroke:#000000;stroke-width:0.8;\" x=\"103.817163\" xlink:href=\"#m28643e42f9\" y=\"224.64\"/>\r\n      </g>\r\n     </g>\r\n     <g id=\"text_2\">\r\n      <!-- 8 -->\r\n      <defs>\r\n       <path d=\"M 31.78125 34.625 \r\nQ 24.75 34.625 20.71875 30.859375 \r\nQ 16.703125 27.09375 16.703125 20.515625 \r\nQ 16.703125 13.921875 20.71875 10.15625 \r\nQ 24.75 6.390625 31.78125 6.390625 \r\nQ 38.8125 6.390625 42.859375 10.171875 \r\nQ 46.921875 13.96875 46.921875 20.515625 \r\nQ 46.921875 27.09375 42.890625 30.859375 \r\nQ 38.875 34.625 31.78125 34.625 \r\nz\r\nM 21.921875 38.8125 \r\nQ 15.578125 40.375 12.03125 44.71875 \r\nQ 8.5 49.078125 8.5 55.328125 \r\nQ 8.5 64.0625 14.71875 69.140625 \r\nQ 20.953125 74.21875 31.78125 74.21875 \r\nQ 42.671875 74.21875 48.875 69.140625 \r\nQ 55.078125 64.0625 55.078125 55.328125 \r\nQ 55.078125 49.078125 51.53125 44.71875 \r\nQ 48 40.375 41.703125 38.8125 \r\nQ 48.828125 37.15625 52.796875 32.3125 \r\nQ 56.78125 27.484375 56.78125 20.515625 \r\nQ 56.78125 9.90625 50.3125 4.234375 \r\nQ 43.84375 -1.421875 31.78125 -1.421875 \r\nQ 19.734375 -1.421875 13.25 4.234375 \r\nQ 6.78125 9.90625 6.78125 20.515625 \r\nQ 6.78125 27.484375 10.78125 32.3125 \r\nQ 14.796875 37.15625 21.921875 38.8125 \r\nz\r\nM 18.3125 54.390625 \r\nQ 18.3125 48.734375 21.84375 45.5625 \r\nQ 25.390625 42.390625 31.78125 42.390625 \r\nQ 38.140625 42.390625 41.71875 45.5625 \r\nQ 45.3125 48.734375 45.3125 54.390625 \r\nQ 45.3125 60.0625 41.71875 63.234375 \r\nQ 38.140625 66.40625 31.78125 66.40625 \r\nQ 25.390625 66.40625 21.84375 63.234375 \r\nQ 18.3125 60.0625 18.3125 54.390625 \r\nz\r\n\" id=\"DejaVuSans-56\"/>\r\n      </defs>\r\n      <g transform=\"translate(100.635913 239.238437)scale(0.1 -0.1)\">\r\n       <use xlink:href=\"#DejaVuSans-56\"/>\r\n      </g>\r\n     </g>\r\n    </g>\r\n    <g id=\"xtick_3\">\r\n     <g id=\"line2d_3\">\r\n      <g>\r\n       <use style=\"stroke:#000000;stroke-width:0.8;\" x=\"159.064699\" xlink:href=\"#m28643e42f9\" y=\"224.64\"/>\r\n      </g>\r\n     </g>\r\n     <g id=\"text_3\">\r\n      <!-- 9 -->\r\n      <defs>\r\n       <path d=\"M 10.984375 1.515625 \r\nL 10.984375 10.5 \r\nQ 14.703125 8.734375 18.5 7.8125 \r\nQ 22.3125 6.890625 25.984375 6.890625 \r\nQ 35.75 6.890625 40.890625 13.453125 \r\nQ 46.046875 20.015625 46.78125 33.40625 \r\nQ 43.953125 29.203125 39.59375 26.953125 \r\nQ 35.25 24.703125 29.984375 24.703125 \r\nQ 19.046875 24.703125 12.671875 31.3125 \r\nQ 6.296875 37.9375 6.296875 49.421875 \r\nQ 6.296875 60.640625 12.9375 67.421875 \r\nQ 19.578125 74.21875 30.609375 74.21875 \r\nQ 43.265625 74.21875 49.921875 64.515625 \r\nQ 56.59375 54.828125 56.59375 36.375 \r\nQ 56.59375 19.140625 48.40625 8.859375 \r\nQ 40.234375 -1.421875 26.421875 -1.421875 \r\nQ 22.703125 -1.421875 18.890625 -0.6875 \r\nQ 15.09375 0.046875 10.984375 1.515625 \r\nz\r\nM 30.609375 32.421875 \r\nQ 37.25 32.421875 41.125 36.953125 \r\nQ 45.015625 41.5 45.015625 49.421875 \r\nQ 45.015625 57.28125 41.125 61.84375 \r\nQ 37.25 66.40625 30.609375 66.40625 \r\nQ 23.96875 66.40625 20.09375 61.84375 \r\nQ 16.21875 57.28125 16.21875 49.421875 \r\nQ 16.21875 41.5 20.09375 36.953125 \r\nQ 23.96875 32.421875 30.609375 32.421875 \r\nz\r\n\" id=\"DejaVuSans-57\"/>\r\n      </defs>\r\n      <g transform=\"translate(155.883449 239.238437)scale(0.1 -0.1)\">\r\n       <use xlink:href=\"#DejaVuSans-57\"/>\r\n      </g>\r\n     </g>\r\n    </g>\r\n    <g id=\"xtick_4\">\r\n     <g id=\"line2d_4\">\r\n      <g>\r\n       <use style=\"stroke:#000000;stroke-width:0.8;\" x=\"214.312236\" xlink:href=\"#m28643e42f9\" y=\"224.64\"/>\r\n      </g>\r\n     </g>\r\n     <g id=\"text_4\">\r\n      <!-- 10 -->\r\n      <defs>\r\n       <path d=\"M 12.40625 8.296875 \r\nL 28.515625 8.296875 \r\nL 28.515625 63.921875 \r\nL 10.984375 60.40625 \r\nL 10.984375 69.390625 \r\nL 28.421875 72.90625 \r\nL 38.28125 72.90625 \r\nL 38.28125 8.296875 \r\nL 54.390625 8.296875 \r\nL 54.390625 0 \r\nL 12.40625 0 \r\nz\r\n\" id=\"DejaVuSans-49\"/>\r\n       <path d=\"M 31.78125 66.40625 \r\nQ 24.171875 66.40625 20.328125 58.90625 \r\nQ 16.5 51.421875 16.5 36.375 \r\nQ 16.5 21.390625 20.328125 13.890625 \r\nQ 24.171875 6.390625 31.78125 6.390625 \r\nQ 39.453125 6.390625 43.28125 13.890625 \r\nQ 47.125 21.390625 47.125 36.375 \r\nQ 47.125 51.421875 43.28125 58.90625 \r\nQ 39.453125 66.40625 31.78125 66.40625 \r\nz\r\nM 31.78125 74.21875 \r\nQ 44.046875 74.21875 50.515625 64.515625 \r\nQ 56.984375 54.828125 56.984375 36.375 \r\nQ 56.984375 17.96875 50.515625 8.265625 \r\nQ 44.046875 -1.421875 31.78125 -1.421875 \r\nQ 19.53125 -1.421875 13.0625 8.265625 \r\nQ 6.59375 17.96875 6.59375 36.375 \r\nQ 6.59375 54.828125 13.0625 64.515625 \r\nQ 19.53125 74.21875 31.78125 74.21875 \r\nz\r\n\" id=\"DejaVuSans-48\"/>\r\n      </defs>\r\n      <g transform=\"translate(207.949736 239.238437)scale(0.1 -0.1)\">\r\n       <use xlink:href=\"#DejaVuSans-49\"/>\r\n       <use x=\"63.623047\" xlink:href=\"#DejaVuSans-48\"/>\r\n      </g>\r\n     </g>\r\n    </g>\r\n    <g id=\"xtick_5\">\r\n     <g id=\"line2d_5\">\r\n      <g>\r\n       <use style=\"stroke:#000000;stroke-width:0.8;\" x=\"269.559773\" xlink:href=\"#m28643e42f9\" y=\"224.64\"/>\r\n      </g>\r\n     </g>\r\n     <g id=\"text_5\">\r\n      <!-- 11 -->\r\n      <g transform=\"translate(263.197273 239.238437)scale(0.1 -0.1)\">\r\n       <use xlink:href=\"#DejaVuSans-49\"/>\r\n       <use x=\"63.623047\" xlink:href=\"#DejaVuSans-49\"/>\r\n      </g>\r\n     </g>\r\n    </g>\r\n    <g id=\"xtick_6\">\r\n     <g id=\"line2d_6\">\r\n      <g>\r\n       <use style=\"stroke:#000000;stroke-width:0.8;\" x=\"324.80731\" xlink:href=\"#m28643e42f9\" y=\"224.64\"/>\r\n      </g>\r\n     </g>\r\n     <g id=\"text_6\">\r\n      <!-- 12 -->\r\n      <defs>\r\n       <path d=\"M 19.1875 8.296875 \r\nL 53.609375 8.296875 \r\nL 53.609375 0 \r\nL 7.328125 0 \r\nL 7.328125 8.296875 \r\nQ 12.9375 14.109375 22.625 23.890625 \r\nQ 32.328125 33.6875 34.8125 36.53125 \r\nQ 39.546875 41.84375 41.421875 45.53125 \r\nQ 43.3125 49.21875 43.3125 52.78125 \r\nQ 43.3125 58.59375 39.234375 62.25 \r\nQ 35.15625 65.921875 28.609375 65.921875 \r\nQ 23.96875 65.921875 18.8125 64.3125 \r\nQ 13.671875 62.703125 7.8125 59.421875 \r\nL 7.8125 69.390625 \r\nQ 13.765625 71.78125 18.9375 73 \r\nQ 24.125 74.21875 28.421875 74.21875 \r\nQ 39.75 74.21875 46.484375 68.546875 \r\nQ 53.21875 62.890625 53.21875 53.421875 \r\nQ 53.21875 48.921875 51.53125 44.890625 \r\nQ 49.859375 40.875 45.40625 35.40625 \r\nQ 44.1875 33.984375 37.640625 27.21875 \r\nQ 31.109375 20.453125 19.1875 8.296875 \r\nz\r\n\" id=\"DejaVuSans-50\"/>\r\n      </defs>\r\n      <g transform=\"translate(318.44481 239.238437)scale(0.1 -0.1)\">\r\n       <use xlink:href=\"#DejaVuSans-49\"/>\r\n       <use x=\"63.623047\" xlink:href=\"#DejaVuSans-50\"/>\r\n      </g>\r\n     </g>\r\n    </g>\r\n   </g>\r\n   <g id=\"matplotlib.axis_2\">\r\n    <g id=\"ytick_1\">\r\n     <g id=\"line2d_7\">\r\n      <defs>\r\n       <path d=\"M 0 0 \r\nL -3.5 0 \r\n\" id=\"m3789e49602\" style=\"stroke:#000000;stroke-width:0.8;\"/>\r\n      </defs>\r\n      <g>\r\n       <use style=\"stroke:#000000;stroke-width:0.8;\" x=\"33.2875\" xlink:href=\"#m3789e49602\" y=\"220.39685\"/>\r\n      </g>\r\n     </g>\r\n     <g id=\"text_7\">\r\n      <!-- 0 -->\r\n      <g transform=\"translate(19.925 224.196069)scale(0.1 -0.1)\">\r\n       <use xlink:href=\"#DejaVuSans-48\"/>\r\n      </g>\r\n     </g>\r\n    </g>\r\n    <g id=\"ytick_2\">\r\n     <g id=\"line2d_8\">\r\n      <g>\r\n       <use style=\"stroke:#000000;stroke-width:0.8;\" x=\"33.2875\" xlink:href=\"#m3789e49602\" y=\"193.357476\"/>\r\n      </g>\r\n     </g>\r\n     <g id=\"text_8\">\r\n      <!-- 50 -->\r\n      <defs>\r\n       <path d=\"M 10.796875 72.90625 \r\nL 49.515625 72.90625 \r\nL 49.515625 64.59375 \r\nL 19.828125 64.59375 \r\nL 19.828125 46.734375 \r\nQ 21.96875 47.46875 24.109375 47.828125 \r\nQ 26.265625 48.1875 28.421875 48.1875 \r\nQ 40.625 48.1875 47.75 41.5 \r\nQ 54.890625 34.8125 54.890625 23.390625 \r\nQ 54.890625 11.625 47.5625 5.09375 \r\nQ 40.234375 -1.421875 26.90625 -1.421875 \r\nQ 22.3125 -1.421875 17.546875 -0.640625 \r\nQ 12.796875 0.140625 7.71875 1.703125 \r\nL 7.71875 11.625 \r\nQ 12.109375 9.234375 16.796875 8.0625 \r\nQ 21.484375 6.890625 26.703125 6.890625 \r\nQ 35.15625 6.890625 40.078125 11.328125 \r\nQ 45.015625 15.765625 45.015625 23.390625 \r\nQ 45.015625 31 40.078125 35.4375 \r\nQ 35.15625 39.890625 26.703125 39.890625 \r\nQ 22.75 39.890625 18.8125 39.015625 \r\nQ 14.890625 38.140625 10.796875 36.28125 \r\nz\r\n\" id=\"DejaVuSans-53\"/>\r\n      </defs>\r\n      <g transform=\"translate(13.5625 197.156695)scale(0.1 -0.1)\">\r\n       <use xlink:href=\"#DejaVuSans-53\"/>\r\n       <use x=\"63.623047\" xlink:href=\"#DejaVuSans-48\"/>\r\n      </g>\r\n     </g>\r\n    </g>\r\n    <g id=\"ytick_3\">\r\n     <g id=\"line2d_9\">\r\n      <g>\r\n       <use style=\"stroke:#000000;stroke-width:0.8;\" x=\"33.2875\" xlink:href=\"#m3789e49602\" y=\"166.318101\"/>\r\n      </g>\r\n     </g>\r\n     <g id=\"text_9\">\r\n      <!-- 100 -->\r\n      <g transform=\"translate(7.2 170.11732)scale(0.1 -0.1)\">\r\n       <use xlink:href=\"#DejaVuSans-49\"/>\r\n       <use x=\"63.623047\" xlink:href=\"#DejaVuSans-48\"/>\r\n       <use x=\"127.246094\" xlink:href=\"#DejaVuSans-48\"/>\r\n      </g>\r\n     </g>\r\n    </g>\r\n    <g id=\"ytick_4\">\r\n     <g id=\"line2d_10\">\r\n      <g>\r\n       <use style=\"stroke:#000000;stroke-width:0.8;\" x=\"33.2875\" xlink:href=\"#m3789e49602\" y=\"139.278727\"/>\r\n      </g>\r\n     </g>\r\n     <g id=\"text_10\">\r\n      <!-- 150 -->\r\n      <g transform=\"translate(7.2 143.077946)scale(0.1 -0.1)\">\r\n       <use xlink:href=\"#DejaVuSans-49\"/>\r\n       <use x=\"63.623047\" xlink:href=\"#DejaVuSans-53\"/>\r\n       <use x=\"127.246094\" xlink:href=\"#DejaVuSans-48\"/>\r\n      </g>\r\n     </g>\r\n    </g>\r\n    <g id=\"ytick_5\">\r\n     <g id=\"line2d_11\">\r\n      <g>\r\n       <use style=\"stroke:#000000;stroke-width:0.8;\" x=\"33.2875\" xlink:href=\"#m3789e49602\" y=\"112.239352\"/>\r\n      </g>\r\n     </g>\r\n     <g id=\"text_11\">\r\n      <!-- 200 -->\r\n      <g transform=\"translate(7.2 116.038571)scale(0.1 -0.1)\">\r\n       <use xlink:href=\"#DejaVuSans-50\"/>\r\n       <use x=\"63.623047\" xlink:href=\"#DejaVuSans-48\"/>\r\n       <use x=\"127.246094\" xlink:href=\"#DejaVuSans-48\"/>\r\n      </g>\r\n     </g>\r\n    </g>\r\n    <g id=\"ytick_6\">\r\n     <g id=\"line2d_12\">\r\n      <g>\r\n       <use style=\"stroke:#000000;stroke-width:0.8;\" x=\"33.2875\" xlink:href=\"#m3789e49602\" y=\"85.199978\"/>\r\n      </g>\r\n     </g>\r\n     <g id=\"text_12\">\r\n      <!-- 250 -->\r\n      <g transform=\"translate(7.2 88.999197)scale(0.1 -0.1)\">\r\n       <use xlink:href=\"#DejaVuSans-50\"/>\r\n       <use x=\"63.623047\" xlink:href=\"#DejaVuSans-53\"/>\r\n       <use x=\"127.246094\" xlink:href=\"#DejaVuSans-48\"/>\r\n      </g>\r\n     </g>\r\n    </g>\r\n    <g id=\"ytick_7\">\r\n     <g id=\"line2d_13\">\r\n      <g>\r\n       <use style=\"stroke:#000000;stroke-width:0.8;\" x=\"33.2875\" xlink:href=\"#m3789e49602\" y=\"58.160603\"/>\r\n      </g>\r\n     </g>\r\n     <g id=\"text_13\">\r\n      <!-- 300 -->\r\n      <defs>\r\n       <path d=\"M 40.578125 39.3125 \r\nQ 47.65625 37.796875 51.625 33 \r\nQ 55.609375 28.21875 55.609375 21.1875 \r\nQ 55.609375 10.40625 48.1875 4.484375 \r\nQ 40.765625 -1.421875 27.09375 -1.421875 \r\nQ 22.515625 -1.421875 17.65625 -0.515625 \r\nQ 12.796875 0.390625 7.625 2.203125 \r\nL 7.625 11.71875 \r\nQ 11.71875 9.328125 16.59375 8.109375 \r\nQ 21.484375 6.890625 26.8125 6.890625 \r\nQ 36.078125 6.890625 40.9375 10.546875 \r\nQ 45.796875 14.203125 45.796875 21.1875 \r\nQ 45.796875 27.640625 41.28125 31.265625 \r\nQ 36.765625 34.90625 28.71875 34.90625 \r\nL 20.21875 34.90625 \r\nL 20.21875 43.015625 \r\nL 29.109375 43.015625 \r\nQ 36.375 43.015625 40.234375 45.921875 \r\nQ 44.09375 48.828125 44.09375 54.296875 \r\nQ 44.09375 59.90625 40.109375 62.90625 \r\nQ 36.140625 65.921875 28.71875 65.921875 \r\nQ 24.65625 65.921875 20.015625 65.03125 \r\nQ 15.375 64.15625 9.8125 62.3125 \r\nL 9.8125 71.09375 \r\nQ 15.4375 72.65625 20.34375 73.4375 \r\nQ 25.25 74.21875 29.59375 74.21875 \r\nQ 40.828125 74.21875 47.359375 69.109375 \r\nQ 53.90625 64.015625 53.90625 55.328125 \r\nQ 53.90625 49.265625 50.4375 45.09375 \r\nQ 46.96875 40.921875 40.578125 39.3125 \r\nz\r\n\" id=\"DejaVuSans-51\"/>\r\n      </defs>\r\n      <g transform=\"translate(7.2 61.959822)scale(0.1 -0.1)\">\r\n       <use xlink:href=\"#DejaVuSans-51\"/>\r\n       <use x=\"63.623047\" xlink:href=\"#DejaVuSans-48\"/>\r\n       <use x=\"127.246094\" xlink:href=\"#DejaVuSans-48\"/>\r\n      </g>\r\n     </g>\r\n    </g>\r\n    <g id=\"ytick_8\">\r\n     <g id=\"line2d_14\">\r\n      <g>\r\n       <use style=\"stroke:#000000;stroke-width:0.8;\" x=\"33.2875\" xlink:href=\"#m3789e49602\" y=\"31.121229\"/>\r\n      </g>\r\n     </g>\r\n     <g id=\"text_14\">\r\n      <!-- 350 -->\r\n      <g transform=\"translate(7.2 34.920448)scale(0.1 -0.1)\">\r\n       <use xlink:href=\"#DejaVuSans-51\"/>\r\n       <use x=\"63.623047\" xlink:href=\"#DejaVuSans-53\"/>\r\n       <use x=\"127.246094\" xlink:href=\"#DejaVuSans-48\"/>\r\n      </g>\r\n     </g>\r\n    </g>\r\n   </g>\r\n   <g id=\"patch_3\">\r\n    <path d=\"M 33.2875 224.64 \r\nL 33.2875 7.2 \r\n\" style=\"fill:none;stroke:#000000;stroke-linecap:square;stroke-linejoin:miter;stroke-width:0.8;\"/>\r\n   </g>\r\n   <g id=\"patch_4\">\r\n    <path d=\"M 368.0875 224.64 \r\nL 368.0875 7.2 \r\n\" style=\"fill:none;stroke:#000000;stroke-linecap:square;stroke-linejoin:miter;stroke-width:0.8;\"/>\r\n   </g>\r\n   <g id=\"patch_5\">\r\n    <path d=\"M 33.2875 224.64 \r\nL 368.0875 224.64 \r\n\" style=\"fill:none;stroke:#000000;stroke-linecap:square;stroke-linejoin:miter;stroke-width:0.8;\"/>\r\n   </g>\r\n   <g id=\"patch_6\">\r\n    <path d=\"M 33.2875 7.2 \r\nL 368.0875 7.2 \r\n\" style=\"fill:none;stroke:#000000;stroke-linecap:square;stroke-linejoin:miter;stroke-width:0.8;\"/>\r\n   </g>\r\n  </g>\r\n </g>\r\n <defs>\r\n  <clipPath id=\"pbc70c5390f\">\r\n   <rect height=\"217.44\" width=\"334.8\" x=\"33.2875\" y=\"7.2\"/>\r\n  </clipPath>\r\n </defs>\r\n</svg>\r\n",
      "image/png": "[encoded data removed]"
     },
     "metadata": {
      "needs_background": "light"
     }
    }
   ],
   "source": [
    "from matplotlib import pyplot as plt\n",
    "\n",
    "# Scatter plot to see relationship\n",
    "plt.scatter(df.x,df.y) \n",
    "\n",
    "# (1) seems like there is a strong relationship here, but for sure it is not linear!\n",
    "\n",
    "# (2) what about univariate analysis? boxplots? "
   ]
  },
  {
   "cell_type": "markdown",
   "metadata": {},
   "source": [
    "## (4) Data preprocessing [TODO]"
   ]
  },
  {
   "cell_type": "markdown",
   "metadata": {},
   "source": [
    "#### (TODO) Data preprocessing step will enable us to get our hands on the data and to correct them in order to avoid as much as possible pitfalls in modeling   \n",
    "\n",
    "    (1) Drop vs. imputing\n",
    "    (2) Standardization? Normalization? -> based on the data visualization analysis\n",
    "    (3) Create a pipeline with point (4) Preprocessing + (5) Model definition x 2 + (6) Cross-validation + Hyper-parameter tuning -> get_score + (7) Metrics"
   ]
  },
  {
   "cell_type": "code",
   "execution_count": 14,
   "metadata": {},
   "outputs": [],
   "source": [
    "## (2) [From point (2)] Treat missings from explanatory (\"x\") \n",
    "\n",
    "# 1st approach -> Drop them\n",
    "df.dropna(axis=0,subset=[\"x\"], inplace=True)\n",
    "\n",
    "# 2nd approach -> Simple imputer (TODO)\n",
    "from sklearn.impute import SimpleImputer\n",
    "\n",
    "# 3rd approach -> More complex imputer -> KNN? (TODO)"
   ]
  },
  {
   "cell_type": "code",
   "execution_count": 15,
   "metadata": {},
   "outputs": [],
   "source": [
    "# Need to split train-validation sets before\n",
    "from sklearn.model_selection import train_test_split\n",
    "\n",
    "# Split between explanatory and predictor variable and reshaped to include another axis before splitting\n",
    "x = df.x.values.reshape(-1,1)\n",
    "y = df.y.values.reshape(-1,1)\n",
    "# x = df.x.to_numpy().reshape(-1,1) # same as x[:,np.newaxis]\n",
    "# y = df.y.to_numpy().reshape(-1,1)\n",
    "\n",
    "# Train-validation split with default parameters\n",
    "x_train,x_valid,y_train,y_valid = train_test_split(x,y)"
   ]
  },
  {
   "cell_type": "code",
   "execution_count": 18,
   "metadata": {},
   "outputs": [],
   "source": [
    "## Need to impute explanatory variable for higher-poly degrees\n",
    "from sklearn.preprocessing import PolynomialFeatures\n",
    "\n",
    "# Define a transformer (with default degree=2 for now)\n",
    "my_poly_transformer = PolynomialFeatures()\n",
    "\n",
    "# Fit the training data \n",
    "x_train_poly = my_poly_transformer.fit_transform(x_train)\n",
    "\n",
    "# Fit the validation data\n",
    "x_valid_poly = my_poly_transformer.fit_transform(x_valid)"
   ]
  },
  {
   "cell_type": "markdown",
   "metadata": {},
   "source": [
    "## (5) Model Definition"
   ]
  },
  {
   "cell_type": "markdown",
   "metadata": {},
   "source": [
    "#### (TODO) Based on the analysis we have conducted so far, we want to pick the best model that represents the relationship between the explanatory (x) and the dependent variable (y)"
   ]
  },
  {
   "cell_type": "markdown",
   "metadata": {},
   "source": [
    "(TODO) In this section we are going to defined two different regression models based on the analysis we conducted so far. Based on the visualizations, we already know that the relationship between the two variables is not linear, and for this reason we can exclude a linear regression model which would then underfit our data. We need to add more complexity to the models, and we do by introducing non-linearity in the model: Polynomial!"
   ]
  },
  {
   "cell_type": "code",
   "execution_count": 20,
   "metadata": {},
   "outputs": [],
   "source": [
    "from sklearn.linear_model import LinearRegression\n",
    "\n",
    "# Define the model\n",
    "lrm = LinearRegression()\n",
    "# Fit the model with training data\n",
    "# lrm.fit(x_train,y_train)\n",
    "lrm.fit(x_train_poly,y_train)\n",
    "# Predict the values using validation data\n",
    "# y_pred = lrm.predict(x_valid)\n",
    "y_poly_pred = lrm.predict(x_valid_poly)"
   ]
  },
  {
   "cell_type": "markdown",
   "metadata": {},
   "source": [
    "## (6) Model tuning and cross-validation for optimization"
   ]
  },
  {
   "cell_type": "markdown",
   "metadata": {},
   "source": [
    "#### (TODO) Is the model we picked the best we could possibly pick? We might need to twist a little the parameters in order to get the best model and at the same time we wish to take care of underfitting vs. overfitting and bias-variance trade-off issues "
   ]
  },
  {
   "cell_type": "code",
   "execution_count": null,
   "metadata": {},
   "outputs": [],
   "source": [
    "# No validation for linear model"
   ]
  },
  {
   "cell_type": "markdown",
   "metadata": {},
   "source": [
    "## (7) Metrics evaluation"
   ]
  },
  {
   "cell_type": "markdown",
   "metadata": {},
   "source": [
    "#### (TODO) MSE? RMSE? How should we evaluate the model performance? This might be included in cross-valudation and optimization of hyperparameters (such as the the polynomial line or regression!)"
   ]
  },
  {
   "cell_type": "code",
   "execution_count": 21,
   "metadata": {},
   "outputs": [
    {
     "output_type": "stream",
     "name": "stdout",
     "text": "RMSE: 12.602670535211193\nR2 Score: 0.9836144194900881\n"
    }
   ],
   "source": [
    "from sklearn.metrics import mean_squared_error\n",
    "from sklearn.metrics import r2_score\n",
    "\n",
    "# RMSE\n",
    "# rmse = np.sqrt(mean_squared_error(y_valid,y_pred))\n",
    "rmse = np.sqrt(mean_squared_error(y_valid,y_poly_pred))\n",
    "print(f\"RMSE: {rmse}\")\n",
    "\n",
    "# R2 Score: how much variance is explained by the model?\n",
    "# r2 = r2_score(y_valid,y_pred)\n",
    "r2 = r2_score(y_valid,y_poly_pred)\n",
    "print(f\"R2 Score: {r2}\")"
   ]
  },
  {
   "cell_type": "markdown",
   "metadata": {},
   "source": [
    "# (Bonus) Results"
   ]
  },
  {
   "cell_type": "code",
   "execution_count": null,
   "metadata": {},
   "outputs": [],
   "source": [
    "import operator\n",
    "\n",
    "plt.scatter(x, y, s=10)\n",
    "\n",
    "# sort the values of x before line plot\n",
    "# sort_axis = operator.itemgetter(0)\n",
    "# sorted_zip = sorted(zip(x_valid,y_pred), key=sort_axis)\n",
    "# x, y_pred = zip(*sorted_zip)\n",
    "# plt.plot(x, y_pred, color='m')\n",
    "\n",
    "# sort the values of x before line plot\n",
    "sort_axis = operator.itemgetter(0)\n",
    "sorted_zip = sorted(zip(x_valid,y_poly_pre), key=sort_axis)\n",
    "x, y_poly_pred = zip(*sorted_zip)\n",
    "plt.plot(x, y_poly_pred, color='m')"
   ]
  },
  {
   "cell_type": "markdown",
   "metadata": {},
   "source": [
    "## (8) Conclusions"
   ]
  },
  {
   "cell_type": "markdown",
   "metadata": {},
   "source": [
    "#### (TODO) What can we conclude from this analysis? Write a little description summarizing the findings and how we approach a final solution"
   ]
  },
  {
   "cell_type": "markdown",
   "metadata": {},
   "source": [
    "# (NO NEED TO LOOK BELOW HERE!) The rest? Is trial-and-error. Wish to follow the schedule delined in order to exploit a full end-to-end ML analysis!"
   ]
  },
  {
   "cell_type": "code",
   "execution_count": null,
   "metadata": {},
   "outputs": [],
   "source": [
    "def get_score(pol_degree=2):\n",
    "    \"\"\"\n",
    "        Function to evaluate the best hyperparameter for polynomial degree equation to fit the line with pipelines\n",
    "    \"\"\"\n",
    "    # (1) Define column transformers\n",
    "    # (2) Define model\n",
    "    # (3) Construct the pipeline and fit the model (with cross-validation)\n",
    "    # (4) Return the evaluation metrics\n",
    "    \n",
    "    pass"
   ]
  },
  {
   "cell_type": "markdown",
   "metadata": {},
   "source": [
    "# Handling missing values"
   ]
  },
  {
   "cell_type": "code",
   "execution_count": null,
   "metadata": {},
   "outputs": [],
   "source": [
    "# Train-validation set split\n",
    "X_train,X_valid,y_train,y_valid = train_test_split(df,df.y,random_state=1)"
   ]
  },
  {
   "cell_type": "code",
   "execution_count": null,
   "metadata": {},
   "outputs": [],
   "source": [
    "# Let's try with missing values\n",
    "# Retrieve the columns that have missings (all of them)\n",
    "cols_with_missings = [col for col in df.columns if df[col].isnull().any()]\n",
    "\n",
    "# Explicative situation for each column regarding missing values\n",
    "missing_values_count_by_cols = (df.isnull().sum())\n",
    "print(missing_values_count_by_cols[missing_values_count_by_cols > 0])"
   ]
  },
  {
   "cell_type": "code",
   "execution_count": null,
   "metadata": {},
   "outputs": [],
   "source": [
    "## Just drop values from a SUBSET!\n",
    "# df.dropna(axis=0,subset=['x'],inplace=True) # drops all the observations for which \"x\" is null\n",
    "# df.dropna(axis=0,subset=['y'],inplace=True) # drops all the observations for which \"y\" is null"
   ]
  },
  {
   "cell_type": "code",
   "execution_count": null,
   "metadata": {},
   "outputs": [],
   "source": [
    "# ## IMPUTING VALUES\n",
    "# from sklearn.impute import SimpleImputer\n",
    "\n",
    "# # Imputed values\n",
    "# my_imputer = SimpleImputer()\n",
    "# imputed_X_train = pd.DataFrame(my_imputer.fit_transform(X_train))\n",
    "# imputed_X_valid = pd.DataFrame(my_imputer.transform(X_valid))\n",
    "\n",
    "# # Restore column names\n",
    "# imputed_X_train.columns = X_train.columns\n",
    "# imputed_X_valid.columns = X_valid.columns"
   ]
  }
 ],
 "metadata": {
  "language_info": {
   "name": "python",
   "codemirror_mode": {
    "name": "ipython",
    "version": 3
   },
   "version": "3.7.6-final"
  },
  "orig_nbformat": 2,
  "file_extension": ".py",
  "mimetype": "text/x-python",
  "name": "python",
  "npconvert_exporter": "python",
  "pygments_lexer": "ipython3",
  "version": 3,
  "kernelspec": {
   "name": "python3",
   "display_name": "Python 3"
  }
 },
 "nbformat": 4,
 "nbformat_minor": 2
}